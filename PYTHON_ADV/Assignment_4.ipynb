{
 "cells": [
  {
   "cell_type": "markdown",
   "metadata": {},
   "source": [
    "# Q1. Which two operator overloading methods can you use in your classes to support iteration?"
   ]
  },
  {
   "cell_type": "code",
   "execution_count": 1,
   "metadata": {},
   "outputs": [
    {
     "name": "stdout",
     "output_type": "stream",
     "text": [
      "1  4  8  16  "
     ]
    }
   ],
   "source": [
    "# __iter__ and __next__ methods are used. \n",
    "# __iter__ is used to create iterator and __next__ is used in function next() to get next item.\n",
    "#At end, raise StopIteration exception\n",
    "\n",
    "# Following example gives running total for given list of numbers\n",
    "class RunningTotal:\n",
    "    def __init__(self,lnum):\n",
    "        self.lnum = lnum\n",
    "        self.ncurr = 0\n",
    "        self.nval = lnum[0]\n",
    "        \n",
    "    def __iter__(self):\n",
    "        return self\n",
    "    \n",
    "    def __next__(self):\n",
    "        if self.ncurr >= len(self.lnum):\n",
    "            raise StopIteration('End Reached')   #\n",
    "        elif self.ncurr>0:\n",
    "            self.nval += self.lnum[self.ncurr]\n",
    "        \n",
    "        self.ncurr += 1\n",
    "        return self.nval\n",
    "    \n",
    "obj = iter(RunningTotal([1,3,4,8]))\n",
    "for x in obj: print(x, end='  ')\n",
    "            "
   ]
  },
  {
   "cell_type": "markdown",
   "metadata": {},
   "source": [
    "# Q2. In what contexts do the two operator overloading methods manage printing?"
   ]
  },
  {
   "cell_type": "code",
   "execution_count": 2,
   "metadata": {},
   "outputs": [],
   "source": [
    "#__str__ and __repr__\n",
    "#__str__ if not defined will run __repr__\n",
    "# __str__ is used for formatted printing of object.\n",
    "# __repr__ is used for unique represenation of object. (Default implementation gives module, class and hex-id)"
   ]
  },
  {
   "cell_type": "markdown",
   "metadata": {},
   "source": [
    "# Q3. In a class, how do you intercept slice operations?"
   ]
  },
  {
   "cell_type": "code",
   "execution_count": 3,
   "metadata": {},
   "outputs": [
    {
     "name": "stdout",
     "output_type": "stream",
     "text": [
      "Acual list [3, 7, 11, 5, 1, 8, 2]\n",
      "Sublist 2:5  [1, 5, 11]\n"
     ]
    }
   ],
   "source": [
    "# __getitem__(self,slice) slice object will slice data in [] paranthesis\n",
    "#[] is overloaded to return sorted list of items.\n",
    "\n",
    "class SortedSubList:\n",
    "    def __init__(self,lnum):\n",
    "        self.lnum=lnum\n",
    "        \n",
    "    def __getitem__(self,sl):\n",
    "        l = self.lnum[sl]\n",
    "        l.sort()\n",
    "        return l\n",
    "\n",
    "lst = [3,7,11,5,1,8,2]    \n",
    "obj = SortedSubList(lst)\n",
    "print('Acual list', lst)\n",
    "print('Sublist 2:5 ',obj[2:5])"
   ]
  },
  {
   "cell_type": "markdown",
   "metadata": {},
   "source": [
    "# Q4. In a class, how do you capture in-place addition?"
   ]
  },
  {
   "cell_type": "code",
   "execution_count": 4,
   "metadata": {},
   "outputs": [
    {
     "name": "stdout",
     "output_type": "stream",
     "text": [
      "Inside iadd method\n",
      "Add object value: 17\n"
     ]
    }
   ],
   "source": [
    "# we use __iadd__ method for in-plcae addition. This works only for mutable objects.\n",
    "\n",
    "class Add:\n",
    "    def __init__(self,num):\n",
    "        self.num=num\n",
    "        self.x=7\n",
    "        \n",
    "    def __iadd__(self,x):\n",
    "        print('Inside iadd method')\n",
    "        self.num += x\n",
    "        return self\n",
    "\n",
    "    def __repr__(self):\n",
    "        return 'Add object value: ' +  str(self.num)\n",
    "\n",
    "obj=Add(5)\n",
    "obj += 12  # Calls __iadd__\n",
    "print(obj)"
   ]
  },
  {
   "cell_type": "markdown",
   "metadata": {},
   "source": [
    "# When is it appropriate to use operator overloading?"
   ]
  },
  {
   "cell_type": "code",
   "execution_count": 5,
   "metadata": {},
   "outputs": [],
   "source": [
    "# Based on applications, sometimes operator take different meaning.(it just fits naturally, follow established norms)\n",
    "#eg. + operator for numeric addition, string concatenation, list merge, adding x,y co-ordinates separately in vector addition\n",
    "#Pathlib.Path module overloads \"/\" to join folders\n",
    "#Numpy has overloaded all operators for elementwise/vector operations.\n",
    "#__lt__ can be overridden to sort objects in a consistent manner."
   ]
  }
 ],
 "metadata": {
  "kernelspec": {
   "display_name": "Python 3",
   "language": "python",
   "name": "python3"
  },
  "language_info": {
   "codemirror_mode": {
    "name": "ipython",
    "version": 3
   },
   "file_extension": ".py",
   "mimetype": "text/x-python",
   "name": "python",
   "nbconvert_exporter": "python",
   "pygments_lexer": "ipython3",
   "version": "3.7.2"
  }
 },
 "nbformat": 4,
 "nbformat_minor": 2
}
