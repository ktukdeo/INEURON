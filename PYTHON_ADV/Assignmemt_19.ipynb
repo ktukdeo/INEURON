{
 "cells": [
  {
   "cell_type": "markdown",
   "metadata": {},
   "source": [
    "# Q1. Define the relationship between a class and its instances. Is it a one-to-one or a one-to-many partnership, for example?"
   ]
  },
  {
   "cell_type": "code",
   "execution_count": 1,
   "metadata": {},
   "outputs": [],
   "source": [
    "# The relation between class and instance is one to many. One class can have multiple instances.\n",
    "#eg we can have Employee class and multiple employees as instances"
   ]
  },
  {
   "cell_type": "markdown",
   "metadata": {},
   "source": [
    "# Q2. What kind of data is held only in an instance?"
   ]
  },
  {
   "cell_type": "code",
   "execution_count": 2,
   "metadata": {},
   "outputs": [],
   "source": [
    "# instance variables and instance attributes"
   ]
  },
  {
   "cell_type": "markdown",
   "metadata": {},
   "source": [
    "# Q3. What kind of knowledge is stored in a class?"
   ]
  },
  {
   "cell_type": "code",
   "execution_count": 3,
   "metadata": {},
   "outputs": [],
   "source": [
    "# Class contains inner classes, static attributes/methods, bound methods, static methods, class methods\n",
    "# It contains initialization code \n",
    "# Inheritance details"
   ]
  },
  {
   "cell_type": "markdown",
   "metadata": {},
   "source": [
    "# Q4. What exactly is a method, and how is it different from a regular function?"
   ]
  },
  {
   "cell_type": "code",
   "execution_count": 4,
   "metadata": {},
   "outputs": [],
   "source": [
    "# Instance method contains instance as first object. They are bound to instance.\n",
    "# SImilarly class methods, static methods are bound to class.\n",
    "# Regular function exists outside class and not related to any class."
   ]
  },
  {
   "cell_type": "markdown",
   "metadata": {},
   "source": [
    "# Q5. Is inheritance supported in Python, and if so, what is the syntax?"
   ]
  },
  {
   "cell_type": "code",
   "execution_count": 5,
   "metadata": {},
   "outputs": [],
   "source": [
    "# Python supports Multiple inheritance.\n",
    "#class A(B,C,D):    --  Class A is inherited from classes B,C and D"
   ]
  },
  {
   "cell_type": "markdown",
   "metadata": {},
   "source": [
    "# Q6. How much encapsulation (making instance or class variables private) does Python support?\n"
   ]
  },
  {
   "cell_type": "code",
   "execution_count": 6,
   "metadata": {},
   "outputs": [
    {
     "name": "stdout",
     "output_type": "stream",
     "text": [
      "Private attribute:  10\n"
     ]
    }
   ],
   "source": [
    "# Python does not support true Private attributes but supports name mangling.\n",
    "# Private attributes start with double underscore\n",
    "# Attribute changed to _Class__private_attr\n",
    "class A:\n",
    "    def __init__(self):\n",
    "        self.__private_attr=10\n",
    "\n",
    "a = A()\n",
    "print('Private attribute: ', a._A__private_attr)"
   ]
  },
  {
   "cell_type": "markdown",
   "metadata": {},
   "source": [
    "# Q7. How do you distinguish between a class variable and an instance variable?"
   ]
  },
  {
   "cell_type": "code",
   "execution_count": 7,
   "metadata": {},
   "outputs": [
    {
     "name": "stdout",
     "output_type": "stream",
     "text": [
      "Class Var:  10     Private Var:  20\n"
     ]
    }
   ],
   "source": [
    "#Instance variable is defined within instance method.\n",
    "#Class variable is in class block outside instance method.\n",
    "\n",
    "class A:\n",
    "    cls_attr = 10\n",
    "    def __init__(self):\n",
    "        self.inst_attr=20\n",
    "\n",
    "obj = A()\n",
    "print('Class Var: ', A.cls_attr,'    Private Var: ',obj.inst_attr)"
   ]
  },
  {
   "cell_type": "markdown",
   "metadata": {},
   "source": [
    "# Q8. When, if ever, can self be included in a class's method definitions?"
   ]
  },
  {
   "cell_type": "code",
   "execution_count": 8,
   "metadata": {},
   "outputs": [],
   "source": [
    "# In instance methods"
   ]
  },
  {
   "cell_type": "markdown",
   "metadata": {},
   "source": [
    "# Q9. What is the difference between the _ _add_ _ and the _ _radd_ _ methods?"
   ]
  },
  {
   "cell_type": "code",
   "execution_count": 9,
   "metadata": {},
   "outputs": [
    {
     "name": "stdout",
     "output_type": "stream",
     "text": [
      "Add method\n",
      "ADD:  10\n",
      "\n",
      "\n",
      "RAdd method\n",
      "RADD:  15\n"
     ]
    }
   ],
   "source": [
    "# __add__ method is used when adding right side object to custom object\n",
    "# __radd__ method is used when adding left side object to custom object. If left object does not implement method with\n",
    "# current object, TypeError is returned.Then system will look for radd method in the custom object.\n",
    "\n",
    "class A:\n",
    "    def __init__(self,x):\n",
    "        self.x = x\n",
    "        \n",
    "    def __add__(self,x):\n",
    "        print('Add method')\n",
    "        return A(self.x + x)\n",
    "    \n",
    "    def __radd__(self,x):\n",
    "        print('RAdd method')\n",
    "        return A(self.x + x)\n",
    "    \n",
    "obj = A(5)\n",
    "\n",
    "obj1 = obj + 5\n",
    "print('ADD: ',obj1.x)\n",
    "\n",
    "print('\\n')\n",
    "\n",
    "obj1 = 10 + obj\n",
    "print('RADD: ',obj1.x)\n"
   ]
  },
  {
   "cell_type": "markdown",
   "metadata": {},
   "source": [
    "# Q10. When is it necessary to use a reflection method? When do you not need it, even though you support the operation in question?\n"
   ]
  },
  {
   "cell_type": "code",
   "execution_count": 10,
   "metadata": {},
   "outputs": [
    {
     "name": "stdout",
     "output_type": "stream",
     "text": [
      "Before change:  10\n",
      "After update:  20\n",
      "INVALID assignment!! only x can be changed\n"
     ]
    }
   ],
   "source": [
    "# Python supports various reflection methods such as __dir()__, __getattr()__, __setattr__\n",
    "\n",
    "# Python is dynamic language and allows to add attributes dynamically. It can be restricted with setattr.\n",
    "class A:\n",
    "    def __init__(self):\n",
    "        self.x=10\n",
    "    def __setattr__(self,name,val):\n",
    "        if name != 'x':\n",
    "            print('INVALID assignment!! only x can be changed')\n",
    "        else:\n",
    "            super().__setattr__(name, val)\n",
    "a = A()\n",
    "print('Before change: ', getattr(a,'x'))\n",
    "setattr(a,'x',20)\n",
    "print('After update: ',a.x)\n",
    "\n",
    "a.y = 11  # dynamic attribute not allowed.\n",
    "        "
   ]
  },
  {
   "cell_type": "markdown",
   "metadata": {},
   "source": [
    "# Q11. What is the _ _iadd_ _ method called?"
   ]
  },
  {
   "cell_type": "code",
   "execution_count": 11,
   "metadata": {},
   "outputs": [],
   "source": [
    "# This represents '+=' operator and to be used on mutrable objects.\n",
    "# Else __add__ can also work if __iadd__ is not defined."
   ]
  },
  {
   "cell_type": "markdown",
   "metadata": {},
   "source": [
    "# Q12. Is the _ _init_ _ method inherited by subclasses? What do you do if you need to customize its behavior within a subclass?"
   ]
  },
  {
   "cell_type": "code",
   "execution_count": 13,
   "metadata": {},
   "outputs": [
    {
     "name": "stdout",
     "output_type": "stream",
     "text": [
      "Class B\n",
      "Class A\n"
     ]
    }
   ],
   "source": [
    "# No it is not inherited. Parent init is invoked by super() method\n",
    "class A:\n",
    "    def __init__(self):\n",
    "        print('Class A')\n",
    "        \n",
    "class B(A):\n",
    "    def __init__(self):\n",
    "        print('Class B')\n",
    "        super().__init__()\n",
    "        \n",
    "obj = B()\n",
    "\n"
   ]
  }
 ],
 "metadata": {
  "kernelspec": {
   "display_name": "Python 3",
   "language": "python",
   "name": "python3"
  },
  "language_info": {
   "codemirror_mode": {
    "name": "ipython",
    "version": 3
   },
   "file_extension": ".py",
   "mimetype": "text/x-python",
   "name": "python",
   "nbconvert_exporter": "python",
   "pygments_lexer": "ipython3",
   "version": "3.7.2"
  }
 },
 "nbformat": 4,
 "nbformat_minor": 2
}
