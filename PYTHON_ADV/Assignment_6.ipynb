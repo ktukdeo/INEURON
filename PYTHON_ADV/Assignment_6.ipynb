{
 "cells": [
  {
   "cell_type": "markdown",
   "metadata": {},
   "source": [
    "# Q1. Describe three applications for exception processing."
   ]
  },
  {
   "cell_type": "code",
   "execution_count": null,
   "metadata": {},
   "outputs": [],
   "source": [
    "#Division by 0 \n",
    "#File Not found(IO)\n",
    "#Index not found in list\n",
    "#Invalid file format while preprocessing interface file"
   ]
  },
  {
   "cell_type": "markdown",
   "metadata": {},
   "source": [
    "# Q2. What happens if you don&#39;t do something extra to treat an exception?"
   ]
  },
  {
   "cell_type": "code",
   "execution_count": null,
   "metadata": {},
   "outputs": [],
   "source": [
    "# Then progam exits inner function and tries to find try block in outer function.\n",
    "# If exception is not handled at all then program aborts"
   ]
  },
  {
   "cell_type": "markdown",
   "metadata": {},
   "source": [
    "# Q3. What are your options for recovering from an exception in your script?"
   ]
  },
  {
   "cell_type": "code",
   "execution_count": null,
   "metadata": {},
   "outputs": [],
   "source": [
    "#Using Except and finally block.\n",
    "#Except can catch specific exception or any exception.\n",
    "#finally will run regardless."
   ]
  },
  {
   "cell_type": "markdown",
   "metadata": {},
   "source": [
    "# Q4. Describe two methods for triggering exceptions in your script."
   ]
  },
  {
   "cell_type": "code",
   "execution_count": 7,
   "metadata": {},
   "outputs": [
    {
     "name": "stdout",
     "output_type": "stream",
     "text": [
      "Log:  ('Division by 0 custom error',)\n",
      "finally block\n"
     ]
    }
   ],
   "source": [
    "#assert and raise\n",
    "assert True, 'ALWAYS TRUE HENCE WILL NOT EXECUTE. ONLY FOR DEMO'\n",
    "try:\n",
    "    ndiv = 0\n",
    "    if ndiv==0:\n",
    "        raise Exception('Division by 0 custom error')\n",
    "    \n",
    "    b = 5/ndiv\n",
    "except Exception as e:\n",
    "    print('Log: ',e.args)\n",
    "finally:\n",
    "    print('finally block')"
   ]
  },
  {
   "cell_type": "markdown",
   "metadata": {},
   "source": [
    "# Q5. Identify two methods for specifying actions to be executed at termination time, regardless of\n",
    "whether or not an exception exists."
   ]
  },
  {
   "cell_type": "code",
   "execution_count": 13,
   "metadata": {},
   "outputs": [
    {
     "name": "stdout",
     "output_type": "stream",
     "text": [
      "enter method\n",
      "exit method\n",
      "<class 'ZeroDivisionError'> division by zero <traceback object at 0x0000014749422BC8>\n",
      "----------------------\n",
      "outside context manager\n"
     ]
    }
   ],
   "source": [
    "#Context manager uses __enter__, __exit__ methods to capture exceptions\n",
    "#We can also use try-finally block\n",
    "\n",
    "class A:\n",
    "    def __enter__(self):\n",
    "        print('enter method')\n",
    "        return self\n",
    "        \n",
    "    def __exit__(self,exc_type,exc_val,tback):\n",
    "        print('exit method')\n",
    "        print(exc_type,exc_val,tback)\n",
    "        print('----------------------')\n",
    "        return True\n",
    "\n",
    "with A() as b:\n",
    "    c=1/0\n",
    "\n",
    "print('outside context manager')"
   ]
  }
 ],
 "metadata": {
  "kernelspec": {
   "display_name": "Python 3",
   "language": "python",
   "name": "python3"
  },
  "language_info": {
   "codemirror_mode": {
    "name": "ipython",
    "version": 3
   },
   "file_extension": ".py",
   "mimetype": "text/x-python",
   "name": "python",
   "nbconvert_exporter": "python",
   "pygments_lexer": "ipython3",
   "version": "3.7.2"
  }
 },
 "nbformat": 4,
 "nbformat_minor": 2
}
