{
 "cells": [
  {
   "cell_type": "markdown",
   "metadata": {},
   "source": [
    "# Q1. What is the meaning of multiple inheritance?"
   ]
  },
  {
   "cell_type": "code",
   "execution_count": 1,
   "metadata": {},
   "outputs": [],
   "source": [
    "# If class derives from multiple classes and inherits methods/attributes. The inheritance is based on mro.\n",
    "# Multiple inheritance can also be used to implement Mixins."
   ]
  },
  {
   "cell_type": "markdown",
   "metadata": {},
   "source": [
    "# Q2. What is the concept of delegation?"
   ]
  },
  {
   "cell_type": "code",
   "execution_count": 2,
   "metadata": {},
   "outputs": [],
   "source": [
    "#Delegation is used to \"pass on\" work to the other class method which best handles it. \n",
    "#Inheritance leads to implicit delgation while composition/aggregation/mixins lead to explicit delegation."
   ]
  },
  {
   "cell_type": "markdown",
   "metadata": {},
   "source": [
    "# Q3. What is the concept of composition?"
   ]
  },
  {
   "cell_type": "code",
   "execution_count": null,
   "metadata": {},
   "outputs": [],
   "source": [
    "# Composition represents has-a/includes relationship between classes and leads to loose decoupling to help maintainability.\n",
    "# This also effectively delegates work to specialised class.\n",
    "class A:\n",
    "    self.x=5\n",
    "    def mthda(self):\n",
    "        pass\n",
    "\n",
    "class C:\n",
    "    def mthdc(self):\n",
    "        pass\n",
    "    \n",
    "class B:\n",
    "    def __init__(self,c): \n",
    "        self.a = A()  #composition\n",
    "        self.c = c   ##Aggregation\n",
    "        \n",
    "    def mthds(self):\n",
    "        self.a.mthda()\n",
    "\n",
    "c = C()\n",
    "b = B(c)\n",
    "\n",
    "# As can be seen above B class creates instance of A during initialization. It also passes instance of C.\n",
    "#Now class B has access to both class A and C methods/attributes."
   ]
  },
  {
   "cell_type": "markdown",
   "metadata": {},
   "source": [
    "# Q4. What are bound methods and how do we use them?"
   ]
  },
  {
   "cell_type": "code",
   "execution_count": 3,
   "metadata": {},
   "outputs": [],
   "source": [
    "# Bound methods are same as instance methods. They are passed self reference automatically and have full access to it.\n",
    "# These are called from object instance.\n",
    "class A:\n",
    "    def mthda(self): #bound method. First argument is also reference to object itself.\n",
    "        pass\n",
    "\n",
    "obj = A()\n",
    "obj.mthda() "
   ]
  },
  {
   "cell_type": "markdown",
   "metadata": {},
   "source": [
    "# Q5. What is the purpose of pseudoprivate attributes?"
   ]
  },
  {
   "cell_type": "code",
   "execution_count": 4,
   "metadata": {},
   "outputs": [
    {
     "name": "stdout",
     "output_type": "stream",
     "text": [
      "Private Attribute:  10\n"
     ]
    }
   ],
   "source": [
    "#Unlike other languages like C++, Java, Python does not have true private attributes which can not be accessed outside class.\n",
    "#Python \"private\" attributes start with 2 underscores and Python uses name-mangling feature to make it difficult \n",
    "#to access attribute elsewhere.\n",
    "#Example is given below\n",
    "class A:\n",
    "    def __init__(self):\n",
    "        self.__x = 10\n",
    "        \n",
    "obj=A()\n",
    "print('Private Attribute: ',obj._A__x)"
   ]
  },
  {
   "cell_type": "code",
   "execution_count": null,
   "metadata": {},
   "outputs": [],
   "source": []
  }
 ],
 "metadata": {
  "kernelspec": {
   "display_name": "Python 3",
   "language": "python",
   "name": "python3"
  },
  "language_info": {
   "codemirror_mode": {
    "name": "ipython",
    "version": 3
   },
   "file_extension": ".py",
   "mimetype": "text/x-python",
   "name": "python",
   "nbconvert_exporter": "python",
   "pygments_lexer": "ipython3",
   "version": "3.7.2"
  }
 },
 "nbformat": 4,
 "nbformat_minor": 2
}
