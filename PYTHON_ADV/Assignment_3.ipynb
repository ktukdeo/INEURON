{
 "cells": [
  {
   "cell_type": "markdown",
   "metadata": {},
   "source": [
    "# 1. What is the concept of an abstract superclass?"
   ]
  },
  {
   "cell_type": "code",
   "execution_count": 15,
   "metadata": {},
   "outputs": [],
   "source": [
    "#Python does not have any inbuilt abstract functionality. Instead abc module provides required functionality.\n",
    "#Abstract class has abc.ABC as a base class. It enforces implementations of all abstract methods by its subclass.\n",
    "#Python gives compile error instead of run time error leading to more robust code.\n",
    "\n",
    "from abc import ABC, abstractmethod\n",
    "class A(ABC):\n",
    "    @abstractmethod\n",
    "    def method1(self):\n",
    "        pass\n",
    "    \n",
    "    @abstractmethod\n",
    "    def method2(self):\n",
    "        print('A.method2')  #abstractmethod can also have implementation code.\n",
    "    \n",
    "class B(A):  #B derived from A\n",
    "    def method1(self):   #method1 implemented\n",
    "        print('B.method1')\n",
    "        \n",
    "    def method2(self):   #method2 overridden\n",
    "        super().method2()\n",
    "        print(B.methd2)\n",
    "        \n",
    "obj = B()  # If both methods not defined then compiler error"
   ]
  },
  {
   "cell_type": "markdown",
   "metadata": {},
   "source": [
    "# 2. What happens when a class statement's top level contains a basic assignment statement?"
   ]
  },
  {
   "cell_type": "code",
   "execution_count": 16,
   "metadata": {},
   "outputs": [
    {
     "name": "stdout",
     "output_type": "stream",
     "text": [
      "Class attribute:  10\n"
     ]
    }
   ],
   "source": [
    "# This will create class attributes. These can be accessed without creating object\n",
    "class A:\n",
    "    x=10\n",
    "    \n",
    "print('Class attribute: ',A.x)"
   ]
  },
  {
   "cell_type": "markdown",
   "metadata": {},
   "source": [
    "# 3. Why does a class need to manually call a superclass's __init__ method?"
   ]
  },
  {
   "cell_type": "code",
   "execution_count": null,
   "metadata": {},
   "outputs": [],
   "source": [
    "#In case of single inheritance, we may need to call superclass init method if init is defined for subclass/derived class.\n",
    "'''\n",
    "class A:\n",
    "    def __init__(self):\n",
    "        self.x=10\n",
    "\n",
    "class B(A):\n",
    "    def __init__(self):\n",
    "        self.y=6\n",
    "\n",
    "obj=B()\n",
    "print(obj.x)  ---- Error as super is not called.\n",
    "'''\n",
    "\n",
    "#In case of single inheritance, if init is not defined for sunclass but parent class contains init with arguments, then\n",
    "#subclass must define init with super call else we will get error while creating sublass object itself.\n",
    "\n",
    "'''\n",
    "class A:\n",
    "    def __init__(self, x): -- Argument passed\n",
    "        self.x=x\n",
    "\n",
    "class B(A):\n",
    "    pass    -- No init defined.\n",
    "\n",
    "obj=B()  -- Error while creating object B.\n",
    "print(obj.x)\n",
    "'''\n",
    "\n",
    "# Incase of complex multiple inhertitance, if we need to access instance attribute of superclass, \n",
    "# then we must define super init for EACH superclass defined by mro.\n",
    "''"
   ]
  },
  {
   "cell_type": "markdown",
   "metadata": {},
   "source": [
    "# 4. How can you augment, instead of completely replacing, an inherited method?"
   ]
  },
  {
   "cell_type": "code",
   "execution_count": 22,
   "metadata": {},
   "outputs": [
    {
     "name": "stdout",
     "output_type": "stream",
     "text": [
      "A - method\n",
      "B - method\n"
     ]
    }
   ],
   "source": [
    "#Wew can call inherited method first (super().method) followede by further updates to method.\n",
    "class A:\n",
    "    def mthd(self):\n",
    "        print('A - method')\n",
    "        \n",
    "class B(A):\n",
    "    def mthd(self):\n",
    "        super().mthd()  #call superclass implementation\n",
    "        print('B - method') #subclass processing\n",
    "obj = B()\n",
    "obj.mthd()"
   ]
  },
  {
   "cell_type": "markdown",
   "metadata": {},
   "source": [
    "# 5. How is the local scope of a class different from that of a function?"
   ]
  },
  {
   "cell_type": "code",
   "execution_count": null,
   "metadata": {},
   "outputs": [],
   "source": [
    "# Not sure what it means."
   ]
  }
 ],
 "metadata": {
  "kernelspec": {
   "display_name": "Python 3",
   "language": "python",
   "name": "python3"
  },
  "language_info": {
   "codemirror_mode": {
    "name": "ipython",
    "version": 3
   },
   "file_extension": ".py",
   "mimetype": "text/x-python",
   "name": "python",
   "nbconvert_exporter": "python",
   "pygments_lexer": "ipython3",
   "version": "3.7.2"
  }
 },
 "nbformat": 4,
 "nbformat_minor": 2
}
