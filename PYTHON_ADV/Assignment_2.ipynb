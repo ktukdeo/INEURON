{
 "cells": [
  {
   "cell_type": "markdown",
   "metadata": {},
   "source": [
    "# Q1. What is the relationship between classes and modules?"
   ]
  },
  {
   "cell_type": "code",
   "execution_count": 1,
   "metadata": {},
   "outputs": [],
   "source": [
    "# Classes are defined inside modules (which act as a collection of releval group of classes)"
   ]
  },
  {
   "cell_type": "markdown",
   "metadata": {},
   "source": [
    "# Q2. How do you make instances and classes?"
   ]
  },
  {
   "cell_type": "code",
   "execution_count": 2,
   "metadata": {},
   "outputs": [
    {
     "ename": "SyntaxError",
     "evalue": "invalid syntax (<ipython-input-2-f01158e47d95>, line 4)",
     "output_type": "error",
     "traceback": [
      "\u001b[1;36m  File \u001b[1;32m\"<ipython-input-2-f01158e47d95>\"\u001b[1;36m, line \u001b[1;32m4\u001b[0m\n\u001b[1;33m    __init__(self,a,b):\u001b[0m\n\u001b[1;37m                       ^\u001b[0m\n\u001b[1;31mSyntaxError\u001b[0m\u001b[1;31m:\u001b[0m invalid syntax\n"
     ]
    }
   ],
   "source": [
    "# You define a class and invoke it as a callable supplying arguments for its constructor.\n",
    "\n",
    "class A:   # Define class\n",
    "    __init__(self,a,b):\n",
    "        pass\n",
    "\n",
    "obj = A(2,4)  #Create instance"
   ]
  },
  {
   "cell_type": "markdown",
   "metadata": {},
   "source": [
    "# Q3. Where and how should be class attributes created?"
   ]
  },
  {
   "cell_type": "code",
   "execution_count": 3,
   "metadata": {},
   "outputs": [
    {
     "name": "stdout",
     "output_type": "stream",
     "text": [
      "10\n"
     ]
    }
   ],
   "source": [
    "# Class attributes are defined directly inside class block outside methods.\n",
    "class A:\n",
    "    x=10  #class attribute\n",
    "\n",
    "print(A.x) # does not need to instantiate the class"
   ]
  },
  {
   "cell_type": "markdown",
   "metadata": {},
   "source": [
    "# Q4. Where and how are instance attributes created?"
   ]
  },
  {
   "cell_type": "code",
   "execution_count": 4,
   "metadata": {},
   "outputs": [
    {
     "name": "stdout",
     "output_type": "stream",
     "text": [
      "5 2 12\n"
     ]
    }
   ],
   "source": [
    "# instance attributes are created inside instance method. Typically inside __init__ method\n",
    "# They can also be created dynamically from main program.\n",
    "class A:\n",
    "    def __init__(self):\n",
    "        self.x=5   #inside __init__\n",
    "        \n",
    "    def amethod(self):\n",
    "        self.a=2   #another instance attribute\n",
    "\n",
    "obj = A()\n",
    "obj.amethod()\n",
    "\n",
    "obj.y=12  #dynamic creation of attribute\n",
    "\n",
    "print(obj.x,obj.a,obj.y)"
   ]
  },
  {
   "cell_type": "markdown",
   "metadata": {},
   "source": [
    "# Q5. What does the term \"self\" in a Python class mean?"
   ]
  },
  {
   "cell_type": "code",
   "execution_count": 5,
   "metadata": {},
   "outputs": [
    {
     "name": "stdout",
     "output_type": "stream",
     "text": [
      "Class A\n",
      "class B - act method\n"
     ]
    }
   ],
   "source": [
    "# self refers to current object itself. This is also helpful in superclasses to access correct attribute/method\n",
    "class A:\n",
    "    def m1(self):\n",
    "        print('Class A')\n",
    "        self.act()  #accessing subclass method\n",
    "\n",
    "class B(A):\n",
    "    def act(self):\n",
    "        print('class B - act method')\n",
    "\n",
    "obj = B()\n",
    "obj.m1()  # accessing method via inheritance"
   ]
  },
  {
   "cell_type": "markdown",
   "metadata": {},
   "source": [
    "# Q6. How does a Python class handle operator overloading?"
   ]
  },
  {
   "cell_type": "code",
   "execution_count": 6,
   "metadata": {},
   "outputs": [
    {
     "name": "stdout",
     "output_type": "stream",
     "text": [
      "Current Population:  5000\n",
      "New population after adding 700:  5700\n"
     ]
    }
   ],
   "source": [
    "#Class uses dunder methods (eg __eq__, __lt__, __add__ etc) for operator overloading\n",
    "class City:\n",
    "    def __init__(self,n,p):\n",
    "        self.population=p\n",
    "        self.name=n\n",
    "    \n",
    "    def __add__(self,x):\n",
    "        self.population=self.population + x\n",
    "        return self.population\n",
    "    \n",
    "    \n",
    "obj_city = City('CITY-A',5000)\n",
    "print('Current Population: ', obj_city.population)\n",
    "print('New population after adding 700: ',obj_city + 700)\n"
   ]
  },
  {
   "cell_type": "markdown",
   "metadata": {},
   "source": [
    "# Q7. When do you consider allowing operator overloading of your classes?"
   ]
  },
  {
   "cell_type": "code",
   "execution_count": 7,
   "metadata": {},
   "outputs": [],
   "source": [
    "# Operator overloading follows naturally in some situations where the meaning of operation is clear.\n",
    "# In following example city are sorted based on population. \"<\" operator is overloaded for this."
   ]
  },
  {
   "cell_type": "code",
   "execution_count": 9,
   "metadata": {},
   "outputs": [
    {
     "data": {
      "text/plain": [
       "[Name: City-C  Population: 60,\n",
       " Name: CITY-A  Population: 100,\n",
       " Name: CITY-B  Population: 200]"
      ]
     },
     "execution_count": 9,
     "metadata": {},
     "output_type": "execute_result"
    }
   ],
   "source": [
    "class City:\n",
    "    def __init__(self,n,p):\n",
    "        self.population=p\n",
    "        self.name=n\n",
    "\n",
    "    \n",
    "    def __lt__(self,x):\n",
    "        return self.population < x.population\n",
    "    \n",
    "\n",
    "    def __repr__(self):\n",
    "        return f'Name: {self.name}  Population: {self.population}'    \n",
    "\n",
    "a=City('CITY-A',100)\n",
    "b=City('CITY-B',200)\n",
    "c=City('City-C',60)\n",
    "\n",
    "l=[a,b,c]\n",
    "l.sort()\n",
    "l"
   ]
  },
  {
   "cell_type": "markdown",
   "metadata": {},
   "source": [
    "# Q8. What is the most popular form of operator overloading?"
   ]
  },
  {
   "cell_type": "code",
   "execution_count": null,
   "metadata": {},
   "outputs": [],
   "source": [
    "# Addition, Subtraction as well as less than(for sort)are most popular.\n",
    "# They are overloaded implementing dunder methods"
   ]
  },
  {
   "cell_type": "markdown",
   "metadata": {},
   "source": [
    "# Q9. What are the two most important concepts to grasp in order to comprehend Python OOP code?"
   ]
  },
  {
   "cell_type": "code",
   "execution_count": null,
   "metadata": {},
   "outputs": [],
   "source": [
    "# Inheritance (single/multiple) and data encapsulation (access modifiers)\n",
    "# We define instance methods/attributes, class methods/attributes or static methods\n",
    "# We define private/protected/public method/attribute (Private attributes are not truly private but support data mangling)"
   ]
  }
 ],
 "metadata": {
  "kernelspec": {
   "display_name": "Python 3",
   "language": "python",
   "name": "python3"
  },
  "language_info": {
   "codemirror_mode": {
    "name": "ipython",
    "version": 3
   },
   "file_extension": ".py",
   "mimetype": "text/x-python",
   "name": "python",
   "nbconvert_exporter": "python",
   "pygments_lexer": "ipython3",
   "version": "3.7.2"
  }
 },
 "nbformat": 4,
 "nbformat_minor": 2
}
