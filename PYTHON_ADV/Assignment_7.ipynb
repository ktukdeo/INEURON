{
 "cells": [
  {
   "cell_type": "markdown",
   "metadata": {},
   "source": [
    "# Q1. What is the purpose of the try statement?"
   ]
  },
  {
   "cell_type": "code",
   "execution_count": null,
   "metadata": {},
   "outputs": [],
   "source": [
    "#To catch and process run time exceptions\n",
    "#To release resources at end of block (regardless of exception)"
   ]
  },
  {
   "cell_type": "markdown",
   "metadata": {},
   "source": [
    "# Q2. What are the two most popular try statement variations?"
   ]
  },
  {
   "cell_type": "code",
   "execution_count": null,
   "metadata": {},
   "outputs": [],
   "source": [
    "#This is very subjective. I have used all variations so have listed all important components below\n",
    "try:\n",
    "    #statements\n",
    "except DivisionByError as e:   #specific exception\n",
    "    #statement\n",
    "except:                        #catches exception\n",
    "    #processing\n",
    "else:                         #executes when no exception\n",
    "    #processing\n",
    "finally:                     #ALWAYS execute\n",
    "    #processing\n"
   ]
  },
  {
   "cell_type": "markdown",
   "metadata": {},
   "source": [
    "# Q3. What is the purpose of the raise statement?"
   ]
  },
  {
   "cell_type": "code",
   "execution_count": null,
   "metadata": {},
   "outputs": [],
   "source": [
    "#To raise run time exception/error for issues in Application logic (eg Input file validation problem)\n",
    "#This is like system exception and is caught in try/except block for further logging and processing"
   ]
  },
  {
   "cell_type": "markdown",
   "metadata": {},
   "source": [
    "# Q4. What does the assert statement do, and what other statement is it like?"
   ]
  },
  {
   "cell_type": "code",
   "execution_count": 6,
   "metadata": {},
   "outputs": [],
   "source": [
    "#Asert statement is one liner validation which raises AssertionError if validation fails. \n",
    "#This is typically employed in the beginning of the function to validate input arguments or critical part of program\n",
    "\n",
    "x=10\n",
    "assert x>= 5,\"X less than 5 is not allowed \"\n",
    "\n",
    "#equivalent statement is --------------------------\n",
    "x=10\n",
    "if x>=5:\n",
    "    pass\n",
    "else:\n",
    "    raise AssertionError(\"X less than 5 is not allowed.\")"
   ]
  },
  {
   "cell_type": "markdown",
   "metadata": {},
   "source": [
    "# Q5. What is the purpose of the with/as argument, and what other statement is it like?"
   ]
  },
  {
   "cell_type": "code",
   "execution_count": null,
   "metadata": {},
   "outputs": [],
   "source": [
    "#With/as block is very helpful when certain actions must be performed at the end of certain operation.\n",
    "#eg closing database connection, closing files, releasing locks, saving data etc to ease resources.\n",
    "#The with/as block catches all exceptions as well.\n",
    "#It is implemented using class and 2 magica methods __enter__ and __exit__\n",
    "'''\n",
    "with open('c:\\\\tt.txt') as f:\n",
    "    print(f.read())\n",
    "    \n",
    "\n",
    "# same can be written as\n",
    "\n",
    "f = open('c:\\\\tt.txt')\n",
    "print(f.read())\n",
    "f.close()\n",
    "'''\n",
    "''"
   ]
  }
 ],
 "metadata": {
  "kernelspec": {
   "display_name": "Python 3",
   "language": "python",
   "name": "python3"
  },
  "language_info": {
   "codemirror_mode": {
    "name": "ipython",
    "version": 3
   },
   "file_extension": ".py",
   "mimetype": "text/x-python",
   "name": "python",
   "nbconvert_exporter": "python",
   "pygments_lexer": "ipython3",
   "version": "3.7.2"
  }
 },
 "nbformat": 4,
 "nbformat_minor": 2
}
