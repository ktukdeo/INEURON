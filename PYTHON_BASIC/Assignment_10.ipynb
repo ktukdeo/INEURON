{
 "cells": [
  {
   "cell_type": "code",
   "execution_count": 1,
   "metadata": {},
   "outputs": [],
   "source": [
    "import os, shutil, pathlib, glob, zipfile, pprint\n",
    "\n",
    "psrc = pathlib.Path('c:\\\\abc\\\\f1')"
   ]
  },
  {
   "cell_type": "markdown",
   "metadata": {},
   "source": [
    "# 1. How do you distinguish between shutil.copy() and shutil.copytree()?"
   ]
  },
  {
   "cell_type": "code",
   "execution_count": 2,
   "metadata": {},
   "outputs": [
    {
     "name": "stdout",
     "output_type": "stream",
     "text": [
      "f1 folder files:  ['Book1.xlsx', 'file1.txt', 'file2.txt', 'file3.txt']\n",
      "\n",
      "\n",
      "f1 folder files after copy ['Book1.xlsx', 'file1.txt', 'file1_copy.txt', 'file2.txt', 'file2_copy.txt', 'file3.txt']\n",
      "\n",
      "\n",
      "f1_new folder files after copytree ['Book1.xlsx', 'file1.txt', 'file1_copy.txt', 'file2.txt', 'file2_copy.txt', 'file3.txt']\n"
     ]
    }
   ],
   "source": [
    "#shutil.copy will copy a single file   \n",
    "#shutil.copytree will copy all files/subfolders recursively under the source folder to target folder.\n",
    "\n",
    "print('f1 folder files: ',os.listdir(psrc))\n",
    "\n",
    "shutil.copy(psrc/'file1.txt', psrc/'file1_copy.txt')\n",
    "shutil.copy(psrc/'file2.txt', psrc/'file2_copy.txt')\n",
    "print('\\n')\n",
    "print('f1 folder files after copy', os.listdir(psrc))\n",
    "\n",
    "print('\\n')\n",
    "shutil.copytree(psrc,psrc/'f1_new')\n",
    "print('f1_new folder files after copytree', os.listdir(psrc/'f1_new'))"
   ]
  },
  {
   "cell_type": "markdown",
   "metadata": {},
   "source": [
    "# 2. What is the name of the feature used to rename files?"
   ]
  },
  {
   "cell_type": "code",
   "execution_count": 3,
   "metadata": {},
   "outputs": [
    {
     "name": "stdout",
     "output_type": "stream",
     "text": [
      "f1 folder files:  ['Book1.xlsx', 'f1_new', 'file1.txt', 'file1_copy.txt', 'file2.txt', 'file2_copy.txt', 'file3.txt']\n",
      "\n",
      "\n",
      "f1 folder files after rename:  ['Book1.xlsx', 'f1_new', 'file1.txt', 'file1_rename.txt', 'file2.txt', 'file2_rename.txt', 'file3.txt']\n"
     ]
    }
   ],
   "source": [
    "#os.rename() and shutil.move() methods rename files.\n",
    "\n",
    "print('f1 folder files: ',os.listdir(psrc)); print('\\n')\n",
    "\n",
    "os.rename(psrc/'file1_copy.txt', psrc/'file1_rename.txt')\n",
    "shutil.move(psrc/'file2_copy.txt', psrc/'file2_rename.txt')\n",
    "\n",
    "print('f1 folder files after rename: ',os.listdir(psrc))"
   ]
  },
  {
   "cell_type": "markdown",
   "metadata": {},
   "source": [
    "# 3. How are the delete functions in the send2trash and shutil modules different?"
   ]
  },
  {
   "cell_type": "code",
   "execution_count": 4,
   "metadata": {},
   "outputs": [],
   "source": [
    "#shutil.rmtree(), os.remove(), os.rmdir() permanenently delete files/folders.\n",
    "#send2trash sends the deleted files to trashbin so they can be recovered."
   ]
  },
  {
   "cell_type": "markdown",
   "metadata": {},
   "source": [
    "# 4. ZipFile objects have a close() function that is similar to that of File objects. What ZipFile method is similar to the open() method of File objects?"
   ]
  },
  {
   "cell_type": "code",
   "execution_count": 5,
   "metadata": {},
   "outputs": [
    {
     "name": "stdout",
     "output_type": "stream",
     "text": [
      "Original file list:\n",
      "['f2/file1.txt', 'f2/file1_rename.txt']\n",
      "\n",
      "\n",
      "File list after adding a new file file10.txt\n",
      "['f2/file1.txt', 'f2/file1_rename.txt', 'abc/file10.txt']\n"
     ]
    }
   ],
   "source": [
    "#zipfile.ZipFile(filename) - same as reading zip file\n",
    "#zipfile.ZipFile(filename,'w') - delete contents and add a new file.\n",
    "#zipfile.ZipFile(filename,'a') - add a new file to existing zip file.\n",
    "\n",
    "\n",
    "pf = pathlib.Path('C:/abc/f2all.zip')\n",
    "def get_zipfiles():\n",
    "    pz = zipfile.ZipFile(pf)\n",
    "    print(pz.namelist())\n",
    "    pz.close()\n",
    "\n",
    "print('Original file list:')\n",
    "get_zipfiles()\n",
    "pzw = zipfile.ZipFile(pf,'a')\n",
    "pzw.write('c:\\\\abc\\\\file10.txt')\n",
    "pzw.close()\n",
    "\n",
    "print('\\n')\n",
    "print('File list after adding a new file file10.txt')\n",
    "get_zipfiles()\n"
   ]
  },
  {
   "cell_type": "markdown",
   "metadata": {},
   "source": [
    "# 5. Create a programme that searches a folder tree for files with a certain file extension (such as .pdf or .jpg). Copy these files to a new folder from wherever they are now."
   ]
  },
  {
   "cell_type": "code",
   "execution_count": 6,
   "metadata": {},
   "outputs": [],
   "source": [
    "#The code to copy files. The system asks for user inputs. Source folder, Target folder, file extension and option flag\n",
    "#Option flag - 1 hierarchical copy\n",
    "#Option flag - 2 - Copy all files to a SINGLE TARGET FOLDER\n",
    " \n",
    "def main_copy_files():\n",
    "    \n",
    "    \n",
    "    def copy_same_folder():\n",
    "        for sfile in all_files:\n",
    "            fname = os.path.basename(sfile).replace(file_type,'')\n",
    "            tfile = tf / (fname + file_type)\n",
    "            i=0\n",
    "            #Check for duplicate file name.\n",
    "            while tfile.exists():\n",
    "                tfile = tf / (fname + '__' + str(i) + file_type)\n",
    "                i = i+1\n",
    "            shutil.copy(sfile,tfile)\n",
    "            \n",
    "    \n",
    "    def copy_with_hierarchy():\n",
    "        for sfile in all_files:\n",
    "            sfolder = os.path.dirname(sfile)\n",
    "            relfolder = os.path.relpath(sfolder,src_folder)\n",
    "            tfolder = os.path.join(tgt_folder, relfolder)\n",
    "            \n",
    "            if not os.path.exists(tfolder):os.makedirs(tfolder)\n",
    "            shutil.copy(sfile,tfolder)\n",
    "\n",
    "    \n",
    "    src_folder = input('Enter source folder: ')\n",
    "    file_type = input('Enter file extension: ')\n",
    "    tgt_folder = input('Enter target folder: ')\n",
    "    hflag = input('Maintain same hierarchy as source(1) or in a single folder(2)')\n",
    "\n",
    "    if os.path.exists(tgt_folder):\n",
    "        #shutil.rmtree(tgt_folder)\n",
    "        pass\n",
    "\n",
    "    if not os.path.exists(tgt_folder):os.makedirs(tgt_folder)  \n",
    "    tf = pathlib.Path(tgt_folder)\n",
    "\n",
    "    search_files = os.path.join(src_folder,'**','*'+file_type)\n",
    "\n",
    "    all_files = glob.glob(search_files, recursive=True)\n",
    "    print('Initial List of files\\n')\n",
    "    pprint.pprint(list(os.walk(src_folder)))\n",
    "\n",
    "    if hflag=='1': copy_with_hierarchy()\n",
    "    if hflag=='2': copy_same_folder()\n",
    "\n",
    "\n",
    "    print('\\n')\n",
    "    print('Target folder list:\\n')\n",
    "    pprint.pprint(list(os.walk(tgt_folder)))\n",
    "    \n",
    "    \n",
    "       \n"
   ]
  },
  {
   "cell_type": "code",
   "execution_count": 9,
   "metadata": {},
   "outputs": [
    {
     "name": "stdout",
     "output_type": "stream",
     "text": [
      "Enter source folder: c:\\abc\n",
      "Enter file extension: .txt\n",
      "Enter target folder: c:\\abc_copy\\opt1\n",
      "Maintain same hierarchy as source(1) or in a single folder(2)1\n",
      "Initial List of files\n",
      "\n",
      "[('c:\\\\abc', ['f1', 'f2'], ['f2all.zip', 'file1.txt', 'file10.txt']),\n",
      " ('c:\\\\abc\\\\f1', [], ['Book1.xlsx', 'file1.txt', 'file2.txt', 'file3.txt']),\n",
      " ('c:\\\\abc\\\\f2', [], ['file1.txt'])]\n",
      "\n",
      "\n",
      "Target folder list:\n",
      "\n",
      "[('c:\\\\abc_copy\\\\opt1', ['f1', 'f2'], ['file1.txt', 'file10.txt']),\n",
      " ('c:\\\\abc_copy\\\\opt1\\\\f1', [], ['file1.txt', 'file2.txt', 'file3.txt']),\n",
      " ('c:\\\\abc_copy\\\\opt1\\\\f2', [], ['file1.txt'])]\n"
     ]
    }
   ],
   "source": [
    "#Select flag 1. All files copied using same hierarchy as source folder.\n",
    "main_copy_files()"
   ]
  },
  {
   "cell_type": "code",
   "execution_count": 10,
   "metadata": {},
   "outputs": [
    {
     "name": "stdout",
     "output_type": "stream",
     "text": [
      "Enter source folder: c:\\abc\n",
      "Enter file extension: .txt\n",
      "Enter target folder: c:\\abc\\opt2\n",
      "Maintain same hierarchy as source(1) or in a single folder(2)2\n",
      "Initial List of files\n",
      "\n",
      "[('c:\\\\abc', ['f1', 'f2', 'opt2'], ['f2all.zip', 'file1.txt', 'file10.txt']),\n",
      " ('c:\\\\abc\\\\f1', [], ['Book1.xlsx', 'file1.txt', 'file2.txt', 'file3.txt']),\n",
      " ('c:\\\\abc\\\\f2', [], ['file1.txt']),\n",
      " ('c:\\\\abc\\\\opt2', [], [])]\n",
      "\n",
      "\n",
      "Target folder list:\n",
      "\n",
      "[('c:\\\\abc\\\\opt2',\n",
      "  [],\n",
      "  ['file1.txt',\n",
      "   'file10.txt',\n",
      "   'file1__0.txt',\n",
      "   'file1__1.txt',\n",
      "   'file2.txt',\n",
      "   'file3.txt'])]\n"
     ]
    }
   ],
   "source": [
    "#Select flag 2. All files copied to a SINGLE FOLDER. If subfolders contain file with same name then duplicates are renamed\n",
    "#to make them unique as files are all copied to one folder.\n",
    "#eg Consider 2 files. c:/source/file1.txt, c:/source/sub/file1.txt and c:/source/sub1/file1.txt\n",
    "#The files copied to target folder will have names..  c:/target/file1.txt,c:/target/file1__0.txt, c:/target/file1__1.txt etc\n",
    "main_copy_files()"
   ]
  }
 ],
 "metadata": {
  "kernelspec": {
   "display_name": "Python 3",
   "language": "python",
   "name": "python3"
  },
  "language_info": {
   "codemirror_mode": {
    "name": "ipython",
    "version": 3
   },
   "file_extension": ".py",
   "mimetype": "text/x-python",
   "name": "python",
   "nbconvert_exporter": "python",
   "pygments_lexer": "ipython3",
   "version": "3.7.2"
  }
 },
 "nbformat": 4,
 "nbformat_minor": 2
}
