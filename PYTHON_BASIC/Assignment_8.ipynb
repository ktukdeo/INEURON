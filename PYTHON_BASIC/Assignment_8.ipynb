{
 "cells": [
  {
   "cell_type": "code",
   "execution_count": 1,
   "metadata": {},
   "outputs": [],
   "source": [
    "import pyinputplus as pyip"
   ]
  },
  {
   "cell_type": "markdown",
   "metadata": {},
   "source": [
    "# 1. Is the Python Standard Library included with PyInputPlus?"
   ]
  },
  {
   "cell_type": "markdown",
   "metadata": {},
   "source": [
    "### No it is not included. This needs to be installed separately using pip install."
   ]
  },
  {
   "cell_type": "markdown",
   "metadata": {},
   "source": [
    "# 2. Why is PyInputPlus often imported as pyip with import pyinputplus?"
   ]
  },
  {
   "cell_type": "markdown",
   "metadata": {},
   "source": [
    "### This used as a shortcut to invoke functions of the module such as pyip.inputStr() instead of pyinputplus.inputStr()"
   ]
  },
  {
   "cell_type": "markdown",
   "metadata": {},
   "source": [
    "# 3. How do you distinguish between inputInt() and inputFloat()?"
   ]
  },
  {
   "cell_type": "markdown",
   "metadata": {},
   "source": [
    "### inputInt() can only accept integer values. Float will throw error.\n",
    "### inputFloat() can accept both float and integer. If integer is entered then it is converted to float."
   ]
  },
  {
   "cell_type": "markdown",
   "metadata": {},
   "source": [
    "# 4. Using PyInputPlus, how do you ensure that the user enters a whole number between 0 and 99?"
   ]
  },
  {
   "cell_type": "code",
   "execution_count": 8,
   "metadata": {},
   "outputs": [
    {
     "name": "stdout",
     "output_type": "stream",
     "text": [
      "Enter Value between 0 and 99 : -5\n",
      "Number must be at minimum 0.\n",
      "Enter Value between 0 and 99 : 115\n",
      "Number must be at maximum 99.\n",
      "Enter Value between 0 and 99 : 55\n"
     ]
    }
   ],
   "source": [
    "data_entry = pyip.inputInt('Enter Value between 0 and 99 : ', min=0, max=99)"
   ]
  },
  {
   "cell_type": "markdown",
   "metadata": {},
   "source": [
    "# 5. What is transferred to the keyword arguments allowRegexes and blockRegexes?"
   ]
  },
  {
   "cell_type": "code",
   "execution_count": 6,
   "metadata": {},
   "outputs": [
    {
     "name": "stdout",
     "output_type": "stream",
     "text": [
      "Enter Value : scarf\n",
      "This response is invalid.\n",
      "Enter Value : scare\n"
     ]
    }
   ],
   "source": [
    "# blockRegexes receives list of regex expression. If entered value matches any expression of this list then it is rejected.\n",
    "# allowRegexes also contains list of allowable regex expressions which override blockRegexes.\n",
    "#If entered value matches against both allowRegexes and blockRegexes then it is ACCEPTED.\n",
    "\n",
    "data_entry = pyip.inputStr('Enter Value : ', allowRegexes=['care'], blockRegexes=['car'])\n",
    "\n",
    "# Pls note that scarf is rejected as it matches %car%\n",
    "# Pls note that scare matches both %care% and %car% and hence accepted."
   ]
  },
  {
   "cell_type": "markdown",
   "metadata": {},
   "source": [
    "# 6. If a blank input is entered three times, what does inputStr(limit=3) do?"
   ]
  },
  {
   "cell_type": "markdown",
   "metadata": {},
   "source": [
    "### After 3 attempts the user will receive RetryLimitException error."
   ]
  },
  {
   "cell_type": "markdown",
   "metadata": {},
   "source": [
    "# 7. If blank input is entered three times, what does inputStr(limit=3, default='hello') do?"
   ]
  },
  {
   "cell_type": "markdown",
   "metadata": {},
   "source": [
    "### After 3 attempts input variable will receive default value 'hello'"
   ]
  },
  {
   "cell_type": "code",
   "execution_count": null,
   "metadata": {},
   "outputs": [],
   "source": []
  }
 ],
 "metadata": {
  "kernelspec": {
   "display_name": "Python 3",
   "language": "python",
   "name": "python3"
  },
  "language_info": {
   "codemirror_mode": {
    "name": "ipython",
    "version": 3
   },
   "file_extension": ".py",
   "mimetype": "text/x-python",
   "name": "python",
   "nbconvert_exporter": "python",
   "pygments_lexer": "ipython3",
   "version": "3.7.2"
  }
 },
 "nbformat": 4,
 "nbformat_minor": 2
}
