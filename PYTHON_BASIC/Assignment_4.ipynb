{
 "cells": [
  {
   "cell_type": "markdown",
   "metadata": {},
   "source": [
    "# 1. What exactly is []?\n",
    "\n",
    "<h2><span style='color:blue'>\n",
    "It is empty list.\n",
    "</span></h2>"
   ]
  },
  {
   "cell_type": "markdown",
   "metadata": {},
   "source": [
    "# 2. In a list of values stored in a variable called spam, how would you assign the value 'hello' as the third value? (Assume [2, 4, 6, 8, 10] are in spam.)\n",
    "\n",
    "<h2><span style='color:blue'>\n",
    "The code is below.\n",
    "</span></h2>\n"
   ]
  },
  {
   "cell_type": "code",
   "execution_count": 3,
   "metadata": {},
   "outputs": [
    {
     "name": "stdout",
     "output_type": "stream",
     "text": [
      "3rd element replaced with hello [2, 4, 'hello', 8, 10]\n",
      "3rd element inserted with hello [2, 4, 'hello', 6, 8, 10]\n"
     ]
    }
   ],
   "source": [
    "# It is not clear if you want to replace or insert. I will code both ways\n",
    "\n",
    "# Code for replacement\n",
    "spam = [2,4,6,8,10]\n",
    "spam[2] = 'hello'\n",
    "print('3rd element replaced with hello', spam)\n",
    "\n",
    "spam = [2,4,6,8,10]\n",
    "spam.insert(2,'hello')\n",
    "print('3rd element inserted with hello', spam)"
   ]
  },
  {
   "cell_type": "code",
   "execution_count": 6,
   "metadata": {},
   "outputs": [
    {
     "name": "stdout",
     "output_type": "stream",
     "text": [
      "Question #3  d\n",
      "Question #4  d\n",
      "Question #5  ['a', 'b']\n"
     ]
    }
   ],
   "source": [
    "# Questions 3,4,5\n",
    "\n",
    "spam = ['a','b','c','d']\n",
    "print('Question #3 ',spam[int(int('3' * 2) / 11)])\n",
    "print('Question #4 ',spam[-1])\n",
    "print('Question #5 ', spam[:2])"
   ]
  },
  {
   "cell_type": "code",
   "execution_count": 9,
   "metadata": {},
   "outputs": [
    {
     "name": "stdout",
     "output_type": "stream",
     "text": [
      "Question #6  1\n",
      "Question #7  [3.14, 'cat', 11, 'cat', True, 99]\n",
      "Question #8  [3.14, 11, 'cat', True, 99]\n"
     ]
    }
   ],
   "source": [
    "# Question 6,7,8\n",
    "bacon = [3.14, 'cat', 11, 'cat', True]\n",
    "\n",
    "print('Question #6 ', bacon.index('cat'))\n",
    "\n",
    "bacon.append(99)\n",
    "print('Question #7 ', bacon)\n",
    "\n",
    "bacon.remove('cat')\n",
    "print('Question #8 ', bacon)"
   ]
  },
  {
   "cell_type": "markdown",
   "metadata": {},
   "source": [
    "# 9. What are the list concatenation and list replication operators?\n",
    "\n",
    "<h2><span style='color:blue'>\n",
    " Concatenation operator is +  This creates a NEW list<br>\n",
    "    Replication operator is *(multiplication). This also creates a NEW list. <br><br>\n",
    "    \n",
    "    append, extend METHODS will concatenate by changing original list. <br>\n",
    "    copy METHOD will create a shallow copy. <br><br>\n",
    "    \n",
    "    The sample code is below\n",
    "    \n",
    "</span></h2>"
   ]
  },
  {
   "cell_type": "code",
   "execution_count": 14,
   "metadata": {},
   "outputs": [
    {
     "name": "stdout",
     "output_type": "stream",
     "text": [
      "Question 9\n",
      "Concatenate + operator:  [1, 2, 3, 4, 5, 6, 7]\n",
      "Replication opertaor:  [1, 2, 3, 4, 1, 2, 3, 4, 1, 2, 3, 4]\n",
      "append method :  [1, 2, 3, 4, 5]\n",
      "extend method :  [1, 2, 3, 4, 5, 6, 7]\n",
      "replication using copy :  [1, 2, 3, 4, 5, 6, 7]\n",
      "replication using index/slice operator : [1, 2, 3, 4, 5, 6, 7]\n",
      "[1, 2, 5, 6, 7]\n"
     ]
    }
   ],
   "source": [
    "print('Question 9')\n",
    "lst = [1,2,3,4]\n",
    "print('Concatenate + operator: ',lst + [5,6,7])\n",
    "print('Replication opertaor: ',lst*3)\n",
    "\n",
    "lst.append(5)\n",
    "print('append method : ',lst)\n",
    "\n",
    "lst.extend([6,7])\n",
    "print('extend method : ',lst)\n",
    "\n",
    "lst1 = lst.copy()\n",
    "print('replication using copy : ',lst1)\n",
    "\n",
    "lst1 = lst[:]\n",
    "print('replication using index/slice operator :',lst1)\n",
    "\n",
    "del lst1[2:4]\n",
    "print(lst1)"
   ]
  },
  {
   "cell_type": "markdown",
   "metadata": {},
   "source": [
    "# 10. What is difference between the list methods append() and insert()?\n",
    "\n",
    "<h2><span style='color:blue'>\n",
    "    Insert will add the given element in between the list at given location. <br><br>\n",
    "    Append is mutable operation which will add element to the end of the list. Append can be regarded as a convenient method to insert.  lst.append(elem) is same as lst.insert(len(lst),elem) <br>\n",
    "    The code is given below. <br>\n",
    "</span></h2>"
   ]
  },
  {
   "cell_type": "code",
   "execution_count": 13,
   "metadata": {},
   "outputs": [
    {
     "name": "stdout",
     "output_type": "stream",
     "text": [
      "Question 10\n",
      "Original list [1, 2, 3, 4, 5]\n",
      "APPEND 5 in the end [1, 2, 3, 4, 5]\n",
      "INSERT 6 in the end [1, 2, 3, 4, 5, 6]\n"
     ]
    }
   ],
   "source": [
    "print('Question 10')\n",
    "lst = [1,2,3,4]\n",
    "lst.append(5)\n",
    "print('Original list',lst)\n",
    "print('APPEND 5 in the end',lst)\n",
    "lst.insert(len(lst),6)\n",
    "print('INSERT 6 in the end',lst)"
   ]
  },
  {
   "cell_type": "markdown",
   "metadata": {},
   "source": [
    "# 11. What are the two methods for removing items from a list?\n",
    "\n",
    "<h2><span style='color:blue'>\n",
    "remove will remove first occurrence of given element from list. <br><br>\n",
    "    pop will remove based on index position.It will return the element removed. <br><br>\n",
    "    clear will make list empty. <br><br>\n",
    "    del can also be used to remove slice of the list.<br><br>\n",
    "    Similarly slice operator can also be used to remove elements <br><br>\n",
    "    \n",
    "   The sample code is given below.\n",
    "</span></h2>"
   ]
  },
  {
   "cell_type": "code",
   "execution_count": 20,
   "metadata": {},
   "outputs": [
    {
     "name": "stdout",
     "output_type": "stream",
     "text": [
      "Original List ['one', 'two', 'three', 'four', 'five']\n",
      "remove method - three element removed ['one', 'two', 'four', 'five']\n",
      "\n",
      "\n",
      "pop method - element in index 2 removed ['one', 'two', 'four', 'five']\n",
      "pop method - element removed is:  three\n",
      "\n",
      "\n",
      "clear method - makes list empty []\n",
      "\n",
      "\n",
      "del keyword - slicer to remove 3rd element ['one', 'two', 'four', 'five']\n",
      "\n",
      "\n",
      "slicer operation to remove 3rd elemet ['one', 'two', 'four', 'five']\n"
     ]
    }
   ],
   "source": [
    "orig = ['one','two','three','four','five']\n",
    "print('Original List',orig)\n",
    "\n",
    "lst=orig.copy()\n",
    "lst.remove('three')\n",
    "print('remove method - three element removed',lst)\n",
    "print('\\n')\n",
    "\n",
    "lst=orig.copy()\n",
    "x = lst.pop(2)\n",
    "print('pop method - element in index 2 removed', lst)\n",
    "print('pop method - element removed is: ',x)\n",
    "print('\\n')\n",
    "\n",
    "lst=orig.copy()\n",
    "lst.clear()\n",
    "print('clear method - makes list empty',lst)\n",
    "print('\\n')\n",
    "\n",
    "lst=orig.copy()\n",
    "del lst[2:3]\n",
    "print('del keyword - slicer to remove 3rd element',lst)\n",
    "print('\\n')\n",
    "\n",
    "lst=orig.copy()\n",
    "lst[2:3]=\"\"\n",
    "print('slicer operation to remove 3rd elemet',lst)"
   ]
  },
  {
   "cell_type": "markdown",
   "metadata": {},
   "source": [
    "# 12. Describe how list values and string values are identical.\n",
    "\n",
    "<h2><span style='color:blue'>\n",
    "    String is a sequence of characters and string can be coverted to list by list() function. ['a','b','c'] == list('abc') <br><br>\n",
    "As Iterator, string acts like a list of characters that make up the string. <br>\n",
    "    The sample code is below.<br>\n",
    "</span></h2>"
   ]
  },
  {
   "cell_type": "code",
   "execution_count": 36,
   "metadata": {},
   "outputs": [
    {
     "name": "stdout",
     "output_type": "stream",
     "text": [
      "list function to convert string to list True \n",
      "\n",
      "String unboxing as list a b c \n",
      "\n",
      "String as list iterator a, b, c, \n",
      "\n",
      "Extending List with string \"abc\". String acts as a  list of characters [1, 2, 3, 'a', 'b', 'c']\n"
     ]
    }
   ],
   "source": [
    "print(\"list function to convert string to list\",['a','b','c'] == list('abc'),'\\n')\n",
    "x,y,z = \"abc\"\n",
    "print('String unboxing as list',x,y,z,'\\n')\n",
    "\n",
    "print('String as list iterator', end=' ')\n",
    "for x in \"abc\" : print(x, end=', ')\n",
    "print('\\n')\n",
    "\n",
    "lst=[1,2,3]\n",
    "lst.extend(\"abc\")\n",
    "print('Extending List with string \"abc\". String acts as a  list of characters',lst)"
   ]
  },
  {
   "cell_type": "markdown",
   "metadata": {},
   "source": [
    "# 13. What's the difference between tuples and lists?\n",
    "\n",
    "<h2><span style='color:blue'>\n",
    "tuple is ordered, IMMUTABLE collection while list is ordered, MUTABLE collection. <br>\n",
    "    Hence, we can change contents of list but tuple can not be changed. Tuples are little more process efficient.\n",
    "</span></h2>"
   ]
  },
  {
   "cell_type": "markdown",
   "metadata": {},
   "source": [
    "# 14. How do you type a tuple value that only contains the integer 42?\n",
    "\n",
    "<h2><span style='color:blue'>\n",
    "tup = (42,)\n",
    "</span></h2>"
   ]
  },
  {
   "cell_type": "markdown",
   "metadata": {},
   "source": [
    "# 15. How do you get a list value's tuple form? How do you get a tuple value's list form?\n",
    "\n",
    "<h2><span style='color:blue'>\n",
    "We convert data type by conversion function tuple() and list()\n",
    "</span></h2>"
   ]
  },
  {
   "cell_type": "code",
   "execution_count": 40,
   "metadata": {},
   "outputs": [
    {
     "name": "stdout",
     "output_type": "stream",
     "text": [
      "Tuple to list:  (1, 2, 3) --> [1, 2, 3] \n",
      "\n",
      "list to tuple:  [1, 2, 3] --> (1, 2, 3)\n"
     ]
    }
   ],
   "source": [
    "print('Tuple to list: ',(1,2,3),'-->',list((1,2,3)),'\\n')\n",
    "print('list to tuple: ',[1,2,3],'-->',tuple([1,2,3]))"
   ]
  },
  {
   "cell_type": "markdown",
   "metadata": {},
   "source": [
    "# 16. Variables that \"contain\" list values are not necessarily lists themselves. Instead, what do they contain?\n",
    "\n",
    "<h2><span style='color:blue'>\n",
    "The question is not quite clear. List can be part of any object as a property. List can be elements of tuple, values (not keys) of dictionary. Variable itself is a pointer to address containing elements.<br><br>\n",
    "    tup = ([1,2,3],4,5) --> tuple <br>\n",
    "    dic = {'1':[1,2,3]} --> dictionary <br>\n",
    "</span></h2>"
   ]
  },
  {
   "cell_type": "markdown",
   "metadata": {},
   "source": [
    "# 17. How do you distinguish between copy.copy() and copy.deepcopy()?\n",
    "\n",
    "<h2><span style='color:blue'>\n",
    "copy is a shallow copy which only copies references to objects within collection but not obect itself. <br><br>\n",
    "    deepcopy is a deep copy which will copy all objects recursively, hence changing any of object content will not affect original collection. <br>\n",
    "</span></h2>"
   ]
  },
  {
   "cell_type": "code",
   "execution_count": 50,
   "metadata": {},
   "outputs": [
    {
     "name": "stdout",
     "output_type": "stream",
     "text": [
      "Original List:  ['abcd', [1, 2, 3], {1: 'one', 2: 'two'}] \n",
      "\n",
      "copy example\n",
      "Original List:  ['abcd', [1, 2, 3, 4], {1: 'one_chg', 2: 'two'}]\n",
      "Copy List:  ['abcd', [1, 2, 3, 4], {1: 'one_chg', 2: 'two'}]\n",
      "Updates to Copy list has changed the value of original list as well.\n",
      "\n",
      "Deepcopy example\n",
      "Original List:  ['abcd', [1, 2, 3], {1: 'one', 2: 'two'}]\n",
      "DeepCopy List:  ['abcd', [1, 2, 3, 4], {1: 'one_chg', 2: 'two'}]\n",
      "Updates to DeepCopy list has NOT changed the value of original list.\n"
     ]
    }
   ],
   "source": [
    "import copy\n",
    "lst = [1,2,3]\n",
    "dct = {1:\"one\",2:\"two\"}\n",
    "lst_orig = ['abcd',lst,dct]\n",
    "print('Original List: ',lst_orig,'\\n')\n",
    "\n",
    "#COPY\n",
    "lst_copy = copy.copy(lst_orig)\n",
    "lst_copy[1].append(4)\n",
    "lst_copy[2][1]=\"one_chg\"\n",
    "print('copy example')\n",
    "print('Original List: ',lst_orig)\n",
    "print('Copy List: ',lst_copy)\n",
    "print('Updates to Copy list has changed the value of original list as well.\\n')\n",
    "\n",
    "# DEEPCOPY\n",
    "lst = [1,2,3]\n",
    "dct = {1:\"one\",2:\"two\"}\n",
    "lst_orig = ['abcd',lst,dct]\n",
    "lst_copy = copy.deepcopy(lst_orig)\n",
    "lst_copy[1].append(4)\n",
    "lst_copy[2][1]=\"one_chg\"\n",
    "print('Deepcopy example')\n",
    "print('Original List: ',lst_orig)\n",
    "print('DeepCopy List: ',lst_copy)\n",
    "print('Updates to DeepCopy list has NOT changed the value of original list.')\n"
   ]
  }
 ],
 "metadata": {
  "kernelspec": {
   "display_name": "Python 3",
   "language": "python",
   "name": "python3"
  },
  "language_info": {
   "codemirror_mode": {
    "name": "ipython",
    "version": 3
   },
   "file_extension": ".py",
   "mimetype": "text/x-python",
   "name": "python",
   "nbconvert_exporter": "python",
   "pygments_lexer": "ipython3",
   "version": "3.7.2"
  }
 },
 "nbformat": 4,
 "nbformat_minor": 2
}
