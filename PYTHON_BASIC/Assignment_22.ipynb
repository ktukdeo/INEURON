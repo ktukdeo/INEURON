{
 "cells": [
  {
   "cell_type": "markdown",
   "metadata": {},
   "source": [
    "# 1. What is the result of the code, and explain?\n",
    "<h2>\n",
    ">>> X = 'iNeuron'\n",
    ">>> def func():\n",
    "        print(X)\n",
    ">>> func()\n",
    "</h2>\n"
   ]
  },
  {
   "cell_type": "code",
   "execution_count": 1,
   "metadata": {},
   "outputs": [
    {
     "name": "stdout",
     "output_type": "stream",
     "text": [
      "iNeuron\n"
     ]
    }
   ],
   "source": [
    "#The code will print INeuron. Func will searh for X in local namespace and then in Global and print from global.\n",
    "X = 'iNeuron'\n",
    "def func():\n",
    "    print(X)\n",
    "\n",
    "func()"
   ]
  },
  {
   "cell_type": "markdown",
   "metadata": {},
   "source": [
    "# 2. What is the result of the code, and explain?\n",
    "<h2>\n",
    ">>> X = 'iNeuron'\n",
    ">>> def func():\n",
    "        X = 'NI!'\n",
    ">>> func()\n",
    ">>> print(X)\n",
    "</h2>"
   ]
  },
  {
   "cell_type": "code",
   "execution_count": 3,
   "metadata": {},
   "outputs": [
    {
     "name": "stdout",
     "output_type": "stream",
     "text": [
      "iNeuron\n"
     ]
    }
   ],
   "source": [
    "#It will print iNeuron as func will create local variable which will be garbage collected at the end of function. \n",
    "#It will not affect X in main program\n",
    "X = 'iNeuron'\n",
    "def func():\n",
    "    X = 'NI!'\n",
    "\n",
    "func()\n",
    "print(X)"
   ]
  },
  {
   "cell_type": "markdown",
   "metadata": {},
   "source": [
    "# 3. What does this code print, and why?\n",
    "<h2>\n",
    ">>> X = 'iNeuron'\n",
    ">>> def func():\n",
    "        X = 'NI'\n",
    "        print(X)\n",
    ">>> func()\n",
    ">>> print(X)\n",
    "</h2>"
   ]
  },
  {
   "cell_type": "code",
   "execution_count": 4,
   "metadata": {},
   "outputs": [
    {
     "name": "stdout",
     "output_type": "stream",
     "text": [
      "NI!\n",
      "iNeuron\n"
     ]
    }
   ],
   "source": [
    "#It will print NI! inside function as X is defined in local namespace and overrides the variable from main program.\n",
    "#Outside function it will print iNeuron as above.\n",
    "X = 'iNeuron'\n",
    "def func():\n",
    "    X = 'NI!'\n",
    "    print(X)\n",
    "\n",
    "func()\n",
    "print(X)"
   ]
  },
  {
   "cell_type": "markdown",
   "metadata": {},
   "source": [
    "# 4. What output does this code produce? Why?\n",
    "<h2>\n",
    ">>> X = 'iNeuron'\n",
    ">>> def func():\n",
    "        global X\n",
    "        X = 'NI'\n",
    ">>> func()\n",
    ">>> print(X)\n",
    "</h2>"
   ]
  },
  {
   "cell_type": "code",
   "execution_count": 19,
   "metadata": {},
   "outputs": [
    {
     "name": "stdout",
     "output_type": "stream",
     "text": [
      "NI!\n"
     ]
    }
   ],
   "source": [
    "#global keyword inside func will now overwrite X variable from main progra, No local variable created.\n",
    "X = 'iNeuron'\n",
    "def func():\n",
    "    global X\n",
    "    X = 'NI!'\n",
    "\n",
    "func()\n",
    "print(X)"
   ]
  },
  {
   "cell_type": "markdown",
   "metadata": {},
   "source": [
    "# 5. What about this code—what’s the output, and why?\n",
    "<h2>\n",
    ">>> X = 'iNeuron'\n",
    ">>> def func():\n",
    "        X = 'NI'\n",
    "        def nested():\n",
    "            print(X)\n",
    "        nested()\n",
    ">>> func()\n",
    ">>> X\n",
    "</h2>"
   ]
  },
  {
   "cell_type": "code",
   "execution_count": 6,
   "metadata": {},
   "outputs": [
    {
     "name": "stdout",
     "output_type": "stream",
     "text": [
      "NI\n"
     ]
    },
    {
     "data": {
      "text/plain": [
       "'iNeuron'"
      ]
     },
     "execution_count": 6,
     "metadata": {},
     "output_type": "execute_result"
    }
   ],
   "source": [
    "#We have nested function. func() defines variable X in local namespace. \n",
    "#This will be used in nested as it is immediate parent variable\n",
    "X = 'iNeuron'\n",
    "def func():\n",
    "    X = 'NI'\n",
    "    def nested():\n",
    "        print(X)\n",
    "    nested()\n",
    "\n",
    "func()\n",
    "print(X)"
   ]
  },
  {
   "cell_type": "markdown",
   "metadata": {},
   "source": [
    "# 6. How about this code: what is its output in Python 3, and explain?\n",
    "<h2>\n",
    ">>> def func():\n",
    "        X = 'NI'\n",
    "        def nested():\n",
    "            nonlocal X\n",
    "            X = 'Spam'\n",
    "        nested()\n",
    "        print(X)\n",
    ">>> func()\n",
    "</h2>"
   ]
  },
  {
   "cell_type": "code",
   "execution_count": 11,
   "metadata": {},
   "outputs": [
    {
     "name": "stdout",
     "output_type": "stream",
     "text": [
      "Spam\n"
     ]
    }
   ],
   "source": [
    "# In this case, nested will not create local variable and refer to outer variable which is immediate parent.\n",
    "# nested will overwrite X variable of func.\n",
    "def func():\n",
    "    X = 'NI'\n",
    "    def nested():\n",
    "        nonlocal X\n",
    "        X = 'Spam'\n",
    "    nested()\n",
    "    print(X)\n",
    "\n",
    "func()"
   ]
  },
  {
   "cell_type": "markdown",
   "metadata": {},
   "source": [
    "# 7. Name three ways to retain state information in a Python function."
   ]
  },
  {
   "cell_type": "code",
   "execution_count": 14,
   "metadata": {},
   "outputs": [
    {
     "name": "stdout",
     "output_type": "stream",
     "text": [
      "1 2 3 4 "
     ]
    }
   ],
   "source": [
    "#1. Generator with yiel function can be used to retain state of information.\n",
    "def func():\n",
    "    lst = [1,2,3,4]\n",
    "    for x in lst:yield x\n",
    "\n",
    "for x in func():print(x, end=' ')"
   ]
  },
  {
   "cell_type": "code",
   "execution_count": 16,
   "metadata": {},
   "outputs": [
    {
     "name": "stdout",
     "output_type": "stream",
     "text": [
      "5 15 25 "
     ]
    }
   ],
   "source": [
    "#2. Closure can be used to create static variables.\n",
    "def func(x):\n",
    "    def inner(y):\n",
    "        return x*y\n",
    "    return inner\n",
    "\n",
    "mfunc = func(5)  #5 factor will be 'remembered'\n",
    "lst = [1,3,5]\n",
    "for x in lst:\n",
    "    print(mfunc(x), end= ' ')"
   ]
  },
  {
   "cell_type": "code",
   "execution_count": 18,
   "metadata": {},
   "outputs": [
    {
     "name": "stdout",
     "output_type": "stream",
     "text": [
      "Running Total\n",
      "2 7 15 "
     ]
    }
   ],
   "source": [
    "#3. function default parameter is defined globally and can retain state information\n",
    "def func(x,y=[0]): #y is defined globally and state will be remembered.\n",
    "    y[0]=y[0]+x\n",
    "    return y[0]  #runningtotal created\n",
    "\n",
    "lst=[2,5,8]\n",
    "print('Running Total')\n",
    "for i in lst:print(func(i), end=' ')"
   ]
  }
 ],
 "metadata": {
  "kernelspec": {
   "display_name": "Python 3",
   "language": "python",
   "name": "python3"
  },
  "language_info": {
   "codemirror_mode": {
    "name": "ipython",
    "version": 3
   },
   "file_extension": ".py",
   "mimetype": "text/x-python",
   "name": "python",
   "nbconvert_exporter": "python",
   "pygments_lexer": "ipython3",
   "version": "3.7.2"
  }
 },
 "nbformat": 4,
 "nbformat_minor": 2
}
