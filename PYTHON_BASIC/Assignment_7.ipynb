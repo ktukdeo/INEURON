{
 "cells": [
  {
   "cell_type": "code",
   "execution_count": 1,
   "metadata": {},
   "outputs": [],
   "source": [
    "import re\n",
    "str1 = 'I love Python language. It is no 1 language of the world!!'\n",
    "str2 = 'My Phone is 212-265-8534. (mobile) Call me asap.'"
   ]
  },
  {
   "cell_type": "markdown",
   "metadata": {},
   "source": [
    "# 1. What is the name of the feature responsible for generating Regex objects?"
   ]
  },
  {
   "cell_type": "code",
   "execution_count": 2,
   "metadata": {},
   "outputs": [
    {
     "data": {
      "text/plain": [
       "re.Pattern"
      ]
     },
     "execution_count": 2,
     "metadata": {},
     "output_type": "execute_result"
    }
   ],
   "source": [
    "# re.compile(regex expression) will create a new Regex Pattern object.\n",
    "type(re.compile(r'expr'))"
   ]
  },
  {
   "cell_type": "markdown",
   "metadata": {},
   "source": [
    "# 2. Why do raw strings often appear in Regex objects?"
   ]
  },
  {
   "cell_type": "markdown",
   "metadata": {},
   "source": [
    "### In regex expression, we often use \\1 (Group reference), \\s, \\w characters to identify correct pattern and make heavy use of backslash. Backslash in python has its own meaning as well and it is necessary to pass the string expression without any modification. Hence Raw string is used which does not interpret backslash."
   ]
  },
  {
   "cell_type": "markdown",
   "metadata": {},
   "source": [
    "# 3. What is the return value of the search() method?"
   ]
  },
  {
   "cell_type": "code",
   "execution_count": 3,
   "metadata": {},
   "outputs": [
    {
     "name": "stdout",
     "output_type": "stream",
     "text": [
      "<class 're.Match'>\n"
     ]
    }
   ],
   "source": [
    "# search returns Match object\n",
    "m = re.compile('language')\n",
    "print(type(m.search(str1)))"
   ]
  },
  {
   "cell_type": "markdown",
   "metadata": {},
   "source": [
    "# 4. From a Match item, how do you get the actual strings that match the pattern?"
   ]
  },
  {
   "cell_type": "code",
   "execution_count": 4,
   "metadata": {},
   "outputs": [
    {
     "name": "stdout",
     "output_type": "stream",
     "text": [
      "Python language. It is no 1\n",
      "Python\n",
      "1\n"
     ]
    }
   ],
   "source": [
    "# We use group method of Match object to extract data.\n",
    "# group() or group(0) gives entire string matched. group(n) gives nth group as defined by paranthesis.\n",
    "\n",
    "m = re.search(r'(P\\w+)(.*)(\\d+)',str1)\n",
    "print(m.group())\n",
    "print(m.group(1))\n",
    "print(m.group(3))"
   ]
  },
  {
   "cell_type": "markdown",
   "metadata": {},
   "source": [
    "# 5. In the regex which created from the r'(\\d\\d\\d)-(\\d\\d\\d-\\d\\d\\d\\d)', what does group zero cover? Group 2? Group 1?"
   ]
  },
  {
   "cell_type": "code",
   "execution_count": 5,
   "metadata": {},
   "outputs": [
    {
     "name": "stdout",
     "output_type": "stream",
     "text": [
      "Original :   My Phone is 212-265-8534. (mobile) Call me asap.\n",
      "Group-0:   212-265-8534\n",
      "Group-1:   212\n",
      "Group-2:   265-8534\n"
     ]
    }
   ],
   "source": [
    "# Method group(0) covers entire matched string. \n",
    "#Group 1 points to to pattern identified by (\\d\\d\\d) and Group 2 refers to (\\d\\d\\d-\\d\\d\\d\\d)\n",
    "\n",
    "\n",
    "m=re.search(r'(\\d\\d\\d)-(\\d\\d\\d-\\d\\d\\d\\d)',str2)\n",
    "print('Original :  ',str2)\n",
    "print('Group-0:  ',m.group(0))\n",
    "print('Group-1:  ',m.group(1))\n",
    "print('Group-2:  ',m.group(2))"
   ]
  },
  {
   "cell_type": "markdown",
   "metadata": {},
   "source": [
    "# 6. In standard expression syntax, parentheses and intervals have distinct meanings. How can you tell a regex that you want it to fit real parentheses and periods?"
   ]
  },
  {
   "cell_type": "code",
   "execution_count": 6,
   "metadata": {},
   "outputs": [
    {
     "name": "stdout",
     "output_type": "stream",
     "text": [
      "Original String:  My Phone is 212-265-8534. (mobile) Call me asap.\n",
      "Search paranthesis:  (mobile)\n",
      "Search period:  8534.\n"
     ]
    }
   ],
   "source": [
    "# To use real paranthesis/periods, they should be escaped with backslash\n",
    "\n",
    "print('Original String: ', str2)\n",
    "print('Search paranthesis: ',re.search(r'\\(.*\\)', str2).group())\n",
    "print('Search period: ', re.search(r'\\d+\\.', str2).group())"
   ]
  },
  {
   "cell_type": "markdown",
   "metadata": {},
   "source": [
    "# 7. The findall() method returns a string list or a list of string tuples. What causes it to return one of the two options?"
   ]
  },
  {
   "cell_type": "code",
   "execution_count": 7,
   "metadata": {},
   "outputs": [
    {
     "name": "stdout",
     "output_type": "stream",
     "text": [
      "Original:  I love Python language. It is no 1 language of the world!!\n",
      "No grouping:  ['I', 'love', 'Python', 'language', 'It', 'is', 'no', '1', 'language', 'of', 'the', 'world']\n",
      "Grouping Defined:  [('I', 'love'), ('Python', 'language'), ('It', 'is'), ('no', '1'), ('language', 'of'), ('the', 'world')]\n"
     ]
    }
   ],
   "source": [
    "# Return a string list when no groups are defined in reg expression. (or contans only one group)\n",
    "print('Original: ', str1)\n",
    "print('No grouping: ',re.findall(r'\\w+', str1))\n",
    "\n",
    "#If grouping defined,in reg expression, then groups will be tuples in the list.\n",
    "print('Grouping Defined: ', re.findall(r'(\\w+) *(\\w+)',str1))"
   ]
  },
  {
   "cell_type": "markdown",
   "metadata": {},
   "source": [
    "# 8. In standard expressions, what does the | character mean?\n"
   ]
  },
  {
   "cell_type": "code",
   "execution_count": 8,
   "metadata": {},
   "outputs": [
    {
     "name": "stdout",
     "output_type": "stream",
     "text": [
      "10|12 Bitwise OR:  14 \n",
      "\n",
      "Original:  I love Python language. It is no 1 language of the world!!\n",
      "Python language. It is\n",
      "\n",
      "\n",
      "Original:  My Phone is 212-265-8534. (mobile) Call me asap.\n",
      "Phone is\n"
     ]
    }
   ],
   "source": [
    "# In std expression it stands for bitwise OR operator. eg 10 is 1010 and 12 is 1100 and or leads to 1110 which is 14\n",
    "print('10|12 Bitwise OR: ',10|12,'\\n')\n",
    "\n",
    "#For reg expression it means either or pattern for matchng. \n",
    "#In following case, Phone or Python followed by 'is' in the expression.\n",
    "print('Original: ', str1)\n",
    "print(re.search(r'(Phone|Python).*is',str1).group())\n",
    "\n",
    "print('\\n')\n",
    "print('Original: ',str2)\n",
    "print(re.search(r'(Phone|Python).*is',str2).group())"
   ]
  },
  {
   "cell_type": "markdown",
   "metadata": {},
   "source": [
    "# 9. In regular expressions, what does the? character stand for?"
   ]
  },
  {
   "cell_type": "code",
   "execution_count": 9,
   "metadata": {},
   "outputs": [
    {
     "name": "stdout",
     "output_type": "stream",
     "text": [
      "Original:  I love Python language. It is no 1 language of the world!!\n",
      "Java not found in sentence:  I love Python language.\n"
     ]
    }
   ],
   "source": [
    "# ? matches 0 or 1 preceding group/character\n",
    "print('Original: ',str1)\n",
    "print('Java not found in sentence: ', re.search(r'I.*(Java)?.*language\\.', str1).group())"
   ]
  },
  {
   "cell_type": "code",
   "execution_count": 10,
   "metadata": {},
   "outputs": [
    {
     "name": "stdout",
     "output_type": "stream",
     "text": [
      "Greedy-search of language:  I love Python language. It is no 1 language\n",
      "Non-Greedy search of language:  I love Python language\n"
     ]
    }
   ],
   "source": [
    "# ? can also be used to indicate non-greedy behaviour when used in *?, +?, }? or ??\n",
    "\n",
    "print('Greedy-search of language: ',re.search(r'.*language', str1).group())\n",
    "print('Non-Greedy search of language: ', re.search(r'.*?language', str1).group())\n"
   ]
  },
  {
   "cell_type": "markdown",
   "metadata": {},
   "source": [
    "# 10.regular expressions, what is the difference between the + and * characters?"
   ]
  },
  {
   "cell_type": "code",
   "execution_count": 11,
   "metadata": {},
   "outputs": [],
   "source": [
    "# + matches 1 or more of preceding group/character\n",
    "# * matches 0 or more of preceding group/character"
   ]
  },
  {
   "cell_type": "markdown",
   "metadata": {},
   "source": [
    "# 11. What is the difference between {4} and {4,5} in regular expression?"
   ]
  },
  {
   "cell_type": "code",
   "execution_count": 12,
   "metadata": {},
   "outputs": [
    {
     "name": "stdout",
     "output_type": "stream",
     "text": [
      "XXXXXXXX - (X)4 XXXX\n",
      "XXXXXXXX - (X)(4, 5) XXXXX\n"
     ]
    }
   ],
   "source": [
    "#{4} matches exact 4 occurrences of preceding group while {4,5} will match 4 OR 5\n",
    "\n",
    "s1 = \"XXXXXXXX\"\n",
    "print(f'{s1} - (X){4}', re.search(r'.{4}',s1).group())\n",
    "print(f'{s1} - (X){4,5}', re.search(r'.{4,5}',s1).group())"
   ]
  },
  {
   "cell_type": "markdown",
   "metadata": {},
   "source": [
    "# 12. What do you mean by the \\d, \\w, and \\s shorthand character classes signify in regular expressions?"
   ]
  },
  {
   "cell_type": "code",
   "execution_count": 13,
   "metadata": {},
   "outputs": [],
   "source": [
    "# \\d - Any digit\n",
    "# \\w - Any alphanumeric or underscore character\n",
    "# \\s - Any space (blank, tab, newline)"
   ]
  },
  {
   "cell_type": "markdown",
   "metadata": {},
   "source": [
    "# 13. What do means by \\D, \\W, and \\S shorthand character classes signify in regular expressions?"
   ]
  },
  {
   "cell_type": "code",
   "execution_count": 14,
   "metadata": {},
   "outputs": [],
   "source": [
    "# \\D, \\W, \\S signify any character which is not part of \\d, \\w, \\s respectively."
   ]
  },
  {
   "cell_type": "markdown",
   "metadata": {},
   "source": [
    "# 14. What is the difference between .*? and .*?"
   ]
  },
  {
   "cell_type": "code",
   "execution_count": 15,
   "metadata": {},
   "outputs": [],
   "source": [
    "# There seems to be typo in question so it is not clear. But *? means the patter will exhibit non-greedy behaviour."
   ]
  },
  {
   "cell_type": "markdown",
   "metadata": {},
   "source": [
    "# 15. What is the syntax for matching both numbers and lowercase letters with a character class?"
   ]
  },
  {
   "cell_type": "code",
   "execution_count": 16,
   "metadata": {},
   "outputs": [
    {
     "name": "stdout",
     "output_type": "stream",
     "text": [
      "124, 568, cat, BAG, One, -->  ['124', '568', 'cat', 'ne']\n"
     ]
    }
   ],
   "source": [
    "# [0-9a-z]\n",
    "s1='124, 568, cat, BAG, One,'\n",
    "print(s1,'--> ', re.findall(r'([0-9a-z]+)',s1))"
   ]
  },
  {
   "cell_type": "markdown",
   "metadata": {},
   "source": [
    "# 16. What is the procedure for making a normal expression in regax case insensitive?"
   ]
  },
  {
   "cell_type": "code",
   "execution_count": 17,
   "metadata": {},
   "outputs": [
    {
     "name": "stdout",
     "output_type": "stream",
     "text": [
      "Original:  I love Python language. It is no 1 language of the world!!\n",
      "Search for pYThoN:  Python\n"
     ]
    }
   ],
   "source": [
    "# Include flag re.I\n",
    "print('Original: ', str1)\n",
    "print('Search for pYThoN: ',re.search('pYThoN', str1, re.I).group())"
   ]
  },
  {
   "cell_type": "markdown",
   "metadata": {},
   "source": [
    "# 17. What does the . character normally match? What does it match if re.DOTALL is passed as 2nd argument in re.compile()?"
   ]
  },
  {
   "cell_type": "code",
   "execution_count": 18,
   "metadata": {},
   "outputs": [
    {
     "name": "stdout",
     "output_type": "stream",
     "text": [
      "Original:   < first line\n",
      "second LINE > \n",
      "\n",
      "\n",
      "Search with .* between < >:  []\n",
      "Search with .* between < > with DOTALL:  ['< first line\\nsecond LINE >']\n"
     ]
    }
   ],
   "source": [
    "# . matches any character except newline and hence can be used for single line. \n",
    "# re.DOTALL will match all characters including newline and hence useful in multiline\n",
    "s1=''' < first line\n",
    "second LINE >'''\n",
    "print('Original: ',s1,'\\n\\n')\n",
    "print('Search with .* between < >: ', re.findall('<.*>',s1))\n",
    "print('Search with .* between < > with DOTALL: ', re.findall('<.*>',s1, re.DOTALL))"
   ]
  },
  {
   "cell_type": "markdown",
   "metadata": {},
   "source": [
    "# 18. If numReg = re.compile(r'\\d+'), what will numRegex.sub('X', '11 drummers, 10 pipers, five rings, 4 hen') return?"
   ]
  },
  {
   "cell_type": "code",
   "execution_count": 19,
   "metadata": {},
   "outputs": [
    {
     "name": "stdout",
     "output_type": "stream",
     "text": [
      "X drummers, X pipers, five rings, X hen\n"
     ]
    }
   ],
   "source": [
    "# All digits of ANY LENGTH (\\d+) will be replaced with X\n",
    "numReg = re.compile(r'\\d+')\n",
    "print(numReg.sub('X', '11 drummers, 10 pipers, five rings, 4 hen'))"
   ]
  },
  {
   "cell_type": "markdown",
   "metadata": {},
   "source": [
    "# 19. What does passing re.VERBOSE as the 2nd argument to re.compile() allow to do?"
   ]
  },
  {
   "cell_type": "code",
   "execution_count": 20,
   "metadata": {},
   "outputs": [
    {
     "name": "stdout",
     "output_type": "stream",
     "text": [
      "['212', '265', '8534']\n"
     ]
    }
   ],
   "source": [
    "# it is used to add comments to parts of complex reg expression\n",
    "# As shown comment was added to \\d+ for simplicity\n",
    "print(re.findall(r'''\n",
    "\\d+    #Any digit\n",
    "''', str2,\n",
    "re.VERBOSE))"
   ]
  },
  {
   "cell_type": "markdown",
   "metadata": {},
   "source": [
    "# 20. How would you write a regex that matche a number with comma for every three digits? It must match the given following:\n",
    "\n",
    "### '42'  '1,234'  '6,368,745' \n",
    "### but not the following: '12,34,567' (which has only two digits between the commas)\n"
   ]
  },
  {
   "cell_type": "code",
   "execution_count": 21,
   "metadata": {},
   "outputs": [
    {
     "name": "stdout",
     "output_type": "stream",
     "text": [
      "Original List:   42 1,234 6,368,745  1,34,567 1234 \n",
      "\n",
      "[('42', '', '', ''), ('1,234', '', ',234', ''), ('6,368,745', '', ',745', '')]\n"
     ]
    }
   ],
   "source": [
    "s1 = '42 1,234 6,368,745  1,34,567 1234'\n",
    "num_list = re.findall(r'''(\n",
    "((?<=^)|(?<=\\s))    #Look behind. The number is bounded by space or it may start from beginning of line\n",
    "\\d{1,3}(,\\d{3})*    #Main Logic to identify number\n",
    "((?=[\\s])|(?=$))    #Again end with space or end of line\n",
    ")''', s1\n",
    ",re.VERBOSE)\n",
    "print('Original List:  ',s1,'\\n')\n",
    "print(num_list)"
   ]
  },
  {
   "cell_type": "code",
   "execution_count": 22,
   "metadata": {},
   "outputs": [
    {
     "data": {
      "text/plain": [
       "['42', '1,234', '6,368,745']"
      ]
     },
     "execution_count": 22,
     "metadata": {},
     "output_type": "execute_result"
    }
   ],
   "source": [
    "# to get the list of numbers alone\n",
    "[x[0] for x in num_list]"
   ]
  },
  {
   "cell_type": "markdown",
   "metadata": {},
   "source": [
    "# 21. How would you write a regex that matches the full name of someone whose last name is Watanabe? You can assume that the first name that comes before it will always be one word that begins with a capital letter. The regex must match the following:\n",
    "\n",
    "'Haruto Watanabe'\n",
    "'Alice Watanabe'\n",
    "'RoboCop Watanabe'\n",
    "but not the following:\n",
    "\n",
    "'haruto Watanabe' (where the first name is not capitalized)\n",
    "'Mr. Watanabe' (where the preceding word has a nonletter character)\n",
    "'Watanabe' (which has no first name)\n",
    "'Haruto watanabe' (where Watanabe is not capitalized)\n"
   ]
  },
  {
   "cell_type": "code",
   "execution_count": 23,
   "metadata": {},
   "outputs": [
    {
     "data": {
      "text/plain": [
       "['Haruto Watanabe', 'Alice Watanabe', 'RoboCop Watanabe']"
      ]
     },
     "execution_count": 23,
     "metadata": {},
     "output_type": "execute_result"
    }
   ],
   "source": [
    "str1 = \"Haruto Watanabe Alice Watanabe RoboCop Watanabe haruto Watanabe  Mr. Watanabe  Haruto watanabe \"\n",
    "\n",
    "re.findall(r'([A-Z]\\w*\\s+Watanabe)',str1)"
   ]
  },
  {
   "cell_type": "markdown",
   "metadata": {},
   "source": [
    "# 22. How would you write a regex that matches a sentence where the first word is either Alice, Bob, or Carol; the second word is either eats, pets, or throws; the third word is apples, cats, or baseballs; and the sentence ends with a period? This regex should be case-insensitive. It must match the following:\n",
    "\n",
    "'Alice eats apples.'\n",
    "'Bob pets cats.'\n",
    "'Carol throws baseballs.'\n",
    "'Alice throws Apples.'\n",
    "'BOB EATS CATS.'\n",
    "but not the following:\n",
    "\n",
    "'RoboCop eats apples.'\n",
    "'ALICE THROWS FOOTBALLS.'\n",
    "'Carol eats 7 cats.'\n"
   ]
  },
  {
   "cell_type": "code",
   "execution_count": 24,
   "metadata": {},
   "outputs": [
    {
     "name": "stdout",
     "output_type": "stream",
     "text": [
      "[('Alice eats apples', 'Alice', 'eats', 'apples'), ('Bob pets cats', 'Bob', 'pets', 'cats'), ('Carol throws baseballs', 'Carol', 'throws', 'baseballs'), ('Alice throws Apples', 'Alice', 'throws', 'Apples'), ('BOB EATS CATS', 'BOB', 'EATS', 'CATS')]\n",
      "\n",
      "Final filtered Sentences\n",
      "\n",
      "\n",
      "['Alice eats apples', 'Bob pets cats', 'Carol throws baseballs', 'Alice throws Apples', 'BOB EATS CATS']\n"
     ]
    }
   ],
   "source": [
    "str1 = \"'Alice eats apples.' 'Bob pets cats.' 'Carol throws baseballs.' 'Alice throws Apples.' 'BOB EATS CATS.' \\\n",
    "'RoboCop eats apples.' 'ALICE THROWS FOOTBALLS.' 'Carol eats 7 cats.' \"\n",
    "\n",
    "s_list = re.findall(r'((alice|bob|carol) +(eats|pets|throws) +(apples|cats|baseballs))', str1, re.I)\n",
    "print(s_list)\n",
    "print('\\nFinal filtered Sentences\\n\\n')\n",
    "print([x[0] for x in s_list])"
   ]
  }
 ],
 "metadata": {
  "kernelspec": {
   "display_name": "Python 3",
   "language": "python",
   "name": "python3"
  },
  "language_info": {
   "codemirror_mode": {
    "name": "ipython",
    "version": 3
   },
   "file_extension": ".py",
   "mimetype": "text/x-python",
   "name": "python",
   "nbconvert_exporter": "python",
   "pygments_lexer": "ipython3",
   "version": "3.7.2"
  }
 },
 "nbformat": 4,
 "nbformat_minor": 2
}
