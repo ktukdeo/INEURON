{
 "cells": [
  {
   "cell_type": "code",
   "execution_count": 1,
   "metadata": {},
   "outputs": [],
   "source": [
    "import os\n",
    "from pathlib import Path"
   ]
  },
  {
   "cell_type": "markdown",
   "metadata": {},
   "source": [
    "# 1. To what does a relative path refer?"
   ]
  },
  {
   "cell_type": "code",
   "execution_count": 2,
   "metadata": {},
   "outputs": [],
   "source": [
    "# It refers relative to current working directory - os.getcwd()"
   ]
  },
  {
   "cell_type": "markdown",
   "metadata": {},
   "source": [
    "# 2. What is the first step on an absolute path?"
   ]
  },
  {
   "cell_type": "code",
   "execution_count": 3,
   "metadata": {},
   "outputs": [],
   "source": [
    "# Not sure what \"first step\" means. It begins with drive (C: etc) for windows and root folder(/) for Unix"
   ]
  },
  {
   "cell_type": "markdown",
   "metadata": {},
   "source": [
    "# 3. On Windows, what does Path('C:/Users') / 'Al' evaluate to?\n"
   ]
  },
  {
   "cell_type": "code",
   "execution_count": 4,
   "metadata": {},
   "outputs": [
    {
     "name": "stdout",
     "output_type": "stream",
     "text": [
      "<class 'pathlib.WindowsPath'> C\\Users\\AI\n"
     ]
    }
   ],
   "source": [
    "#It evaluates to WindowsPath object after adding AI as subdirectory to C:/Users. It can be converted to string with str() function\n",
    "winp = Path('C/Users') / 'AI'\n",
    "print(type(winp), str(winp))"
   ]
  },
  {
   "cell_type": "markdown",
   "metadata": {},
   "source": [
    "# 4. On Windows, what does 'C:/Users' / 'Al' evaluate to?"
   ]
  },
  {
   "cell_type": "code",
   "execution_count": 5,
   "metadata": {},
   "outputs": [],
   "source": [
    "# I think this is same as question 3 with typo."
   ]
  },
  {
   "cell_type": "markdown",
   "metadata": {},
   "source": [
    "# 5. What do the functions os.getcwd() and os.chdir() do?"
   ]
  },
  {
   "cell_type": "code",
   "execution_count": 6,
   "metadata": {},
   "outputs": [
    {
     "name": "stdout",
     "output_type": "stream",
     "text": [
      "C:\\Temp\n"
     ]
    }
   ],
   "source": [
    "# getcwd - get current working directory\n",
    "# chdir - change directory to the specified one. This becomes new CWD.\n",
    "os.chdir(str(Path('C:/Temp')))\n",
    "print(os.getcwd())"
   ]
  },
  {
   "cell_type": "markdown",
   "metadata": {},
   "source": [
    "# 6. What is the difference between the. and.. folders?"
   ]
  },
  {
   "cell_type": "code",
   "execution_count": 7,
   "metadata": {},
   "outputs": [],
   "source": [
    "# . is CWD and .. refers to parent folder (One level up)"
   ]
  },
  {
   "cell_type": "markdown",
   "metadata": {},
   "source": [
    "# 7. Which part of C:/bacon/eggs/spam.txt is the dir name and which part is the base name?"
   ]
  },
  {
   "cell_type": "code",
   "execution_count": 8,
   "metadata": {},
   "outputs": [
    {
     "name": "stdout",
     "output_type": "stream",
     "text": [
      "dirname:   C:\\bacon\\eggs\n",
      "basename:  spam.txt\n"
     ]
    }
   ],
   "source": [
    "wfile = os.path.join('C:'+os.sep,'bacon','eggs','spam.txt')\n",
    "print('dirname:  ',os.path.dirname(wfile))\n",
    "print('basename: ',os.path.basename(wfile))\n"
   ]
  },
  {
   "cell_type": "markdown",
   "metadata": {},
   "source": [
    "# 8. What are the three “mode” arguments that the open() function accepts?"
   ]
  },
  {
   "cell_type": "code",
   "execution_count": 9,
   "metadata": {},
   "outputs": [],
   "source": [
    "# r - read, w - write,  a - append\n",
    "# rb,wb,ab refers to binary files"
   ]
  },
  {
   "cell_type": "markdown",
   "metadata": {},
   "source": [
    "# 9. What happens if you open existing file in write mode?"
   ]
  },
  {
   "cell_type": "code",
   "execution_count": 10,
   "metadata": {},
   "outputs": [],
   "source": [
    "# The file will be emptied and overwritten"
   ]
  },
  {
   "cell_type": "markdown",
   "metadata": {},
   "source": [
    "# 10. How do you tell the difference between read() and readlines()?"
   ]
  },
  {
   "cell_type": "code",
   "execution_count": 11,
   "metadata": {},
   "outputs": [
    {
     "name": "stdout",
     "output_type": "stream",
     "text": [
      "read method\n",
      " Line 1\n",
      "Line 2\n",
      "Line 3\n",
      "Line 4\n",
      "\n",
      "\n",
      "readlnes method\n",
      " ['Line 1\\n', 'Line 2\\n', 'Line 3\\n', 'Line 4']\n"
     ]
    }
   ],
   "source": [
    "# read will read entire content of file. It helps when file size is small and want to apply some regex updates to file.\n",
    "# readlines will return a list of all lines of the file.\n",
    "\n",
    "with open('C:\\\\TEMP\\\\TMPL1.TXT','r') as f:\n",
    "    read_var = f.read()\n",
    "    f.seek(0,0)\n",
    "    readlines_var = f.readlines()\n",
    "\n",
    "print('read method\\n', read_var)\n",
    "print('\\n')\n",
    "print('readlnes method\\n', readlines_var)"
   ]
  },
  {
   "cell_type": "markdown",
   "metadata": {},
   "source": [
    "# 11. How does a shelf value resemble a data structure?"
   ]
  },
  {
   "cell_type": "code",
   "execution_count": 12,
   "metadata": {},
   "outputs": [],
   "source": [
    "# shelf module is used to store and retrieve variables (similar to pickle)\n",
    "# The variables are saved as key/value pair and resembles dictonary data structure."
   ]
  },
  {
   "cell_type": "code",
   "execution_count": null,
   "metadata": {},
   "outputs": [],
   "source": []
  }
 ],
 "metadata": {
  "kernelspec": {
   "display_name": "Python 3",
   "language": "python",
   "name": "python3"
  },
  "language_info": {
   "codemirror_mode": {
    "name": "ipython",
    "version": 3
   },
   "file_extension": ".py",
   "mimetype": "text/x-python",
   "name": "python",
   "nbconvert_exporter": "python",
   "pygments_lexer": "ipython3",
   "version": "3.7.2"
  }
 },
 "nbformat": 4,
 "nbformat_minor": 2
}
