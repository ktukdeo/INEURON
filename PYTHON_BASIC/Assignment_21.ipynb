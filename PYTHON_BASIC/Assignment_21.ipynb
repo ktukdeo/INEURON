{
 "cells": [
  {
   "cell_type": "code",
   "execution_count": 1,
   "metadata": {},
   "outputs": [],
   "source": [
    "import time, datetime\n",
    "import os, pathlib"
   ]
  },
  {
   "cell_type": "markdown",
   "metadata": {},
   "source": [
    "# 1. Add the current date to the text file today.txt as a string."
   ]
  },
  {
   "cell_type": "code",
   "execution_count": 4,
   "metadata": {},
   "outputs": [
    {
     "name": "stdout",
     "output_type": "stream",
     "text": [
      "2021/03/11 13:30:32\n"
     ]
    }
   ],
   "source": [
    "today = datetime.datetime.now().strftime('%Y/%m/%d %H:%M:%S')\n",
    "print(today)\n",
    "with open('today.txt', 'w') as f:\n",
    "    f.write(today)"
   ]
  },
  {
   "cell_type": "markdown",
   "metadata": {},
   "source": [
    "# 2. Read the text file today.txt into the string today_string"
   ]
  },
  {
   "cell_type": "code",
   "execution_count": 5,
   "metadata": {},
   "outputs": [
    {
     "name": "stdout",
     "output_type": "stream",
     "text": [
      "2021/03/11 13:30:32\n"
     ]
    }
   ],
   "source": [
    "with open('today.txt','r') as f:\n",
    "    today_string = f.read()\n",
    "print(today_string)"
   ]
  },
  {
   "cell_type": "markdown",
   "metadata": {},
   "source": [
    "# 3. Take the date from today_string and parse it."
   ]
  },
  {
   "cell_type": "code",
   "execution_count": 6,
   "metadata": {},
   "outputs": [
    {
     "name": "stdout",
     "output_type": "stream",
     "text": [
      "2021-03-11 13:30:32\n"
     ]
    }
   ],
   "source": [
    "today_parse = datetime.datetime.strptime(today_string, '%Y/%m/%d %H:%M:%S')\n",
    "print(today_parse)"
   ]
  },
  {
   "cell_type": "markdown",
   "metadata": {},
   "source": [
    "# 4. Make list of all the files in the current directory."
   ]
  },
  {
   "cell_type": "code",
   "execution_count": 7,
   "metadata": {},
   "outputs": [
    {
     "name": "stdout",
     "output_type": "stream",
     "text": [
      "Current Directory:  c:\\abc\\f1 \n",
      "\n",
      "Files in current folder\n",
      "Book1.xlsx\n",
      "file1.txt\n",
      "file2.txt\n",
      "file3.txt\n"
     ]
    }
   ],
   "source": [
    "#I changed directory because, I created specific folder structure I wanted to use.\n",
    "\n",
    "os.chdir(pathlib.Path('c:/abc/f1'))\n",
    "print('Current Directory: ',os.getcwd(),'\\n')\n",
    "\n",
    "print('Files in current folder')\n",
    "lst = os.listdir('.')\n",
    "\n",
    "for f in lst:\n",
    "    if os.path.isfile(f):print(f) \n"
   ]
  },
  {
   "cell_type": "markdown",
   "metadata": {},
   "source": [
    "# 5. Create a list of all of the files in your parent directory."
   ]
  },
  {
   "cell_type": "code",
   "execution_count": 8,
   "metadata": {},
   "outputs": [
    {
     "name": "stdout",
     "output_type": "stream",
     "text": [
      "Files in parent folder\n",
      "f2all.zip\n",
      "file1.txt\n",
      "file10.txt\n"
     ]
    }
   ],
   "source": [
    "print('Files in parent folder')\n",
    "\n",
    "pfolder=pathlib.Path(os.path.abspath('..'))\n",
    "lst = os.listdir(pfolder)\n",
    "\n",
    "for f in lst:\n",
    "    if os.path.isfile(pfolder/f):print(f)"
   ]
  },
  {
   "cell_type": "markdown",
   "metadata": {},
   "source": [
    "# 6. Build three distinct processes using multiprocessing. Wait a random number of seconds between one and five for each, then print the current time and exit."
   ]
  },
  {
   "cell_type": "code",
   "execution_count": 11,
   "metadata": {},
   "outputs": [],
   "source": [
    "from multiprocessing import Process\n",
    "import datetime\n",
    "import random as rnd\n",
    "\n",
    "def get_time():\n",
    "    return datetime.datetime.now().strftime('%H:%M:%S')\n",
    "\n",
    "def time_proc(proc):\n",
    "    sec = rnd.choice(range(1,6))\n",
    "    print(f'Process No: {proc} -- Start Time: {get_time()} -- Sleep Time: {sec}')\n",
    "    time.sleep(sec)\n",
    "    print(f'Process No: {proc} -- End Time: {get_time()}')\n",
    "\n",
    "if __name__ == '__main__':\n",
    "    p1 = Process(target=time_proc, args=('1'))\n",
    "    p2 = Process(target=time_proc, args=('2'))\n",
    "    p3 = Process(target=time_proc, args=('3'))\n",
    "\n",
    "    pr=[p1,p2,p3]\n",
    "    for p in pr:p.start()\n",
    "    for p in pr:p.join()\n"
   ]
  },
  {
   "cell_type": "code",
   "execution_count": null,
   "metadata": {},
   "outputs": [],
   "source": [
    "#The above code was run in command prompt and output of 2 runs is given below. Jupyter notebook does not give any result.\n",
    "'''\n",
    "c:\\temp>python pr.py\n",
    "Process No: 1 -- Start Time: 13:08:24 -- Sleep Time: 2\n",
    "Process No: 3 -- Start Time: 13:08:24 -- Sleep Time: 2\n",
    "Process No: 2 -- Start Time: 13:08:24 -- Sleep Time: 3\n",
    "Process No: 1 -- End Time: 13:08:26\n",
    "Process No: 3 -- End Time: 13:08:26\n",
    "Process No: 2 -- End Time: 13:08:27\n",
    "\n",
    "c:\\temp>python pr.py\n",
    "Process No: 1 -- Start Time: 13:08:33 -- Sleep Time: 4\n",
    "Process No: 2 -- Start Time: 13:08:33 -- Sleep Time: 3\n",
    "Process No: 3 -- Start Time: 13:08:33 -- Sleep Time: 1\n",
    "Process No: 3 -- End Time: 13:08:34\n",
    "Process No: 2 -- End Time: 13:08:36\n",
    "Process No: 1 -- End Time: 13:08:37\n",
    "'''\n",
    "''"
   ]
  },
  {
   "cell_type": "markdown",
   "metadata": {},
   "source": [
    "# 7. Make a date item for your birthday."
   ]
  },
  {
   "cell_type": "code",
   "execution_count": 10,
   "metadata": {},
   "outputs": [
    {
     "name": "stdout",
     "output_type": "stream",
     "text": [
      "1995-02-07 00:00:00\n"
     ]
    }
   ],
   "source": [
    "# Consider Birthdate as 7-Feb-1995\n",
    "birthdate = datetime.datetime(1995,2,7)\n",
    "print(birthdate)"
   ]
  },
  {
   "cell_type": "markdown",
   "metadata": {},
   "source": [
    "# 8. What day of the week did you born into this world?"
   ]
  },
  {
   "cell_type": "code",
   "execution_count": 12,
   "metadata": {},
   "outputs": [
    {
     "name": "stdout",
     "output_type": "stream",
     "text": [
      "Using strftime:  Tuesday\n",
      "Using Calendar:  Tuesday\n"
     ]
    }
   ],
   "source": [
    "print('Using strftime: ',birthdate.strftime('%A'))\n",
    "\n",
    "#Another way\n",
    "import calendar\n",
    "print('Using Calendar: ',calendar.day_name[birthdate.weekday()])"
   ]
  },
  {
   "cell_type": "markdown",
   "metadata": {},
   "source": [
    "# 9. When would you (or were you) reach the age of 10,000 days?"
   ]
  },
  {
   "cell_type": "code",
   "execution_count": 13,
   "metadata": {},
   "outputs": [
    {
     "name": "stdout",
     "output_type": "stream",
     "text": [
      "Date after 10000 days:  2022/06/25\n"
     ]
    }
   ],
   "source": [
    "period = datetime.timedelta(days=10000)\n",
    "print('Date after 10000 days: ',(birthdate+period).strftime('%Y/%m/%d'))"
   ]
  }
 ],
 "metadata": {
  "kernelspec": {
   "display_name": "Python 3",
   "language": "python",
   "name": "python3"
  },
  "language_info": {
   "codemirror_mode": {
    "name": "ipython",
    "version": 3
   },
   "file_extension": ".py",
   "mimetype": "text/x-python",
   "name": "python",
   "nbconvert_exporter": "python",
   "pygments_lexer": "ipython3",
   "version": "3.7.2"
  }
 },
 "nbformat": 4,
 "nbformat_minor": 2
}
