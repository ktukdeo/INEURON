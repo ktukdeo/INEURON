{
 "cells": [
  {
   "cell_type": "markdown",
   "metadata": {},
   "source": [
    "# 1. What are the benefits of including roles in the programmes?\n",
    "\n",
    "<h2> <span style='color:blue'>\n",
    "Did not understand the question.\n",
    "</span><h2>"
   ]
  },
  {
   "cell_type": "markdown",
   "metadata": {},
   "source": [
    "# 2. When does the code in a function run: when it's specified or when it's called?\n",
    "\n",
    "<h2> <span style='color:blue'>\n",
    "It runs when function is called.\n",
    "</span><h2>"
   ]
  },
  {
   "cell_type": "markdown",
   "metadata": {},
   "source": [
    "# 3. What statement causes a feature to be created?\n",
    "\n",
    "<h2> <span style='color:blue'>\n",
    "Do we mean how function is created instead of feature ? <br>\n",
    "    The statement is def myfunction()\n",
    "</span><h2>"
   ]
  },
  {
   "cell_type": "markdown",
   "metadata": {},
   "source": [
    "# 4. What is the distinction between a function and a call to a function?\n",
    "\n",
    "<h2> <span style='color:blue'>\n",
    "A function is a block of code to be executed. Function name is simply a pointer to the code. The function can be sent freely as a parameter and is essential for functional programming. <br>\n",
    "    A call to function actually executes the code contained in the function.\n",
    "</span><h2>"
   ]
  },
  {
   "cell_type": "markdown",
   "metadata": {},
   "source": [
    "# 5. In a Python application, how many global scopes are there? How many local scopes are there?\n",
    "\n",
    "<h2> <span style='color:blue'>\n",
    "If we have a function nested inside another function, all variable from outer functions as well as module in which they are defined constitute global scope. Local scope again is relative to that function.<br>\n",
    "    In typical scenario with function in a module, we will have one global scope and 1 local scope\n",
    "</span><h2>"
   ]
  },
  {
   "cell_type": "markdown",
   "metadata": {},
   "source": [
    "# 6. When a function call returns, what happens to variables in the local scope?\n",
    "\n",
    "\n",
    "<h2> <span style='color:blue'>\n",
    "For regular function, the variables are on the heap and garbage collected and values are all lost. <br><br>\n",
    "    In case of yield functions (Generator), the function object with all local scope variables are saved and function as iterator.\n",
    "</span><h2>"
   ]
  },
  {
   "cell_type": "markdown",
   "metadata": {},
   "source": [
    "# 7. What is the concept of a return value? Is it possible to have a return value in an expression?\n",
    "\n",
    "<h2> <span style='color:blue'>\n",
    "Return value is value calculated by function and sent back to the main program which called the function. <br><br>\n",
    "    Yes it is possible to have return value in expression. <br>\n",
    "    eg val = 5 * round(100.62,1)   -- round is inbuilt function here which is used in expression.\n",
    "</span><h2>"
   ]
  },
  {
   "cell_type": "markdown",
   "metadata": {},
   "source": [
    "# 8. What is the return value of a call to a function that does not have a return statement?\n",
    "\n",
    "\n",
    "<h2> <span style='color:blue'>\n",
    "The value returned is None\n",
    "</span><h2>"
   ]
  },
  {
   "cell_type": "markdown",
   "metadata": {},
   "source": [
    "# 9. How do you make a function variable refer to the global variable?\n",
    "\n",
    "<h2> <span style='color:blue'>\n",
    "If variable is defined in outer function/main program then it is accessible to function as well(provided it was defined prior to function being called.) as long as there is nolocal variable with same name. <br><br>\n",
    "The global variable is read only inside the function. If we need to change it inside function then use global keyword. <br><br>\n",
    "Sample code is below.\n",
    "</span><h2>"
   ]
  },
  {
   "cell_type": "code",
   "execution_count": 11,
   "metadata": {},
   "outputs": [
    {
     "name": "stdout",
     "output_type": "stream",
     "text": [
      "prior to abc function 5\n",
      "7\n"
     ]
    }
   ],
   "source": [
    "gvar = 5\n",
    "def abc():\n",
    "    global gvar\n",
    "    gvar = 7\n",
    "print('prior to abc function', gvar)    \n",
    "abc()\n",
    "print(gvar)"
   ]
  },
  {
   "cell_type": "markdown",
   "metadata": {},
   "source": [
    "# 10. What data form does None belong to?\n",
    "\n",
    "<h2> <span style='color:blue'>\n",
    "type(None) is NoneType\n",
    "</span><h2>"
   ]
  },
  {
   "cell_type": "markdown",
   "metadata": {},
   "source": [
    "# 11. What does the sentence import areallyourpetsnamederic do?\n",
    "\n",
    "<h2> <span style='color:blue'>\n",
    "If import file is a module then it is run any non-function statements. All variables, functions are now stored in local namespace and can be accessed with module prefix.<br><br>\n",
    "    If import statement refers to a  package then system executes __init__.py\n",
    "    \n",
    "</span><h2>"
   ]
  },
  {
   "cell_type": "markdown",
   "metadata": {},
   "source": [
    "# 12. If you had a bacon() feature in a spam module, what would you call it after importing spam?\n",
    "\n",
    "<h2> <span style='color:blue'>\n",
    "import spam <br>\n",
    "    then call function as spam.bacon()\n",
    "</span><h2>"
   ]
  },
  {
   "cell_type": "markdown",
   "metadata": {},
   "source": [
    "# 13. What can you do to save a programme from crashing if it encounters an error?\n",
    "\n",
    "<h2> <span style='color:blue'>\n",
    "Call program from with try - catch block\n",
    "</span><h2>"
   ]
  },
  {
   "cell_type": "markdown",
   "metadata": {},
   "source": [
    "# 14. What is the purpose of the try clause? What is the purpose of the except clause?\n",
    "\n",
    "<h2> <span style='color:blue'>\n",
    "try block contains the code to be executed and monitored for any exceptions.This way the program is saved from crashing.<br><br>\n",
    "    Except block catches a specific error or we can use keyword except as a catch-all. This allows to take error specific action<br><br>\n",
    "    Pls check below mentioned code which catches Divide by zero error.\n",
    "    </span><h2>"
   ]
  },
  {
   "cell_type": "code",
   "execution_count": 22,
   "metadata": {},
   "outputs": [
    {
     "name": "stdout",
     "output_type": "stream",
     "text": [
      "ttt\n",
      "fin\n"
     ]
    }
   ],
   "source": [
    "try:\n",
    "    a=0\n",
    "    5/a\n",
    "except ZeroDivisionError:\n",
    "    print('Division by error')\n",
    "except:\n",
    "    print('Default error')\n",
    "finally:\n",
    "    print('Always execute regardless of errors')"
   ]
  },
  {
   "cell_type": "code",
   "execution_count": null,
   "metadata": {},
   "outputs": [],
   "source": [
    "<h2> <span style='color:blue'>\n",
    "\n",
    "</span><h2>"
   ]
  }
 ],
 "metadata": {
  "kernelspec": {
   "display_name": "Python 3",
   "language": "python",
   "name": "python3"
  },
  "language_info": {
   "codemirror_mode": {
    "name": "ipython",
    "version": 3
   },
   "file_extension": ".py",
   "mimetype": "text/x-python",
   "name": "python",
   "nbconvert_exporter": "python",
   "pygments_lexer": "ipython3",
   "version": "3.7.2"
  }
 },
 "nbformat": 4,
 "nbformat_minor": 2
}
