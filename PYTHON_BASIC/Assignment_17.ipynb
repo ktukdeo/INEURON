{
 "cells": [
  {
   "cell_type": "markdown",
   "metadata": {},
   "source": [
    "# 1. Give the variable guess me the value 7. Then, if guess me is less than 7, write the conditional tests (if, else, and elif) to print the string 'too low', 'too high', and 'just right' if guess me is greater than 7, and 'just right' if guess me is equal to 7."
   ]
  },
  {
   "cell_type": "code",
   "execution_count": 1,
   "metadata": {},
   "outputs": [
    {
     "name": "stdout",
     "output_type": "stream",
     "text": [
      "Guess Me: -1\n",
      "too low\n",
      "**********\n",
      "Guess Me: 7\n",
      "Just right\n",
      "**********\n",
      "Guess Me: 12\n",
      "too high\n",
      "**********\n"
     ]
    }
   ],
   "source": [
    "for i in range(3):\n",
    "    guess_me = int(input('Guess Me: '))\n",
    "    if guess_me < 7:print('too low')\n",
    "    elif guess_me > 7:print('too high')\n",
    "    else:print('Just right')\n",
    "    print('**********')"
   ]
  },
  {
   "cell_type": "markdown",
   "metadata": {},
   "source": [
    "# 2. Give the variable guess me the value 7 and the variable start the value 1. Create a while loop that compares the start and guess me variables. If the start is less than guess me, the print will be too tiny. Print 'found it!' and then exit the loop if start equals guess me. Print 'oops' and exit the loop if start is greater than guess me. The increments begin at the loop's end."
   ]
  },
  {
   "cell_type": "code",
   "execution_count": 2,
   "metadata": {},
   "outputs": [
    {
     "name": "stdout",
     "output_type": "stream",
     "text": [
      "Guess Me:5\n",
      "Too Tiny\n",
      "Guess Me:2\n",
      "found it\n"
     ]
    }
   ],
   "source": [
    "start=1\n",
    "while True:\n",
    "    guess_me = int(input('Guess Me:'))\n",
    "    if start < guess_me:\n",
    "        print('Too Tiny')\n",
    "    elif start == guess_me:\n",
    "        print('found it')\n",
    "        break\n",
    "    else:\n",
    "        print('Oops')\n",
    "        break\n",
    "    start = start + 1\n",
    "    "
   ]
  },
  {
   "cell_type": "markdown",
   "metadata": {},
   "source": [
    "# 3. Print the following values of the list [3, 2, 1, 0] using a for loop."
   ]
  },
  {
   "cell_type": "code",
   "execution_count": 3,
   "metadata": {},
   "outputs": [
    {
     "name": "stdout",
     "output_type": "stream",
     "text": [
      "3 2 1 0 "
     ]
    }
   ],
   "source": [
    "for i in [3,2,1,0]:print(i, end=' ')"
   ]
  },
  {
   "cell_type": "code",
   "execution_count": 4,
   "metadata": {},
   "outputs": [],
   "source": [
    "# 4. Make a list of even numbers in the range using list comprehension (10)"
   ]
  },
  {
   "cell_type": "code",
   "execution_count": 5,
   "metadata": {},
   "outputs": [
    {
     "name": "stdout",
     "output_type": "stream",
     "text": [
      "[0, 2, 4, 6, 8]\n",
      "[0, 2, 4, 6, 8]\n"
     ]
    }
   ],
   "source": [
    "print([i for i in range(0,10,2)])\n",
    "print([i for i in range(10) if i%2==0])"
   ]
  },
  {
   "cell_type": "markdown",
   "metadata": {},
   "source": [
    "# 5. To make the dictionary squares, use a dictionary comprehension. To return the keys, use range(10) and the square of each key as the value."
   ]
  },
  {
   "cell_type": "code",
   "execution_count": 6,
   "metadata": {},
   "outputs": [
    {
     "name": "stdout",
     "output_type": "stream",
     "text": [
      "{0: 0, 1: 1, 2: 4, 3: 9, 4: 16, 5: 25, 6: 36, 7: 49, 8: 64, 9: 81}\n"
     ]
    }
   ],
   "source": [
    "print({i:i**2 for i in range(10)})"
   ]
  },
  {
   "cell_type": "markdown",
   "metadata": {},
   "source": [
    "# 6. Construct the set odd from the odd numbers in the range using a set comprehension (10)."
   ]
  },
  {
   "cell_type": "code",
   "execution_count": 7,
   "metadata": {},
   "outputs": [
    {
     "name": "stdout",
     "output_type": "stream",
     "text": [
      "{1, 3, 5, 7, 9}\n"
     ]
    }
   ],
   "source": [
    "print({i for i in range(1,10,2)})"
   ]
  },
  {
   "cell_type": "markdown",
   "metadata": {},
   "source": [
    "# 7. Return the string 'Got'and a number for the numbers in range using a generator comprehension (10). Using a for loop, iterate through this.\n"
   ]
  },
  {
   "cell_type": "code",
   "execution_count": 8,
   "metadata": {},
   "outputs": [
    {
     "name": "stdout",
     "output_type": "stream",
     "text": [
      "Got  0  1  2  3  4  5  6  7  8  9  "
     ]
    }
   ],
   "source": [
    "gen_comp = ('Got' if x==-1 else x for x in range(-1,10) )\n",
    "for x in gen_comp:print(x, end='  ')"
   ]
  },
  {
   "cell_type": "markdown",
   "metadata": {},
   "source": [
    "# 8. Create a good feature that returns the list ['Harry, Ron, and Hermione']"
   ]
  },
  {
   "cell_type": "code",
   "execution_count": 9,
   "metadata": {},
   "outputs": [
    {
     "name": "stdout",
     "output_type": "stream",
     "text": [
      "['Harry', 'Ron', 'Hermione']\n"
     ]
    }
   ],
   "source": [
    "def good():\n",
    "    return ['Harry','Ron','Hermione']\n",
    "\n",
    "print(good())"
   ]
  },
  {
   "cell_type": "markdown",
   "metadata": {},
   "source": [
    "# 9. Create a get odds generator function that returns the odd numbers from a set (10). To find and print third value returned, use a for loop."
   ]
  },
  {
   "cell_type": "code",
   "execution_count": 10,
   "metadata": {},
   "outputs": [
    {
     "name": "stdout",
     "output_type": "stream",
     "text": [
      "3rd odd value is:  5\n"
     ]
    }
   ],
   "source": [
    "def get_odds_generator():\n",
    "    for i in range(1,20,2): yield i\n",
    "\n",
    "for i,x in enumerate(get_odds_generator()): \n",
    "    if i==2:\n",
    "        print('3rd odd value is: ',x)\n",
    "        break"
   ]
  },
  {
   "cell_type": "markdown",
   "metadata": {},
   "source": [
    "# 10. Create a test decorator that prints'start' when a feature is called and 'end' when it is completed."
   ]
  },
  {
   "cell_type": "code",
   "execution_count": 11,
   "metadata": {},
   "outputs": [
    {
     "name": "stdout",
     "output_type": "stream",
     "text": [
      "start ------\n",
      "Addition : 8\n",
      "end -------\n"
     ]
    }
   ],
   "source": [
    "def test(fn):\n",
    "    def inner(*kw,**kwargs):\n",
    "        print('start ------')\n",
    "        fn(*kw,**kwargs)\n",
    "        print('end -------')\n",
    "        \n",
    "    return inner   \n",
    "\n",
    "@test        \n",
    "def add_fn(a,b):\n",
    "    print('Addition :',a+b)\n",
    "\n",
    "\n",
    "add_fn(3,5)\n"
   ]
  },
  {
   "cell_type": "markdown",
   "metadata": {},
   "source": [
    "# 11. Create the OopsException exception. To see what happens, raise this exception. Then write the code to catch the exception and show 'Caught an oops'."
   ]
  },
  {
   "cell_type": "code",
   "execution_count": 12,
   "metadata": {},
   "outputs": [
    {
     "name": "stdout",
     "output_type": "stream",
     "text": [
      "Hello Sam you there ??\n",
      "-----\n",
      "Caught an oops\n",
      "Oops Sam missing!!\n",
      "------\n",
      "Lets hope for the best\n"
     ]
    }
   ],
   "source": [
    "class OopsException(Exception):\n",
    "    pass\n",
    "\n",
    "try:\n",
    "    print('Hello Sam you there ??')\n",
    "    raise OopsException('Oops Sam missing!!')\n",
    "    print('Sam found')\n",
    "except OopsException as ex:\n",
    "    print('-----\\nCaught an oops')\n",
    "    print(ex)\n",
    "finally:\n",
    "    print('------\\nLets hope for the best')"
   ]
  },
  {
   "cell_type": "markdown",
   "metadata": {},
   "source": [
    "# 12. Create a dictionary called movies using zip() that pairs these lists: titles = ['Crewel Fate,' 'Creature of Habit'] ['A nun transforms into a monster,' 'A haunted yarn shop,'] and plots ="
   ]
  },
  {
   "cell_type": "code",
   "execution_count": 13,
   "metadata": {},
   "outputs": [
    {
     "name": "stdout",
     "output_type": "stream",
     "text": [
      "{'Crewel Fate': 'A nun transforms into a monster', 'Creature of Habit': 'A haunted yarn shop'}\n"
     ]
    }
   ],
   "source": [
    "# I think there is some typo. The second list actually contans plot for titles list.\n",
    "titles = ['Crewel Fate' ,'Creature of Habit'] \n",
    "plots = ['A nun transforms into a monster' ,'A haunted yarn shop']\n",
    "movies = dict(zip(titles,plots))\n",
    "print(movies)"
   ]
  },
  {
   "cell_type": "code",
   "execution_count": null,
   "metadata": {},
   "outputs": [],
   "source": []
  }
 ],
 "metadata": {
  "kernelspec": {
   "display_name": "Python 3",
   "language": "python",
   "name": "python3"
  },
  "language_info": {
   "codemirror_mode": {
    "name": "ipython",
    "version": 3
   },
   "file_extension": ".py",
   "mimetype": "text/x-python",
   "name": "python",
   "nbconvert_exporter": "python",
   "pygments_lexer": "ipython3",
   "version": "3.7.2"
  }
 },
 "nbformat": 4,
 "nbformat_minor": 2
}
