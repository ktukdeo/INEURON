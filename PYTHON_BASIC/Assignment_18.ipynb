{
 "cells": [
  {
   "cell_type": "markdown",
   "metadata": {},
   "source": [
    "# 1. Create a zoo.py file first. Define the hours() feature, which prints the string 'Open 9-5 daily'. Then import the zoo module and call its hours() function using the interactive interpreter."
   ]
  },
  {
   "cell_type": "code",
   "execution_count": null,
   "metadata": {},
   "outputs": [],
   "source": [
    "import zoo\n",
    "zoo.hours()"
   ]
  },
  {
   "cell_type": "markdown",
   "metadata": {},
   "source": [
    "# 2. Import the zoo module as menagerie and call its hours() feature in the interactive interpreter."
   ]
  },
  {
   "cell_type": "code",
   "execution_count": null,
   "metadata": {},
   "outputs": [],
   "source": [
    "import zoo as menagerie\n",
    "menagerie.hours()"
   ]
  },
  {
   "cell_type": "markdown",
   "metadata": {},
   "source": [
    "# 3. Using the interpreter, explicitly import and call the hours() function from zoo."
   ]
  },
  {
   "cell_type": "code",
   "execution_count": null,
   "metadata": {},
   "outputs": [],
   "source": [
    "'''\n",
    "zoo.py file will have following.  When imported, hours() will get called once from within zoo module itself.\n",
    "\n",
    "def hours():\n",
    "    return \"Open 9-5 daily\"\n",
    "\n",
    "hours()\n",
    "'''"
   ]
  },
  {
   "cell_type": "code",
   "execution_count": null,
   "metadata": {},
   "outputs": [],
   "source": [
    "# 4. Call the hours() function after importing it as information."
   ]
  },
  {
   "cell_type": "code",
   "execution_count": null,
   "metadata": {},
   "outputs": [],
   "source": [
    "import zoo as information\n",
    "information.hours()"
   ]
  },
  {
   "cell_type": "markdown",
   "metadata": {},
   "source": [
    "# 5. Create a plain dictionary with the key-value pairs 'a': 1, 'b': 2, and 'c': 3, and print it out."
   ]
  },
  {
   "cell_type": "code",
   "execution_count": 8,
   "metadata": {},
   "outputs": [
    {
     "name": "stdout",
     "output_type": "stream",
     "text": [
      "('a', 1)  ('b', 2)  ('c', 3)  "
     ]
    }
   ],
   "source": [
    "plain_dict = {'a':1, 'b':2, 'c':3}\n",
    "for x in plain_dict.items():print(x, end='  ')"
   ]
  },
  {
   "cell_type": "markdown",
   "metadata": {},
   "source": [
    "# 6. From the same pairs mentioned in 5, create an OrderedDict called fancy and print it. Was it printed in the same order as the plain version?"
   ]
  },
  {
   "cell_type": "code",
   "execution_count": 5,
   "metadata": {},
   "outputs": [
    {
     "name": "stdout",
     "output_type": "stream",
     "text": [
      "('a', 1)  ('b', 2)  ('c', 3)  "
     ]
    }
   ],
   "source": [
    "from collections import OrderedDict\n",
    "ord_dict = OrderedDict({'a':1, 'b':2, 'c':3})\n",
    "for x in ord_dict.items(): print(x, end='  ')\n",
    "    \n",
    "#Output similar to previous one"
   ]
  },
  {
   "cell_type": "markdown",
   "metadata": {},
   "source": [
    "# 7. Create a dict of lists defaultdict and move the argument list to it. In one assignment, create the list dict of lists['a'] and append the value'something for a' to it. dict of lists['a'] should be printed."
   ]
  },
  {
   "cell_type": "code",
   "execution_count": 11,
   "metadata": {},
   "outputs": [
    {
     "name": "stdout",
     "output_type": "stream",
     "text": [
      "['something']\n",
      "('a', ['something'])\n"
     ]
    }
   ],
   "source": [
    "from collections import defaultdict\n",
    "def_dict = defaultdict(list)\n",
    "def_dict['a'].append('something')\n",
    "print(def_dict['a'])\n",
    "for x in def_dict.items():print(x)"
   ]
  }
 ],
 "metadata": {
  "kernelspec": {
   "display_name": "Python 3",
   "language": "python",
   "name": "python3"
  },
  "language_info": {
   "codemirror_mode": {
    "name": "ipython",
    "version": 3
   },
   "file_extension": ".py",
   "mimetype": "text/x-python",
   "name": "python",
   "nbconvert_exporter": "python",
   "pygments_lexer": "ipython3",
   "version": "3.7.2"
  }
 },
 "nbformat": 4,
 "nbformat_minor": 2
}
