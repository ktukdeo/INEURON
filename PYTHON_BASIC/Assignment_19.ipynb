{
 "cells": [
  {
   "cell_type": "markdown",
   "metadata": {},
   "source": [
    "# 1. Create a Thing class with no contents and print it. Then, from this class, construct an object called example and print it. Are the written values the same as those on the screen, or are they different?\n"
   ]
  },
  {
   "cell_type": "code",
   "execution_count": 1,
   "metadata": {},
   "outputs": [
    {
     "name": "stdout",
     "output_type": "stream",
     "text": [
      "<class '__main__.Thing'> {'__module__': '__main__', '__dict__': <attribute '__dict__' of 'Thing' objects>, '__weakref__': <attribute '__weakref__' of 'Thing' objects>, '__doc__': None}\n",
      "\n",
      "\n",
      "<__main__.Thing object at 0x00000255BD92B518> {}\n"
     ]
    }
   ],
   "source": [
    "class Thing:\n",
    "    pass\n",
    "\n",
    "example = Thing()\n",
    "\n",
    "print(Thing, Thing.__dict__)\n",
    "print('\\n')\n",
    "print(example, example.__dict__)"
   ]
  },
  {
   "cell_type": "markdown",
   "metadata": {},
   "source": [
    "# 2. Create a new class called Thing2 and add the value 'abc' to the letters class attribute. Letters should be printed."
   ]
  },
  {
   "cell_type": "code",
   "execution_count": 2,
   "metadata": {},
   "outputs": [
    {
     "name": "stdout",
     "output_type": "stream",
     "text": [
      "abc\n"
     ]
    }
   ],
   "source": [
    "class Thing2:\n",
    "    letters='abc'\n",
    "\n",
    "print(Thing2.letters)"
   ]
  },
  {
   "cell_type": "markdown",
   "metadata": {},
   "source": [
    "# 3. Create a new class, obviously called Thing3, and assign the value 'xyz' to the letters instance (object) attribute. Letters should be printed. Is it necessary to create an object from the class to accomplish this?"
   ]
  },
  {
   "cell_type": "code",
   "execution_count": 3,
   "metadata": {},
   "outputs": [
    {
     "name": "stdout",
     "output_type": "stream",
     "text": [
      "xyz\n"
     ]
    }
   ],
   "source": [
    "class Thing3:\n",
    "    def __init__(self):\n",
    "        self.letters='xyz'\n",
    "    \n",
    "obj = Thing3()\n",
    "print(obj.letters)\n",
    "# This time it is instance attribute and NOT class attribute. Hence it is necessary to create object"
   ]
  },
  {
   "cell_type": "markdown",
   "metadata": {},
   "source": [
    "# 4. Create an Element class with the instance attributes name, symbol, and number. Create a class object with the values 'Hydrogen,' 'H,' and 1."
   ]
  },
  {
   "cell_type": "code",
   "execution_count": 4,
   "metadata": {},
   "outputs": [
    {
     "name": "stdout",
     "output_type": "stream",
     "text": [
      "{'name': 'Hydrogen', 'symbol': 'H', 'num': 1}\n"
     ]
    }
   ],
   "source": [
    "class Element:\n",
    "    def __init__(self,name,symbol,num):\n",
    "        self.name=name\n",
    "        self.symbol=symbol\n",
    "        self.num=num\n",
    "        \n",
    "obj = Element('Hydrogen','H',1)\n",
    "print(obj.__dict__)"
   ]
  },
  {
   "cell_type": "markdown",
   "metadata": {},
   "source": [
    "# 5. Build a dictionary using the following keys and values: 'Hydrogen,' 'Hydrogen,' 'Hydrogen,' 'Hydrogen,' 'Hydrogen,' 'Hydrogen,' 'Hydrogen,' 'Hydrogen,' 'H Then, using this dictionary, construct a hydrogen object from the class Element."
   ]
  },
  {
   "cell_type": "code",
   "execution_count": 5,
   "metadata": {},
   "outputs": [
    {
     "name": "stdout",
     "output_type": "stream",
     "text": [
      "dict:  {'name': 'Hydrogen', 'symbol': 'H', 'num': 1}\n",
      "Hydrogen H 1\n"
     ]
    }
   ],
   "source": [
    "#The question has a typo. I have used the same attributes as before and will be creating object using dictionary\n",
    "h2_dict={'name': 'Hydrogen', 'symbol': 'H', 'num': 1}\n",
    "obj1 = Element(**h2_dict)\n",
    "print('dict: ',h2_dict)\n",
    "print(obj1.name, obj1.symbol, obj1.num)"
   ]
  },
  {
   "cell_type": "markdown",
   "metadata": {},
   "source": [
    "# 6. Create a dump() method for the Element type, which prints the values of the object's attributes (name, symbol, and number). Create a hydrogen object from this new description and print its attributes with dump()."
   ]
  },
  {
   "cell_type": "code",
   "execution_count": 6,
   "metadata": {},
   "outputs": [
    {
     "name": "stdout",
     "output_type": "stream",
     "text": [
      "Dump method:  Name: Hydrogen - Symbol: H - Number: 1\n"
     ]
    }
   ],
   "source": [
    "class Element:\n",
    "    def __init__(self,name,symbol,num):\n",
    "        self.name=name\n",
    "        self.symbol=symbol\n",
    "        self.num=num\n",
    "        \n",
    "    def dump(self):\n",
    "        print('Dump method: ',f'Name: {self.name} - Symbol: {self.symbol} - Number: {self.num}')\n",
    "        \n",
    "        \n",
    "h2_dict={'name': 'Hydrogen', 'symbol': 'H', 'num': 1}\n",
    "obj1 = Element(**h2_dict)\n",
    "obj1.dump()"
   ]
  },
  {
   "cell_type": "markdown",
   "metadata": {},
   "source": [
    "# 7. Make a print call (hydrogen). Change the name of method dump to __str__ in the Element specification, generate a new hydrogen entity, and call print(hydrogen) again."
   ]
  },
  {
   "cell_type": "code",
   "execution_count": 7,
   "metadata": {},
   "outputs": [
    {
     "name": "stdout",
     "output_type": "stream",
     "text": [
      "Element Descr: Name: Hydrogen - Symbol: H - Number: 1\n"
     ]
    }
   ],
   "source": [
    "class Element:\n",
    "    def __init__(self,name,symbol,num):\n",
    "        self.name=name\n",
    "        self.symbol=symbol\n",
    "        self.num=num\n",
    "                \n",
    "    def __str__(self):\n",
    "        return f'Element Descr: Name: {self.name} - Symbol: {self.symbol} - Number: {self.num}'\n",
    "    \n",
    "\n",
    "h2_dict={'name': 'Hydrogen', 'symbol': 'H', 'num': 1}\n",
    "hydrogen = Element(**h2_dict)\n",
    "print(hydrogen)"
   ]
  },
  {
   "cell_type": "markdown",
   "metadata": {},
   "source": [
    "# 8. Change the name, symbol, and number attributes of Element to private. To return the value of each, define a getter property."
   ]
  },
  {
   "cell_type": "code",
   "execution_count": 8,
   "metadata": {},
   "outputs": [
    {
     "name": "stdout",
     "output_type": "stream",
     "text": [
      "Hydrogen property:  Name:Hydrogen   - Symbol: H  - Number: 1\n"
     ]
    }
   ],
   "source": [
    "class Element:\n",
    "    def __init__(self,name,symbol,num):\n",
    "        self.__name=name\n",
    "        self.__symbol=symbol\n",
    "        self.__num=num\n",
    "        \n",
    "    @property\n",
    "    def name(self):\n",
    "        return self.__name\n",
    "    \n",
    "    @property\n",
    "    def symbol(self):\n",
    "        return self.__symbol\n",
    "    \n",
    "    @property\n",
    "    def symbol_number(self):\n",
    "        return self.__num\n",
    "    \n",
    "h2_dict={'name': 'Hydrogen', 'symbol': 'H', 'num': 1}\n",
    "hydrogen = Element(**h2_dict)\n",
    "print(f\"Hydrogen property:  Name:{hydrogen.name}   - Symbol: {hydrogen.symbol}  - Number: {hydrogen.symbol_number}\" )"
   ]
  },
  {
   "cell_type": "markdown",
   "metadata": {},
   "source": [
    "# 9. Make three different classes: Bear, Rabbit, and Octothorpe. Define only one form for each: eats (). 'Berries' (Bear), 'clover' (Rabbit), or 'campers' (Rabbit) should be returned (Octothorpe). Make a single item out of each and print out what it eats."
   ]
  },
  {
   "cell_type": "code",
   "execution_count": 9,
   "metadata": {},
   "outputs": [
    {
     "name": "stdout",
     "output_type": "stream",
     "text": [
      "Bear eats Berries\n",
      "Rabbit eats Clover\n",
      "Octothorpe eats Campers\n"
     ]
    }
   ],
   "source": [
    "class Bear:\n",
    "    def eats(self):\n",
    "        return 'Berries'\n",
    "\n",
    "class Rabbit:\n",
    "    def eats(self):\n",
    "        return \"Clover\"\n",
    "    \n",
    "class Octothorpe:\n",
    "    def eats(self):\n",
    "        return \"Campers\"\n",
    "    \n",
    "print('Bear eats %s' %Bear().eats())\n",
    "print('Rabbit eats %s' %Rabbit().eats())\n",
    "print('Octothorpe eats %s' %Octothorpe().eats())"
   ]
  },
  {
   "cell_type": "markdown",
   "metadata": {},
   "source": [
    "# 10. Create the Laser, Claw, and SmartPhone classes. There is only one method for each: does (). This gives you the options of 'disintegrate' (Laser), 'crush' (Claw), or 'ring' (Ring) (SmartPhone). Then create a class called Robot with one instance (object) for each of these. Create a does() method for the Robot that prints the actions of its components.\n"
   ]
  },
  {
   "cell_type": "code",
   "execution_count": 10,
   "metadata": {},
   "outputs": [
    {
     "name": "stdout",
     "output_type": "stream",
     "text": [
      "Laser:  disintegrate\n",
      "Claw:   crush\n",
      "Smartphone:  ring\n"
     ]
    }
   ],
   "source": [
    "class Laser:\n",
    "    def does(self):\n",
    "        return 'disintegrate'\n",
    "\n",
    "class Claw:\n",
    "    def does(self):\n",
    "        return 'crush'\n",
    "    \n",
    "class SmartPhone:\n",
    "    def does(self):\n",
    "        return 'ring'\n",
    "\n",
    "class Robot:\n",
    "    def __init__(self):\n",
    "        self.laser = Laser()\n",
    "        self.claw = Claw()\n",
    "        self.sphone = SmartPhone()\n",
    "        \n",
    "    def does(self):\n",
    "        print('Laser: ',self.laser.does())\n",
    "        print('Claw:  ',self.claw.does())\n",
    "        print('Smartphone: ',self.sphone.does())\n",
    "\n",
    "obj = Robot()\n",
    "obj.does()"
   ]
  },
  {
   "cell_type": "code",
   "execution_count": null,
   "metadata": {},
   "outputs": [],
   "source": []
  }
 ],
 "metadata": {
  "kernelspec": {
   "display_name": "Python 3",
   "language": "python",
   "name": "python3"
  },
  "language_info": {
   "codemirror_mode": {
    "name": "ipython",
    "version": 3
   },
   "file_extension": ".py",
   "mimetype": "text/x-python",
   "name": "python",
   "nbconvert_exporter": "python",
   "pygments_lexer": "ipython3",
   "version": "3.7.2"
  }
 },
 "nbformat": 4,
 "nbformat_minor": 2
}
