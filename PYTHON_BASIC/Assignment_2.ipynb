{
 "cells": [
  {
   "cell_type": "markdown",
   "metadata": {},
   "source": [
    "# 1. What are the Boolean data type's two values? How do you go about writing them?\n",
    "\n",
    "<h2> <span style='color:blue'>\n",
    "    True and False.  They are also represented by 1 and 0 respectively. <br>\n",
    "    var = True <br>\n",
    "    var = 5 > 4\n",
    "</span></h2>"
   ]
  },
  {
   "cell_type": "markdown",
   "metadata": {},
   "source": [
    "# 2. What are the three different types of Boolean operators?\n",
    "\n",
    "<h2> <span style='color:blue'>\n",
    "    Comparison Operators such as (>, <, ==,!= etc) <br>\n",
    "    Logical Operators -    AND, OR, NOT\n",
    "</span></h2>"
   ]
  },
  {
   "cell_type": "markdown",
   "metadata": {},
   "source": [
    "# 3. Make a list of each Boolean operator's truth tables (i.e. every possible combination of Boolean values for the operator and what it evaluate ).\n",
    "\n",
    "<h2> <span style='color:blue'>\n",
    "    I did not create actual table but described same thing. <br>\n",
    "    AND -    a and b is True only when a and b BOTH ARE TRUE.  False otherwise for all cases <br><br>\n",
    "    OR - a or b is False when BOTH a and b are False.  True otherwise for all cases <br><br>\n",
    "    NOT - not a &ensp; unary operator toggles True/False. if a is True then not(a) is False and if a is False not(a) is True <br><br>\n",
    "</span></h2>\n"
   ]
  },
  {
   "cell_type": "markdown",
   "metadata": {},
   "source": [
    "# 4. What are the values of the following expressions?\n",
    "\n",
    "<h2> <span style='color:blue'>\n",
    "(5 > 4) and (3 == 5) &ensp; -- False <br><br>\n",
    "not (5 > 4) &ensp; -- False  <br><br>\n",
    "(5 > 4) or (3 == 5)  &ensp; -- True  <br><br>\n",
    "not ((5 > 4) or (3 == 5))  &ensp;  -- False  <br><br>\n",
    "(True and True) and (True == False)  &ensp; -- False  <br><br>\n",
    "(not False) or (not True) &ensp; -- True  <br><br>\n",
    "</span></h2>"
   ]
  },
  {
   "cell_type": "markdown",
   "metadata": {},
   "source": [
    "# 5. What are the six different types of reference operators?\n",
    "\n",
    "<h2> <span style='color:blue'>\n",
    "    Equal To ==  <br>\n",
    "    Not Equal  !=  <br>\n",
    "    Greater Than >  <br>\n",
    "    Less Than < <br>\n",
    "    Greater than Equal To  >=  <br>\n",
    "    Less Than Equal To   <=  <br>\n",
    "</span></h2>"
   ]
  },
  {
   "cell_type": "markdown",
   "metadata": {},
   "source": [
    "# 6. How do you tell the difference between the equal to and assignment operators?\n",
    "\n",
    "\n",
    "<h2> <span style='color:blue'>\n",
    "    Assignment &ensp; =  <br>\n",
    "    Equal To  &ensp; ==  <br>\n",
    "</span></h2>\n"
   ]
  },
  {
   "cell_type": "markdown",
   "metadata": {},
   "source": [
    "# 7. Describe a condition and when you would use one.\n",
    "\n",
    "<h2> <span style='color:blue'>\n",
    "    Condition is used when decision is required based on boolean value of comparison. <br> <br>\n",
    "    eg. Print even or odd <br>\n",
    "    if value%2==0:print('Even') <br>\n",
    "    else: print('Odd') <br>\n",
    "</span></h2>\n"
   ]
  },
  {
   "cell_type": "markdown",
   "metadata": {},
   "source": [
    "# 8. Recognize the following three blocks in this code:\n",
    "\n",
    "<h2> <span style='color:blue'>\n",
    "    Pls check below\n",
    "</span></h2>"
   ]
  },
  {
   "cell_type": "code",
   "execution_count": 14,
   "metadata": {},
   "outputs": [
    {
     "name": "stdout",
     "output_type": "stream",
     "text": [
      "spam\n"
     ]
    }
   ],
   "source": [
    "spam = 0\n",
    "if spam == 10:    #Block-1\n",
    "    print('eggs')\n",
    "    if spam > 5:         #Block-2\n",
    "        print('bacon')   #Block-2 END\n",
    "    else:             #Block-3 \n",
    "        print('ham')  #Block-3 END\n",
    "    print('spam') #Block-1 END\n",
    "print('spam')  "
   ]
  },
  {
   "cell_type": "markdown",
   "metadata": {},
   "source": [
    "# 9. Create a programme that prints. If 1 is stored in spam, prints Hello; if 2 is stored in spam, prints Howdy; and if 3 is stored in spam, prints Salutations! if there's something else in spam.\n"
   ]
  },
  {
   "cell_type": "code",
   "execution_count": 5,
   "metadata": {},
   "outputs": [
    {
     "name": "stdout",
     "output_type": "stream",
     "text": [
      "Input the number 1\n",
      "Hello\n"
     ]
    }
   ],
   "source": [
    "spam = int(input('Input the number '))\n",
    "if spam==1:print('Hello')\n",
    "elif spam==2:print('Howdy')\n",
    "elif spam==3:print('Salutations!')\n",
    "else:print('Something else')"
   ]
  },
  {
   "cell_type": "markdown",
   "metadata": {},
   "source": [
    "# 10.If your programme is stuck in an endless loop, what keys can you press?\n",
    "\n",
    "<h2> <span style='color:blue'>\n",
    "    Ctrl + C\n",
    "</span></h2>"
   ]
  },
  {
   "cell_type": "markdown",
   "metadata": {},
   "source": [
    "# 11. How can you tell the difference between break and continue?\n",
    "\n",
    "\n",
    "<h2> <span style='color:blue'>\n",
    "    Break - Exit out of loop in which it is placed. (Hence control gets passed to end of that loop.)<br><br>\n",
    "    Continue - Skips all remaining statements after continue and control passes to the top of the loop again\n",
    "</span></h2>"
   ]
  },
  {
   "cell_type": "markdown",
   "metadata": {},
   "source": [
    "# 12. In a for loop, what is the difference between range(10), range(0, 10), and range(0, 10, 1)?\n",
    "\n",
    "<h2> <span style='color:blue'>\n",
    "    They are all same. The loop executes 10 times for values 0-9 (both inclusive)\n",
    "</span></h2>"
   ]
  },
  {
   "cell_type": "markdown",
   "metadata": {},
   "source": [
    "# 13. Using a for loop, write a short programme that prints the numbers 1 to 10 Then, using a while loop, create an identical programme that prints the numbers 1 to 10.\n",
    "\n",
    "<h2> <span style='color:blue'>\n",
    "    The code is below\n",
    "</span></h2>"
   ]
  },
  {
   "cell_type": "code",
   "execution_count": 16,
   "metadata": {},
   "outputs": [
    {
     "name": "stdout",
     "output_type": "stream",
     "text": [
      "for loop\n",
      "1 2 3 4 5 6 7 8 9 10 \n",
      "\n",
      "while loop\n",
      "1 2 3 4 5 6 7 8 9 10 \n",
      "\n"
     ]
    }
   ],
   "source": [
    "print('for loop')\n",
    "for i in range(1,11):print(i,end=' ')\n",
    "print('\\n\\nwhile loop')\n",
    "i=1\n",
    "while(i<=10):\n",
    "    print(i, end=' ')\n",
    "    i += 1\n",
    "print('\\n')    "
   ]
  },
  {
   "cell_type": "markdown",
   "metadata": {},
   "source": [
    "# 14. If you had a bacon() function within a spam module, what would you call it after importing spam?\n",
    "\n",
    "<h2> <span style='color:blue'>\n",
    "    from spam import *  &ensp; Then we can simply invoke bacon() <br><br>\n",
    "    import spam   &ensp; Then we have to call spam.bacon()\n",
    "</span></h2>"
   ]
  },
  {
   "cell_type": "code",
   "execution_count": null,
   "metadata": {},
   "outputs": [],
   "source": []
  }
 ],
 "metadata": {
  "kernelspec": {
   "display_name": "Python 3",
   "language": "python",
   "name": "python3"
  },
  "language_info": {
   "codemirror_mode": {
    "name": "ipython",
    "version": 3
   },
   "file_extension": ".py",
   "mimetype": "text/x-python",
   "name": "python",
   "nbconvert_exporter": "python",
   "pygments_lexer": "ipython3",
   "version": "3.7.2"
  }
 },
 "nbformat": 4,
 "nbformat_minor": 2
}
