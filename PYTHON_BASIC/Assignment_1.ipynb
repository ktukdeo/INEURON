{
 "cells": [
  {
   "cell_type": "markdown",
   "metadata": {},
   "source": [
    "# 01. What are the differences between operators and values in the following?\n",
    "\n",
    "<h2> <span style='color:blue'>\n",
    "*  - Multiplication operator  <br/><br/>\n",
    "'hello'   string constant value <br/><br/>\n",
    " -87.8 &ensp;  Numeric float constant value <br/><br/>\n",
    " - &ensp;    Subtraction operator <br/><br/>\n",
    "/  &ensp;  Divison operator  <br/><br/>\n",
    "+  &ensp;  Addition operator <br/><br/>\n",
    "6  &ensp;  Interger constant value <br/><br/>\n",
    "\n",
    "<span/></h2>"
   ]
  },
  {
   "cell_type": "markdown",
   "metadata": {},
   "source": [
    "# 02. What are differences between string and variable ?\n",
    "\n",
    "<h2> <span style='color:blue'>\n",
    "String is a constant immutable value stored in a specific address. Variable is a pointer to location address. <br/><br/>\n",
    "\n",
    "spam = 'spam'   &ensp; spam is a variable pointing to memory address storing 'spam' string (Python does not have character data type)\n",
    "</span></h4>"
   ]
  },
  {
   "cell_type": "markdown",
   "metadata": {},
   "source": [
    "# 03. Describe 3 data forms.\n",
    "\n",
    "<h2> <span style='color:blue'>\n",
    "The question is not clear. I am assuming it means 3 data types. Numeric(int, float) , Boolean, String <br><br>\n",
    "    It could as well be list, tuple, set and dictionary as forms.\n",
    "</span></h2>    "
   ]
  },
  {
   "cell_type": "markdown",
   "metadata": {},
   "source": [
    "# 04. What makes up an expression? What are the functions of all expressions?\n",
    "\n",
    "<h2> <span style='color:blue'>\n",
    "    Expression evaluate to value. Typically it consists of operators for calculation. Expressions are execution instructions for the interpreter. eg   '3', 5+8.  5>8 if 'gt' else 'lt', [3,5,8]\n",
    "</span></h2>"
   ]
  },
  {
   "cell_type": "markdown",
   "metadata": {},
   "source": [
    "# 05. In this chapter, assignment statements such as spam = 10 were added. What's the difference between a declaration and an expression?\n",
    "\n",
    "<h2><span style='color:blue'>\n",
    "    spam=10  &ensp; 10 expression was assigned to spam. spam is autodeclared as a variable of int type. Assignment serves as declaration\n",
    "</span></h2>"
   ]
  },
  {
   "cell_type": "markdown",
   "metadata": {},
   "source": [
    "# 06. After running the following code, what does the variable bacon contain  bacon = 22     bacon + 1\n",
    "<h2><span style='color:blue'>\n",
    " bacon will contain 22 as bacon+1 expression is not assigned back to bacon variable. <br/>\n",
    " if bacon = bacon + 1 then bacon value will be 23\n",
    "    </span></h2>"
   ]
  },
  {
   "cell_type": "markdown",
   "metadata": {},
   "source": [
    "# 07. 7. What should the values of the following two terms be?   'spam' + 'spamspam'             'spam' * 3\n",
    "\n",
    "\n",
    "<h2><span style='color:blue'>\n",
    "    both expressions give same value -  <bold>  'spamspamspam' </bold>\n",
    "</span></h2>"
   ]
  },
  {
   "cell_type": "markdown",
   "metadata": {},
   "source": [
    "# 08. Why is it that eggs is a true variable name but 100 is not?\n",
    "<h2><span style='color:blue'>\n",
    " 100 is a constant value. Variable must start with underscore or alpha. It can not start with number.<br/>\n",
    " Also variable names can not be same as Python reserved names. eggs is \n",
    "</span></h2>"
   ]
  },
  {
   "cell_type": "markdown",
   "metadata": {},
   "source": [
    "# 09. 9. Which of the following three functions may be used to convert a value to an integer, a floating-point number, or a string?\n",
    "\n",
    "<h2><span style='color:blue'>\n",
    "int()  &ensp; int('24') = 24 <br/>   \n",
    "float() &ensp;  float('24') = 24.0 <br/>\n",
    "str() &ensp;  str(24) = '24'\n",
    "</span></h2>"
   ]
  },
  {
   "cell_type": "markdown",
   "metadata": {},
   "source": [
    "# 10. What is the error caused by this expression? What would you do about it?     'I have eaten ' + 99 + ' burritos.'\n",
    "\n",
    "<h2> <span style='color:blue'>\n",
    "    TypeError - Int can not be converted to str implictly. <br/><br/>\n",
    "    Use str function to convert int to str. <br/>\n",
    "    'I have eaten ' + str(99) + ' burritos.'\n",
    "    \n",
    "</span></h2>"
   ]
  }
 ],
 "metadata": {
  "kernelspec": {
   "display_name": "Python 3",
   "language": "python",
   "name": "python3"
  },
  "language_info": {
   "codemirror_mode": {
    "name": "ipython",
    "version": 3
   },
   "file_extension": ".py",
   "mimetype": "text/x-python",
   "name": "python",
   "nbconvert_exporter": "python",
   "pygments_lexer": "ipython3",
   "version": "3.7.2"
  }
 },
 "nbformat": 4,
 "nbformat_minor": 2
}
