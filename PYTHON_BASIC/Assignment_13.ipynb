{
 "cells": [
  {
   "cell_type": "markdown",
   "metadata": {},
   "source": [
    "# 1. What advantages do Excel spreadsheets have over CSV spreadsheets?"
   ]
  },
  {
   "cell_type": "code",
   "execution_count": null,
   "metadata": {},
   "outputs": [],
   "source": [
    "# CSV is a text file, widely used for interface system.\n",
    "# Excel spreadsheets are binary (can be xml based as well) files with rich support of VBA, macros, pivot for data analysis."
   ]
  },
  {
   "cell_type": "markdown",
   "metadata": {},
   "source": [
    "# 2. To construct reader and writer artefacts, what do you pass to csv.reader() and csv.writer()?"
   ]
  },
  {
   "cell_type": "code",
   "execution_count": null,
   "metadata": {},
   "outputs": [],
   "source": [
    "# We pass Python File object.\n",
    "import csv\n",
    "f_read = open('fileread.txt')\n",
    "c_read = csv.reader(f_read)\n",
    "\n",
    "f_write = open('filewrite.txt', 'w') \n",
    "c_write = csv.writer(f_write)"
   ]
  },
  {
   "cell_type": "markdown",
   "metadata": {},
   "source": [
    "# 3. In what modes can File artefacts for readers and writers be opened?"
   ]
  },
  {
   "cell_type": "code",
   "execution_count": null,
   "metadata": {},
   "outputs": [],
   "source": [
    "# reader is r mode\n",
    "# writer in w mode"
   ]
  },
  {
   "cell_type": "markdown",
   "metadata": {},
   "source": [
    "# 4. Which method outputs a CSV file from a list argument?"
   ]
  },
  {
   "cell_type": "code",
   "execution_count": 7,
   "metadata": {},
   "outputs": [],
   "source": [
    "# writerow method\n",
    "import csv\n",
    "f_write = open('csvwrite.txt','w', newline='')\n",
    "c_write = csv.writer(f_write, delimiter=',')\n",
    "c_write.writerow(['John','Doe',25,3000])\n",
    "c_write.writerow(['Molly','Manning',40,12000])\n",
    "f_write.close()"
   ]
  },
  {
   "cell_type": "markdown",
   "metadata": {},
   "source": [
    "# 5. What do the keyword arguments delimiter and lineterminator do?"
   ]
  },
  {
   "cell_type": "code",
   "execution_count": null,
   "metadata": {},
   "outputs": [],
   "source": [
    "# delimiter - separator between fields of row/line\n",
    "# lineterminator - separator between 2 lines"
   ]
  },
  {
   "cell_type": "markdown",
   "metadata": {},
   "source": [
    "# 6. What function returns a Python data structure from a string of JSON data?"
   ]
  },
  {
   "cell_type": "code",
   "execution_count": 9,
   "metadata": {},
   "outputs": [
    {
     "name": "stdout",
     "output_type": "stream",
     "text": [
      "<class 'dict'> {'Name': 'John Doe', 'Age': 22, 'Gender': 'Male'}\n"
     ]
    }
   ],
   "source": [
    "# json.loads()\n",
    "import json\n",
    "json_var = '{\"Name\":\"John Doe\",\"Age\":22,\"Gender\":\"Male\"}'\n",
    "dict_var = json.loads(json_var)\n",
    "print(type(dict_var), dict_var)"
   ]
  },
  {
   "cell_type": "markdown",
   "metadata": {},
   "source": [
    "# 7. What function returns a string of JSON data from a Python data structure?"
   ]
  },
  {
   "cell_type": "code",
   "execution_count": 10,
   "metadata": {},
   "outputs": [
    {
     "name": "stdout",
     "output_type": "stream",
     "text": [
      "<class 'str'> {\"Name\": \"John Doe\", \"Age\": 22, \"Gender\": \"Male\"}\n"
     ]
    }
   ],
   "source": [
    "import json\n",
    "dict_var = {'Name': 'John Doe', 'Age': 22, 'Gender': 'Male'}\n",
    "json_var = json.dumps(dict_var)\n",
    "print(type(json_var), json_var)"
   ]
  }
 ],
 "metadata": {
  "kernelspec": {
   "display_name": "Python 3",
   "language": "python",
   "name": "python3"
  },
  "language_info": {
   "codemirror_mode": {
    "name": "ipython",
    "version": 3
   },
   "file_extension": ".py",
   "mimetype": "text/x-python",
   "name": "python",
   "nbconvert_exporter": "python",
   "pygments_lexer": "ipython3",
   "version": "3.7.2"
  }
 },
 "nbformat": 4,
 "nbformat_minor": 2
}
