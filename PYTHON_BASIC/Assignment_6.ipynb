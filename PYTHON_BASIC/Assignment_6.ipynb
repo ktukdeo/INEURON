{
 "cells": [
  {
   "cell_type": "markdown",
   "metadata": {},
   "source": [
    "# 1. What are escape characters, and how do you use them?"
   ]
  },
  {
   "cell_type": "code",
   "execution_count": 13,
   "metadata": {},
   "outputs": [
    {
     "name": "stdout",
     "output_type": "stream",
     "text": [
      "Joe's Pizza\n",
      "first line \n",
      "second line\n"
     ]
    }
   ],
   "source": [
    "#Escape character starts with backslash(\\) followed by other character in a string literal. \n",
    "#The presence of backslash changes the meaning of the character that follows.\n",
    "#Escape characters allow to use single/double quotes as follows which otherwise result in invalid construct\n",
    "print('Joe\\'s Pizza')\n",
    "#They also allow to print certain ascii-non ascii characters. (eg Backspace, Carriage feed, New Line)\n",
    "print('first line \\nsecond line')"
   ]
  },
  {
   "cell_type": "markdown",
   "metadata": {},
   "source": [
    "# 2. What do the escape characters n and t stand for?"
   ]
  },
  {
   "cell_type": "code",
   "execution_count": 2,
   "metadata": {},
   "outputs": [
    {
     "name": "stdout",
     "output_type": "stream",
     "text": [
      "Age:\t\t25\n",
      "Gender:\t\tMale\n"
     ]
    }
   ],
   "source": [
    "#  \\n is a new line and /t represents tab.\n",
    "print(\"Age:\\t\\t25\\nGender:\\t\\tMale\")"
   ]
  },
  {
   "cell_type": "markdown",
   "metadata": {},
   "source": [
    "# 3. What is the way to include backslash characters in a string?"
   ]
  },
  {
   "cell_type": "code",
   "execution_count": 3,
   "metadata": {},
   "outputs": [
    {
     "name": "stdout",
     "output_type": "stream",
     "text": [
      " File path is C:\\TEMP\\myfile.ipynb\n"
     ]
    }
   ],
   "source": [
    "# backslash should be escaped to include in a string\n",
    "print(\" File path is C:\\\\TEMP\\myfile.ipynb\")"
   ]
  },
  {
   "cell_type": "markdown",
   "metadata": {},
   "source": [
    "# 4. The string \"Howl's Moving Castle\" is a correct value. Why isn't the single quote character in the word Howl's not escaped a problem?"
   ]
  },
  {
   "cell_type": "markdown",
   "metadata": {},
   "source": [
    "### Single quote is enclosed within double quotes and hence it does not pose problem.\n",
    "### Python considers both single quotes and double quotes as valid string enclosers and one can be enclosed within other without raising red flag.\n"
   ]
  },
  {
   "cell_type": "code",
   "execution_count": 4,
   "metadata": {},
   "outputs": [
    {
     "name": "stdout",
     "output_type": "stream",
     "text": [
      "Howl's Moving Castle\n",
      "Howl's Moving Castle\n"
     ]
    }
   ],
   "source": [
    "val = \"Howl's Moving Castle\"\n",
    "print(val)\n",
    "\n",
    "val = 'Howl\\'s Moving Castle'  #Escape\n",
    "print(val)"
   ]
  },
  {
   "cell_type": "markdown",
   "metadata": {},
   "source": [
    "# 5. How do you write a string of newlines if you don't want to use the n character?"
   ]
  },
  {
   "cell_type": "code",
   "execution_count": 5,
   "metadata": {},
   "outputs": [
    {
     "name": "stdout",
     "output_type": "stream",
     "text": [
      "Multiline string with Triple quotes\n",
      "first line\n",
      "second line\n",
      "\n",
      "Using ascii function to create new line using formatted string.\n",
      "first line \n",
      "second line\n"
     ]
    }
   ],
   "source": [
    "print('Multiline string with Triple quotes')\n",
    "val = '''first line\n",
    "second line'''\n",
    "print(val)\n",
    "\n",
    "print('\\nUsing ascii function to create new line using formatted string.')\n",
    "val = f'first line {chr(10)}second line'\n",
    "print(val)"
   ]
  },
  {
   "cell_type": "markdown",
   "metadata": {},
   "source": [
    "# 6. What are the values of the given expressions?"
   ]
  },
  {
   "cell_type": "code",
   "execution_count": 6,
   "metadata": {},
   "outputs": [
    {
     "name": "stdout",
     "output_type": "stream",
     "text": [
      "'Hello, world!'[1] \t e\n",
      "'Hello, world!'[0:5] \t Hello\n",
      "'Hello, world!'[:5] \t Hello\n",
      "'Hello, world!'[3:] \t lo, world!\n"
     ]
    }
   ],
   "source": [
    "s1=\"'Hello, world!'[1]\"\n",
    "s2=\"'Hello, world!'[0:5]\"\n",
    "s3=\"'Hello, world!'[:5]\"\n",
    "s4=\"'Hello, world!'[3:]\"\n",
    "\n",
    "print(s1,'\\t',eval(s1))\n",
    "print(s2,'\\t',eval(s2))\n",
    "print(s3,'\\t',eval(s3))\n",
    "print(s4,'\\t',eval(s4))"
   ]
  },
  {
   "cell_type": "markdown",
   "metadata": {},
   "source": [
    "# 7. What are the values of the following expressions?"
   ]
  },
  {
   "cell_type": "code",
   "execution_count": 7,
   "metadata": {},
   "outputs": [
    {
     "name": "stdout",
     "output_type": "stream",
     "text": [
      "'Hello'.upper() \t\t HELLO\n",
      "'Hello'.upper().isupper() \t True\n",
      "'Hello'.upper().lower() \t hello\n"
     ]
    }
   ],
   "source": [
    "s1=\"'Hello'.upper()\"\n",
    "s2=\"'Hello'.upper().isupper()\"\n",
    "s3=\"'Hello'.upper().lower()\"\n",
    "\n",
    "print(s1,'\\t\\t',eval(s1))\n",
    "print(s2,'\\t',eval(s2))\n",
    "print(s3,'\\t',eval(s3))"
   ]
  },
  {
   "cell_type": "markdown",
   "metadata": {},
   "source": [
    "# 8. What are the values of the following expressions?"
   ]
  },
  {
   "cell_type": "code",
   "execution_count": 8,
   "metadata": {},
   "outputs": [
    {
     "name": "stdout",
     "output_type": "stream",
     "text": [
      "['Remember,', 'remember,', 'the', 'fifth', 'of', 'July.'] \n",
      "\n",
      "There-can-only-one.\n"
     ]
    }
   ],
   "source": [
    "print('Remember, remember, the fifth of July.'.split(),'\\n')\n",
    "print('-'.join('There can only one.'.split()))"
   ]
  },
  {
   "cell_type": "markdown",
   "metadata": {},
   "source": [
    "# 9. What are the methods for right-justifying, left-justifying, and centering a string?"
   ]
  },
  {
   "cell_type": "code",
   "execution_count": 9,
   "metadata": {},
   "outputs": [
    {
     "name": "stdout",
     "output_type": "stream",
     "text": [
      "rjust: >>       abcd <<\n",
      "ljust: >> abcd       <<\n",
      "center:>>    abcd    <<\n"
     ]
    }
   ],
   "source": [
    "# Methods used are rjust, ljust, center\n",
    "val = 'abcd'\n",
    "print('rjust: >>',val.rjust(10,' '),'<<')\n",
    "print('ljust: >>',val.ljust(10,' '),'<<')\n",
    "print('center:>>',val.center(10,' ' ),'<<')\n"
   ]
  },
  {
   "cell_type": "code",
   "execution_count": 10,
   "metadata": {},
   "outputs": [
    {
     "name": "stdout",
     "output_type": "stream",
     "text": [
      "rjust: >>      abcd<<\n",
      "ljust: >>abcd      <<\n",
      "center:>>   abcd   <<\n"
     ]
    }
   ],
   "source": [
    "# Print with formatted string\n",
    "print(f'rjust: >>{val:>10}<<')\n",
    "print(f'ljust: >>{val:<10}<<')\n",
    "print(f'center:>>{val:^10}<<')"
   ]
  },
  {
   "cell_type": "markdown",
   "metadata": {},
   "source": [
    "# 10. What is the best way to remove whitespace characters from the start or end?"
   ]
  },
  {
   "cell_type": "code",
   "execution_count": 11,
   "metadata": {},
   "outputs": [
    {
     "name": "stdout",
     "output_type": "stream",
     "text": [
      "lstrip>> abcd    <<\n",
      "rstrip>>     abcd <<\n",
      "strip>> abcd <<\n"
     ]
    }
   ],
   "source": [
    "#rstrip, lstrip, strip are most common ways to remove blanks\n",
    "val = '    abcd   '\n",
    "print('lstrip>>',val.lstrip(),'<<')\n",
    "print('rstrip>>',val.rstrip(),'<<')\n",
    "print('strip>>',val.strip(),'<<')"
   ]
  },
  {
   "cell_type": "code",
   "execution_count": 12,
   "metadata": {},
   "outputs": [
    {
     "name": "stdout",
     "output_type": "stream",
     "text": [
      "reg_expr_lstrip>> abcd    <<\n",
      "reg_expr_rstrip>>     abcd <<\n"
     ]
    }
   ],
   "source": [
    "# Regular expression is most flexible way to substitute/remove or search. \n",
    "# This is not particularly suitable for simple case like this.\n",
    "import re\n",
    "\n",
    "print('reg_expr_lstrip>>',re.sub('^ *','',val),'<<')\n",
    "print('reg_expr_rstrip>>',re.sub(' *$','',val),'<<')\n"
   ]
  }
 ],
 "metadata": {
  "kernelspec": {
   "display_name": "Python 3",
   "language": "python",
   "name": "python3"
  },
  "language_info": {
   "codemirror_mode": {
    "name": "ipython",
    "version": 3
   },
   "file_extension": ".py",
   "mimetype": "text/x-python",
   "name": "python",
   "nbconvert_exporter": "python",
   "pygments_lexer": "ipython3",
   "version": "3.7.2"
  }
 },
 "nbformat": 4,
 "nbformat_minor": 2
}
