{
 "cells": [
  {
   "cell_type": "markdown",
   "metadata": {},
   "source": [
    "# 1. What is the number of seconds in an hour? Multiply the amount of seconds in a minute (60) by\n",
    "the number of minutes in an hour using the interactive interpreter as a calculator (also 60)."
   ]
  },
  {
   "cell_type": "code",
   "execution_count": 1,
   "metadata": {},
   "outputs": [
    {
     "name": "stdout",
     "output_type": "stream",
     "text": [
      "No of seconds in hour:  3600\n"
     ]
    }
   ],
   "source": [
    "seconds_in_minute, minutes_in_hour = 60,60\n",
    "print('No of seconds in hour: ', seconds_in_minute*minutes_in_hour)"
   ]
  },
  {
   "cell_type": "markdown",
   "metadata": {},
   "source": [
    "# 2. Create a variable called seconds per hour with the result of the previous task (seconds per hour)."
   ]
  },
  {
   "cell_type": "code",
   "execution_count": 2,
   "metadata": {},
   "outputs": [
    {
     "name": "stdout",
     "output_type": "stream",
     "text": [
      "3600\n"
     ]
    }
   ],
   "source": [
    "seconds_per_hour = seconds_in_minute * minutes_in_hour\n",
    "print(seconds_per_hour)"
   ]
  },
  {
   "cell_type": "markdown",
   "metadata": {},
   "source": [
    "# 3. How many seconds do you think there are in a day? Make use of the variables seconds per hour\n",
    "and minutes per hour."
   ]
  },
  {
   "cell_type": "code",
   "execution_count": 3,
   "metadata": {},
   "outputs": [
    {
     "name": "stdout",
     "output_type": "stream",
     "text": [
      "No of seconds in a day:  86400\n"
     ]
    }
   ],
   "source": [
    "hours_in_day=24\n",
    "print('No of seconds in a day: ',hours_in_day * seconds_per_hour)"
   ]
  },
  {
   "cell_type": "markdown",
   "metadata": {},
   "source": [
    "# 4. Calculate seconds per day once more, but this time save the result in the seconds per day variable."
   ]
  },
  {
   "cell_type": "code",
   "execution_count": 4,
   "metadata": {},
   "outputs": [
    {
     "name": "stdout",
     "output_type": "stream",
     "text": [
      "86400\n"
     ]
    }
   ],
   "source": [
    "seconds_per_day = hours_in_day * seconds_per_hour\n",
    "print(seconds_per_day)"
   ]
  },
  {
   "cell_type": "markdown",
   "metadata": {},
   "source": [
    "# 5. Subtract seconds per hour from seconds per day. Floating-point (/) division is the way to go."
   ]
  },
  {
   "cell_type": "code",
   "execution_count": 5,
   "metadata": {},
   "outputs": [
    {
     "name": "stdout",
     "output_type": "stream",
     "text": [
      "24.0\n"
     ]
    }
   ],
   "source": [
    "# I think you mean DIVIDE and NOT SUBTRACT\n",
    "print(seconds_per_day/seconds_per_hour)"
   ]
  },
  {
   "cell_type": "markdown",
   "metadata": {},
   "source": [
    "# 6. Using integer (//) division, divide seconds per day by seconds per hour. Apart from the final, did this number agree with the floating-point value from the previous question ?"
   ]
  },
  {
   "cell_type": "code",
   "execution_count": 6,
   "metadata": {},
   "outputs": [
    {
     "name": "stdout",
     "output_type": "stream",
     "text": [
      "24\n"
     ]
    }
   ],
   "source": [
    "print(seconds_per_day//seconds_per_hour)\n",
    "# Yes. No agrees with previous one."
   ]
  },
  {
   "cell_type": "markdown",
   "metadata": {},
   "source": [
    "# 7. Create genPrimes, a generator that returns a sequence of prime numbers after each call to its next() method: 2, 3, 5, 7, 11,..."
   ]
  },
  {
   "cell_type": "code",
   "execution_count": 7,
   "metadata": {},
   "outputs": [
    {
     "name": "stdout",
     "output_type": "stream",
     "text": [
      "2 3 5 7 11 13 17 "
     ]
    }
   ],
   "source": [
    "def generate_primes():\n",
    "    yield 2\n",
    "    i=3\n",
    "    while True:\n",
    "        isPrime=True\n",
    "        for j in range(2,int(i**0.5)+1):\n",
    "            if i%j==0:\n",
    "                isPrime=False\n",
    "                break\n",
    "                \n",
    "        if isPrime:\n",
    "            yield i\n",
    "        i+=2\n",
    "\n",
    "genPrimes = iter(generate_primes())\n",
    "for i in range(7): print(next(genPrimes), end=' ')"
   ]
  }
 ],
 "metadata": {
  "kernelspec": {
   "display_name": "Python 3",
   "language": "python",
   "name": "python3"
  },
  "language_info": {
   "codemirror_mode": {
    "name": "ipython",
    "version": 3
   },
   "file_extension": ".py",
   "mimetype": "text/x-python",
   "name": "python",
   "nbconvert_exporter": "python",
   "pygments_lexer": "ipython3",
   "version": "3.7.2"
  }
 },
 "nbformat": 4,
 "nbformat_minor": 2
}
