{
 "cells": [
  {
   "cell_type": "markdown",
   "metadata": {},
   "source": [
    "# 1. What does an empty dictionary's code look like?"
   ]
  },
  {
   "cell_type": "markdown",
   "metadata": {},
   "source": [
    "### dict_var = {}\n",
    "### dict_var = dict()"
   ]
  },
  {
   "cell_type": "markdown",
   "metadata": {},
   "source": [
    "# 2. What is the value of a dictionary value with the key 'foo' and the value 42?"
   ]
  },
  {
   "cell_type": "code",
   "execution_count": 19,
   "metadata": {},
   "outputs": [
    {
     "name": "stdout",
     "output_type": "stream",
     "text": [
      "Dictionay key :  dict_keys(['foo'])\n",
      "Dictionary values : dict_values([42])\n",
      "Dictionary items : dict_items([('foo', 42)])\n"
     ]
    }
   ],
   "source": [
    "dict_var = dict()\n",
    "dict_var['foo'] = 42\n",
    "\n",
    "print('Dictionay key : ', dict_var.keys())\n",
    "print('Dictionary values :', dict_var.values())\n",
    "print('Dictionary items :', dict_var.items())\n"
   ]
  },
  {
   "cell_type": "markdown",
   "metadata": {},
   "source": [
    "# 3. What is the most significant distinction between a dictionary and a list?"
   ]
  },
  {
   "cell_type": "markdown",
   "metadata": {},
   "source": [
    "### dictionary is a key/value pair Unordered collection while list is Ordered collection of items"
   ]
  },
  {
   "cell_type": "markdown",
   "metadata": {},
   "source": [
    "# 4. What happens if spam['foo'] is 'bar': 100 and you try to access it?"
   ]
  },
  {
   "cell_type": "markdown",
   "metadata": {},
   "source": [
    "### We receive KeyError\n",
    "#### spam = {}; spam['bar']=100; spam['foo'] will give KeyError as the key does not exist."
   ]
  },
  {
   "cell_type": "markdown",
   "metadata": {},
   "source": [
    "# 5. What is the difference between the terms 'cat' in spam and 'cat' in spam if a dictionary is contained in spam?"
   ]
  },
  {
   "cell_type": "markdown",
   "metadata": {},
   "source": [
    "### 'cat' in spam is same as 'cat' in spam.keys() ie look for 'cat' in iterator of key\n"
   ]
  },
  {
   "cell_type": "code",
   "execution_count": 26,
   "metadata": {},
   "outputs": [
    {
     "name": "stdout",
     "output_type": "stream",
     "text": [
      "True\n"
     ]
    }
   ],
   "source": [
    "spam={}; spam['cat']='meow';spam['dog']='wowow';\n",
    "print('cat' in spam)"
   ]
  },
  {
   "cell_type": "markdown",
   "metadata": {},
   "source": [
    "# 5.1 What is the function keys()?"
   ]
  },
  {
   "cell_type": "markdown",
   "metadata": {},
   "source": [
    "### Dictionary keys() method is iterable collection of all keys of that dictionary."
   ]
  },
  {
   "cell_type": "code",
   "execution_count": 29,
   "metadata": {},
   "outputs": [
    {
     "name": "stdout",
     "output_type": "stream",
     "text": [
      "Keys of dict  1: key1    2: key2\n"
     ]
    }
   ],
   "source": [
    "spam={};spam['key1']='val1';spam['key2']='val2';\n",
    "key_iter = iter(spam.keys())\n",
    "print('Keys of dict ','1:',next(key_iter),'   2:',next(key_iter))"
   ]
  },
  {
   "cell_type": "markdown",
   "metadata": {},
   "source": [
    "# 6. What is the difference between the terms 'cat' in spam and 'cat' in spam.values() when a dictionary is contained in spam?"
   ]
  },
  {
   "cell_type": "markdown",
   "metadata": {},
   "source": [
    "###  'cat' in spam is same as spam.keys() - search for 'cat' in keys iterator\n",
    "###  'cat' in spam.values() - search for 'cat' in dictionary values iterator"
   ]
  },
  {
   "cell_type": "code",
   "execution_count": 49,
   "metadata": {},
   "outputs": [
    {
     "name": "stdout",
     "output_type": "stream",
     "text": [
      "Search cat in keys:  True\n",
      "Search cat in values:  False\n"
     ]
    }
   ],
   "source": [
    "spam={}; spam['cat']='meow';spam['dog']='wowow';\n",
    "print('Search cat in keys: ','cat' in spam)\n",
    "print('Search cat in values: ','cat' in spam.values())"
   ]
  },
  {
   "cell_type": "markdown",
   "metadata": {},
   "source": [
    "# 7. What is the quickest way to type the following code?\n",
    "if the word 'colour' isn't in spam:\n",
    "'black' for spam['color']"
   ]
  },
  {
   "cell_type": "code",
   "execution_count": 31,
   "metadata": {},
   "outputs": [
    {
     "name": "stdout",
     "output_type": "stream",
     "text": [
      "Color:  black\n",
      "Height:  170\n"
     ]
    }
   ],
   "source": [
    "spam={}; spam['height']=170;spam['weight']=200;\n",
    "print('Color: ',spam.get('color','black'))\n",
    "print('Height: ',spam.get('height',155))"
   ]
  },
  {
   "cell_type": "markdown",
   "metadata": {},
   "source": [
    "# 8. How do you \"pretty print\" dictionary values using which module and function?"
   ]
  },
  {
   "cell_type": "markdown",
   "metadata": {},
   "source": [
    "### Regular print() method\n",
    "### pprint.pprint()\n",
    "### Convert to Json and then print\n",
    "### Convert to Yaml and then print"
   ]
  },
  {
   "cell_type": "code",
   "execution_count": 48,
   "metadata": {},
   "outputs": [
    {
     "name": "stdout",
     "output_type": "stream",
     "text": [
      "Print ------------\n",
      "[{'name': 'John Doe', 'age': 34, 'gender': 'male', 'phone': {'home': '1234', 'work': '5678'}}, {'name': 'Jane Austin', 'age': 28, 'gender': 'female', 'phone': {'home': 'xxxx', 'publisher': 'yyyyyy'}}]\n",
      "\n",
      "\n",
      " Pprint ---------\n",
      "[    {    'age': 34,\n",
      "          'gender': 'male',\n",
      "          'name': 'John Doe',\n",
      "          'phone': {'home': '1234', 'work': '5678'}},\n",
      "     {    'age': 28,\n",
      "          'gender': 'female',\n",
      "          'name': 'Jane Austin',\n",
      "          'phone': {'home': 'xxxx', 'publisher': 'yyyyyy'}}]\n",
      "\n",
      "\n",
      " Json --------\n",
      "[\n",
      "     {\n",
      "          \"name\": \"John Doe\",\n",
      "          \"age\": 34,\n",
      "          \"gender\": \"male\",\n",
      "          \"phone\": {\n",
      "               \"home\": \"1234\",\n",
      "               \"work\": \"5678\"\n",
      "          }\n",
      "     },\n",
      "     {\n",
      "          \"name\": \"Jane Austin\",\n",
      "          \"age\": 28,\n",
      "          \"gender\": \"female\",\n",
      "          \"phone\": {\n",
      "               \"home\": \"xxxx\",\n",
      "               \"publisher\": \"yyyyyy\"\n",
      "          }\n",
      "     }\n",
      "]\n",
      "\n",
      "\n",
      " Yaml -------\n",
      "-    age: 34\n",
      "     gender: male\n",
      "     name: John Doe\n",
      "     phone:\n",
      "          home: '1234'\n",
      "          work: '5678'\n",
      "-    age: 28\n",
      "     gender: female\n",
      "     name: Jane Austin\n",
      "     phone:\n",
      "          home: xxxx\n",
      "          publisher: yyyyyy\n",
      "\n"
     ]
    }
   ],
   "source": [
    "import pprint\n",
    "import json\n",
    "import yaml\n",
    "\n",
    "dict_var = [\n",
    "    { \"name\":\"John Doe\",\"age\":34,\"gender\":\"male\",\"phone\":{\"home\":\"1234\",\"work\":\"5678\"}},\n",
    "    { \"name\":\"Jane Austin\",\"age\":28,\"gender\":\"female\",\"phone\":{\"home\":\"xxxx\",\"publisher\":\"yyyyyy\"}},\n",
    "  ]\n",
    "print('Print ------------')\n",
    "print(dict_var)\n",
    "\n",
    "print('\\n\\n','Pprint ---------')\n",
    "pprint.pprint(dict_var, indent=5)\n",
    "\n",
    "print('\\n\\n','Json --------')\n",
    "print(json.dumps(dict_var, indent=5))\n",
    "\n",
    "print('\\n\\n','Yaml -------')\n",
    "print(yaml.dump(dict_var, default_flow_style=False, indent=5))"
   ]
  },
  {
   "cell_type": "code",
   "execution_count": null,
   "metadata": {},
   "outputs": [],
   "source": []
  },
  {
   "cell_type": "code",
   "execution_count": null,
   "metadata": {},
   "outputs": [],
   "source": []
  },
  {
   "cell_type": "code",
   "execution_count": null,
   "metadata": {},
   "outputs": [],
   "source": []
  },
  {
   "cell_type": "code",
   "execution_count": null,
   "metadata": {},
   "outputs": [],
   "source": []
  },
  {
   "cell_type": "code",
   "execution_count": null,
   "metadata": {},
   "outputs": [],
   "source": []
  }
 ],
 "metadata": {
  "kernelspec": {
   "display_name": "Python 3",
   "language": "python",
   "name": "python3"
  },
  "language_info": {
   "codemirror_mode": {
    "name": "ipython",
    "version": 3
   },
   "file_extension": ".py",
   "mimetype": "text/x-python",
   "name": "python",
   "nbconvert_exporter": "python",
   "pygments_lexer": "ipython3",
   "version": "3.7.2"
  }
 },
 "nbformat": 4,
 "nbformat_minor": 2
}
