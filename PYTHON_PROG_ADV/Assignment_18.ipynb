{
 "cells": [
  {
   "cell_type": "markdown",
   "metadata": {},
   "source": [
    "# 1. A robot has been given a list of movement instructions. Each instruction is either left, right, up or down, "
   ]
  },
  {
   "cell_type": "code",
   "execution_count": 5,
   "metadata": {},
   "outputs": [
    {
     "name": "stdout",
     "output_type": "stream",
     "text": [
      "[-20, 40]\n",
      "[0, 0]\n"
     ]
    }
   ],
   "source": [
    "def track_robot(lst):\n",
    "    def track_xy(s):\n",
    "        if s[:5]==\"right\":return (int(s[5:]),0)\n",
    "        if s[:2]==\"up\": return (0,int(s[2:]))\n",
    "        if s[:4]==\"left\": return (-int(s[4:]),0)\n",
    "        if s[:4]==\"down\": return (0, -int(s[4:]))\n",
    "        \n",
    "    x=0;y=0\n",
    "    for s in lst:\n",
    "        a,b = track_xy(s)\n",
    "        x += a; y += b\n",
    "    return [x,y]\n",
    "\n",
    "print(track_robot([\"right 10\", \"up 50\", \"left 30\", \"down 10\"]) )\n",
    "print(track_robot([]) )"
   ]
  },
  {
   "cell_type": "markdown",
   "metadata": {},
   "source": [
    "# 2. Write a function that will return the longest word in a sentence. In cases where more than one word is found, return the first one."
   ]
  },
  {
   "cell_type": "code",
   "execution_count": 10,
   "metadata": {},
   "outputs": [
    {
     "name": "stdout",
     "output_type": "stream",
     "text": [
      "forever\n",
      "forgetfulness\n",
      "strengths\n"
     ]
    }
   ],
   "source": [
    "import re\n",
    "def find_longest(s):\n",
    "    s = s.lower()\n",
    "    s = re.sub(r'[^a-z ]','',s)\n",
    "    l = sorted(s.split(), key=lambda x:len(x), reverse=True)\n",
    "    return l[0] if l else \"\"\n",
    "\n",
    "print(find_longest(\"A thing of beauty is a joy forever.\") )\n",
    "print(find_longest(\"Forgetfulness is by all means powerless!\") )    \n",
    "print(find_longest(\"\\\"Strengths\\\" is the longest and most commonly used word that contains only a single vowel.\") )"
   ]
  },
  {
   "cell_type": "markdown",
   "metadata": {},
   "source": [
    "# 3. Create a function to check if a candidate is qualified in an imaginary coding interview of an imaginary tech startup."
   ]
  },
  {
   "cell_type": "code",
   "execution_count": 17,
   "metadata": {},
   "outputs": [
    {
     "name": "stdout",
     "output_type": "stream",
     "text": [
      "qualified\n",
      "qualified\n",
      "disqualified\n",
      "disqualified\n"
     ]
    }
   ],
   "source": [
    "itime = [5,5,10,10,15,15,20,20]\n",
    "interview = lambda lst,tm: \\\n",
    "    \"qualified\"  \\\n",
    "    if len(lst) == 8 and   \\\n",
    "    sum([lst[i] > itime[i] for i in range(8)]) == 0  and  \\\n",
    "    tm <= 120  and \\\n",
    "    tm >= sum(lst)  \\\n",
    "    else \"disqualified\"\n",
    "\n",
    "print(interview([5, 5, 10, 10, 15, 15, 20, 20], 120) )\n",
    "print(interview([2, 3, 8, 6, 5, 12, 10, 18], 64) )\n",
    "print(interview([5, 5, 10, 10, 25, 15, 20, 20], 120) )\n",
    "print(interview([5, 5, 10, 10, 15, 15, 20], 120) )"
   ]
  },
  {
   "cell_type": "markdown",
   "metadata": {},
   "source": [
    "# 4. Write a function that divides a list into chunks of size n, where n is the length of each chunk."
   ]
  },
  {
   "cell_type": "code",
   "execution_count": 20,
   "metadata": {},
   "outputs": [
    {
     "name": "stdout",
     "output_type": "stream",
     "text": [
      "[[2, 3], [4, 5]]\n",
      "[[2, 3], [4, 5], [6]]\n",
      "[[2], [3], [4], [5], [6], [7]]\n",
      "[[2, 3, 4, 5, 6, 7]]\n"
     ]
    }
   ],
   "source": [
    "chunkify = lambda lst,chunk : [lst[i:i+chunk] for i in range(0,len(lst),chunk) ]\n",
    "\n",
    "print(chunkify([2, 3, 4, 5], 2) )\n",
    "print(chunkify([2, 3, 4, 5, 6], 2) )\n",
    "print(chunkify([2, 3, 4, 5, 6, 7], 1) )\n",
    "print(chunkify([2, 3, 4, 5, 6, 7], 7) )"
   ]
  },
  {
   "cell_type": "markdown",
   "metadata": {},
   "source": [
    "# 5. You are given a list of strings consisting of grocery items, with prices in parentheses. Return a list of prices in float format."
   ]
  },
  {
   "cell_type": "code",
   "execution_count": 24,
   "metadata": {},
   "outputs": [
    {
     "name": "stdout",
     "output_type": "stream",
     "text": [
      "[5.99, 0.2, 8.5, 1.99]\n"
     ]
    }
   ],
   "source": [
    "import re\n",
    "get_prices = lambda lst: [float(re.findall(r'\\(\\$(.+)\\)$',lst[i])[0]) for i in range(len(lst))]\n",
    "\n",
    "print(get_prices([\n",
    "  \"ice cream ($5.99)\",\n",
    "  \"banana ($0.20)\",\n",
    "  \"sandwich ($8.50)\",\n",
    "  \"soup ($1.99)\"\n",
    "])\n",
    ")"
   ]
  },
  {
   "cell_type": "code",
   "execution_count": null,
   "metadata": {},
   "outputs": [],
   "source": []
  }
 ],
 "metadata": {
  "kernelspec": {
   "display_name": "Python 3",
   "language": "python",
   "name": "python3"
  },
  "language_info": {
   "codemirror_mode": {
    "name": "ipython",
    "version": 3
   },
   "file_extension": ".py",
   "mimetype": "text/x-python",
   "name": "python",
   "nbconvert_exporter": "python",
   "pygments_lexer": "ipython3",
   "version": "3.7.2"
  }
 },
 "nbformat": 4,
 "nbformat_minor": 2
}
