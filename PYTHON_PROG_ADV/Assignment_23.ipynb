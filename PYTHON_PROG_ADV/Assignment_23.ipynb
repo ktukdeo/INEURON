{
 "cells": [
  {
   "cell_type": "markdown",
   "metadata": {},
   "source": [
    "# 1. Create a class Sudoku that takes a string as an argument"
   ]
  },
  {
   "cell_type": "code",
   "execution_count": 12,
   "metadata": {},
   "outputs": [
    {
     "name": "stdout",
     "output_type": "stream",
     "text": [
      "['4', '1', '7', '9', '5', '0', '0', '3', '0']\n",
      "['0', '0', '0', '6', '0', '0', '0', '0', '0']\n",
      "['9', '5', '0', '0', '0', '0', '0', '0', '7']\n",
      "['0', '3', '0', '7', '0', '0', '0', '0', '0']\n",
      "['0', '0', '5', '4', '3', '0', '7', '0', '1']\n"
     ]
    }
   ],
   "source": [
    "class Sudoku:\n",
    "    def __init__(self,sdigits):\n",
    "        self.side_len = 9\n",
    "        self.sq_len = 3\n",
    "        self.board = []\n",
    "        for i in range(0, len(sdigits), self.side_len):\n",
    "            self.board.append(list(sdigits[i:i+self.side_len]))\n",
    "     \n",
    "    def get_row(self,n):\n",
    "        return self.board[n]\n",
    "    \n",
    "    def get_col(self,n):\n",
    "        return [x[n] for x in self.board]\n",
    "    \n",
    "    def get_sqr(self,n=None, m=None):\n",
    "        if n and not m:\n",
    "            r, c = (n//self.sq_len)*self.sq_len, (n%self.sq_len) * self.sq_len\n",
    "        else:\n",
    "            r,c = n,m\n",
    "        \n",
    "        c1, c2 = (c//self.sq_len) * self.sq_len, (c//self.sq_len + 1) * self.sq_len\n",
    "        r1, r2 = (r//self.sq_len) * self.sq_len, (r//self.sq_len + 1) * self.sq_len\n",
    "        return [d for x in self.board[r1:r2] for d in x[c1:c2] ]\n",
    "    \n",
    "game = Sudoku(\"417950030000000700060007000050009106800600000000003400900005000000430000200701580\")\n",
    "\n",
    "print(game.get_row(0) )\n",
    "print(game.get_col(8) )        \n",
    "print(game.get_sqr(1) )\n",
    "print(game.get_sqr(1, 8) )\n",
    "print(game.get_sqr(8, 3) )"
   ]
  },
  {
   "cell_type": "markdown",
   "metadata": {},
   "source": [
    "# 2. The function input is two non-empty linked lists representing two non-negative integers. "
   ]
  },
  {
   "cell_type": "code",
   "execution_count": 25,
   "metadata": {},
   "outputs": [
    {
     "name": "stdout",
     "output_type": "stream",
     "text": [
      "[2, 4, 3]\n",
      "[5, 6, 4]\n",
      "[7, 0, 8]\n",
      "-------------------------\n",
      "[8, 9, 9, 9, 0, 0, 0, 1]\n"
     ]
    }
   ],
   "source": [
    "class ListNode:\n",
    "    def __init__(self, val, next=None):\n",
    "        self.val = val\n",
    "        self.next = next\n",
    "        \n",
    "    def add_data(self, digits):\n",
    "        currnode = self\n",
    "        while currnode.next: currnode = currnode.next\n",
    "        for d in digits:\n",
    "            obj = ListNode(d)\n",
    "            currnode.next = obj\n",
    "            currnode = obj\n",
    " \n",
    "    def get_data(self):\n",
    "        currnode = self\n",
    "        lst = [self.val]\n",
    "        while currnode.next:\n",
    "            currnode=currnode.next\n",
    "            lst.append(currnode.val)\n",
    "        return lst\n",
    "    \n",
    "    @staticmethod\n",
    "    def add_two_numbers(lt1,lt2):\n",
    "        ltadd = None\n",
    "        carry=0; add=0\n",
    "        while True:\n",
    "            add = (lt1.val if lt1 else 0)+ (lt2.val if lt2 else 0) + carry\n",
    "            carry = add//10\n",
    "            add = add%10\n",
    "            if not ltadd: ltadd=ListNode(add)\n",
    "            else: ltadd.add_data([add])\n",
    "            lt1 = lt1.next if lt1 else None\n",
    "            lt2 = lt2.next if lt2 else None\n",
    "            if lt1 is None and lt2 is None and carry==0:\n",
    "                break\n",
    "        return ltadd\n",
    "        \n",
    "        \n",
    "lt1 = ListNode(2)\n",
    "lt1.add_data([4, 3])\n",
    "lt2 = ListNode(5)\n",
    "lt2.add_data([6, 4])\n",
    "\n",
    "print(lt1.get_data())\n",
    "print(lt2.get_data())\n",
    "\n",
    "print(ListNode.add_two_numbers(lt1,lt2).get_data())\n",
    "print('-------------------------')\n",
    "lt1 = ListNode(9)\n",
    "lt1.add_data([9,9,9,9,9,9])\n",
    "lt2 = ListNode(9)\n",
    "lt2.add_data([9,9,9])\n",
    "print(ListNode.add_two_numbers(lt1, lt2).get_data() )"
   ]
  },
  {
   "cell_type": "markdown",
   "metadata": {},
   "source": [
    "# 3. Write a class called CoffeeShop, which has three instance variables:"
   ]
  },
  {
   "cell_type": "code",
   "execution_count": 46,
   "metadata": {},
   "outputs": [
    {
     "name": "stdout",
     "output_type": "stream",
     "text": [
      "This item is currently unavailable!\n",
      "Order added!\n",
      "Order added!\n",
      "['cinnamon roll', 'iced coffee']\n",
      "3.95\n",
      "The cinnamon roll is ready!\n",
      "The iced coffee is ready!\n",
      "All orders have been fulfilled!\n",
      "[]\n",
      "0\n",
      "lemonade\n",
      "['orange juice', 'lemonade', 'iced coffee']\n",
      "['cinnamon roll', 'tuna sandwich', 'steak']\n"
     ]
    }
   ],
   "source": [
    "from collections import deque\n",
    "\n",
    "class CoffeeShop:\n",
    "    def __init__(self, name, menu):\n",
    "        self.name = name\n",
    "        self.menu = menu\n",
    "        self.orders = deque()\n",
    "        \n",
    "    def add_order(self, order):\n",
    "        if order not in self.menu:\n",
    "            return \"This item is currently unavailable!\"\n",
    "        \n",
    "        self.orders.append(order)\n",
    "        return \"Order added!\"\n",
    "            \n",
    "    \n",
    "    def list_orders(self):\n",
    "        return list(self.orders)\n",
    "    \n",
    "    def due_amount(self):\n",
    "        return sum([self.menu[x][1] for x in self.list_orders()])\n",
    "    \n",
    "    def fulfill_order(self):\n",
    "        item = self.orders.popleft() if len(self.orders) else None\n",
    "        return f\"The {item} is ready!\" if item else \"All orders have been fulfilled!\"\n",
    "    \n",
    "    def cheapest_item(self):\n",
    "        return min([(v[1],k) for k,v in self.menu.items()])[1]\n",
    "    \n",
    "    def drinks_only(self):\n",
    "        return [k for k,v in self.menu.items() if v[0] == 'drinks']\n",
    "    \n",
    "    def food_only(self):\n",
    "        return [k for k,v in self.menu.items() if v[0] == 'food']\n",
    "    \n",
    "\n",
    "menu = {\"orange juice\":[\"drinks\",3.0], \"lemonade\":[\"drinks\", 1.25], \"iced coffee\":[\"drinks\",2.1],\n",
    "       \"cinnamon roll\":[\"food\", 1.85], \"tuna sandwich\":[\"food\",4.25], \"steak\":[\"food\", 9.5]\n",
    "       }\n",
    "\n",
    "tcs = CoffeeShop('TCS',menu)\n",
    "print(tcs.add_order(\"hot cocoa\") )\n",
    "print(tcs.add_order(\"cinnamon roll\"))\n",
    "print(tcs.add_order(\"iced coffee\") )\n",
    "print(tcs.list_orders() )\n",
    "print(tcs.due_amount() )\n",
    "\n",
    "print(tcs.fulfill_order() )\n",
    "print(tcs.fulfill_order() )\n",
    "print(tcs.fulfill_order() )\n",
    "\n",
    "print(tcs.list_orders())\n",
    "print(tcs.due_amount())\n",
    "\n",
    "print(tcs.cheapest_item())\n",
    "print(tcs.drinks_only())\n",
    "print(tcs.food_only())"
   ]
  },
  {
   "cell_type": "markdown",
   "metadata": {},
   "source": [
    "# 4. In this challenge, write a funcion loneliest_number to find the last Lonely number inside a sequence. "
   ]
  },
  {
   "cell_type": "code",
   "execution_count": 83,
   "metadata": {},
   "outputs": [
    {
     "name": "stdout",
     "output_type": "stream",
     "text": [
      "{'number': 0, 'distance': 2, 'closest': 2}\n",
      "{'number': 120, 'distance': 7, 'closest': 127}\n",
      "{'number': 1140, 'distance': 11, 'closest': 1151}\n",
      "{'number': 211, 'distance': 12, 'closest': 223}\n"
     ]
    }
   ],
   "source": [
    "def loneliest_number(n1, n2):\n",
    "    def isprime(num):\n",
    "        if num <2: return False\n",
    "        if num in [2,3] : return True\n",
    "        if num%2==0 or num%3==0 : return False\n",
    "        i=5\n",
    "        while i*i <= num :\n",
    "            if num %i ==0 or num %(i+2)==0: return False\n",
    "            i += 6\n",
    "        return True\n",
    "    \n",
    "    pval = []; x1=0; x2=0  #pval contains list of all relevant primes\n",
    "\n",
    "    for i in range(n1,n2+1):\n",
    "        if isprime(i): pval.append(i)\n",
    "    \n",
    "    for x in pval:\n",
    "        if x != n1:\n",
    "            x1=x\n",
    "            break\n",
    "    for x in pval[::-1]:\n",
    "        if x != n2:\n",
    "            x2=x\n",
    "            break\n",
    "            \n",
    "    x1 = n1-(x1-n1) if x1 else 1 #find prime less than start seq\n",
    "    x2 = n2+(n2-x2) if x2 else n2 * 2 #find prime greater than end of seq\n",
    "\n",
    "    if x1>=2:\n",
    "        for i in range(n1-1,x1-1,-1):\n",
    "            if isprime(i):\n",
    "                pval.insert(0,i)\n",
    "                break\n",
    "    if x2 >= 2:\n",
    "        for i in range(n2+1, x2+1):\n",
    "            if isprime(i):\n",
    "                pval.append(i)\n",
    "                break\n",
    " \n",
    "    lonep = []\n",
    "    for x in range(n1,n2+1):\n",
    "        pdiff=n2+1; diff=0\n",
    "        for p in pval:\n",
    "            diff = abs(x-p)\n",
    "            if x != p:\n",
    "                if diff <= pdiff:\n",
    "                    pdiff=diff;pr=p\n",
    "                else: break\n",
    "        lonep.append((pdiff,x,pr))\n",
    "    lonep.sort(key=lambda x:(x[0], x[1]*-1),reverse=True)\n",
    "    x=lonep[0]\n",
    "    return {\"number\":x[1], \"distance\":x[0], \"closest\":x[2]}\n",
    "\n",
    "print(loneliest_number(0,22))\n",
    "print(loneliest_number(8, 123) )\n",
    "print(loneliest_number(938, 1190) )\n",
    "print(loneliest_number(120, 1190) )"
   ]
  },
  {
   "cell_type": "markdown",
   "metadata": {},
   "source": [
    "# 5. Implement a class Selfie that can store the current state of the object in the form of binary string. "
   ]
  },
  {
   "cell_type": "code",
   "execution_count": 16,
   "metadata": {},
   "outputs": [
    {
     "name": "stdout",
     "output_type": "stream",
     "text": [
      "Before recovery -  34 45\n",
      "Recover to state 0 -  2 5\n",
      "Recover to state 1 -  65 12\n"
     ]
    }
   ],
   "source": [
    "import shelve\n",
    "\n",
    "class Selfie:\n",
    "    def save_state(self):\n",
    "        with shelve.open('history',flag='c') as db:\n",
    "            next_state = str(len(db.keys()))\n",
    "            db[str(next_state)] = self\n",
    "            \n",
    "    def recover_state(self,n_state):\n",
    "        n_state = str(n_state)\n",
    "        with shelve.open('history', flag='c') as db:\n",
    "            if n_state not in db.keys():\n",
    "                return self\n",
    "            else:\n",
    "                return db[n_state]\n",
    "\n",
    "p = Selfie()\n",
    "p.x = 2; p.y = 5\n",
    "p.save_state()\n",
    "p.x = 65; p.y = 12\n",
    "p.save_state()\n",
    "p.x=34; p.y=45\n",
    "print('Before recovery - ',p.x,p.y)\n",
    "p = p.recover_state(0)\n",
    "print('Recover to state 0 - ',p.x,p.y)\n",
    "p = p.recover_state(1)\n",
    "print('Recover to state 1 - ',p.x,p.y)"
   ]
  }
 ],
 "metadata": {
  "kernelspec": {
   "display_name": "Python 3",
   "language": "python",
   "name": "python3"
  },
  "language_info": {
   "codemirror_mode": {
    "name": "ipython",
    "version": 3
   },
   "file_extension": ".py",
   "mimetype": "text/x-python",
   "name": "python",
   "nbconvert_exporter": "python",
   "pygments_lexer": "ipython3",
   "version": "3.7.2"
  }
 },
 "nbformat": 4,
 "nbformat_minor": 2
}
