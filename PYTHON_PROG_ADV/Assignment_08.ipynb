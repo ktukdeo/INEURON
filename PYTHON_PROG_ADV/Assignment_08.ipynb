{
 "cells": [
  {
   "cell_type": "markdown",
   "metadata": {},
   "source": [
    "# 1. Given a sentence as txt, return True if any two adjacent words have this property: One word ends with a vowel, while the word immediately after begins with a vowel (a e i o u)."
   ]
  },
  {
   "cell_type": "code",
   "execution_count": 10,
   "metadata": {},
   "outputs": [
    {
     "name": "stdout",
     "output_type": "stream",
     "text": [
      "True\n",
      "True\n",
      "False\n",
      "False\n"
     ]
    }
   ],
   "source": [
    "import re\n",
    "def vowel_links(s):\n",
    "    p = r\".*[aeiou] +[aeiou]\"\n",
    "    f = re.findall(p,s)\n",
    "    return True if len(f) > 0 else False\n",
    "\n",
    "print(vowel_links(\"a very large appliance\"))\n",
    "print(vowel_links(\"go to edabit\") )\n",
    "print(vowel_links(\"an open fire\") )\n",
    "print(vowel_links(\"a sudden applause\") )"
   ]
  },
  {
   "cell_type": "markdown",
   "metadata": {},
   "source": [
    "# 2. You are given three inputs: a string, one letter, and a second letter.Write a function that returns True if every instance of the first letter occurs before every instance of the second letter.\n"
   ]
  },
  {
   "cell_type": "code",
   "execution_count": 14,
   "metadata": {},
   "outputs": [
    {
     "name": "stdout",
     "output_type": "stream",
     "text": [
      "True\n",
      "True\n",
      "False\n",
      "False\n"
     ]
    }
   ],
   "source": [
    "import re\n",
    "def first_before_second(s,c1,c2):\n",
    "    p = \".*\"+c2+\".*(?=\"+c1+\")\"\n",
    "    lst = re.findall(p,s)\n",
    "    return False if len(lst) >0 else True\n",
    "\n",
    "print(first_before_second(\"a rabbit jumps joyfully\", \"a\", \"j\") )\n",
    "print(first_before_second(\"knaves knew about waterfalls\", \"k\", \"w\") )\n",
    "print(first_before_second(\"happy birthday\", \"a\", \"y\") )\n",
    "print(first_before_second(\"precarious kangaroos\", \"k\", \"a\") )"
   ]
  },
  {
   "cell_type": "markdown",
   "metadata": {},
   "source": [
    "# 3. Create a function that returns the characters from a list or string r on odd or even positions, depending on the specifier s. The specifier will be \"odd\" for items on odd positions (1, 3, 5, ...) and \"even\" for items on even positions (2, 4, 6, ...)."
   ]
  },
  {
   "cell_type": "code",
   "execution_count": 16,
   "metadata": {},
   "outputs": [
    {
     "name": "stdout",
     "output_type": "stream",
     "text": [
      "[4, 8]\n",
      "EAI\n",
      "['A', 'B', 'T', 'A', 'I', 'Y']\n"
     ]
    }
   ],
   "source": [
    "def char_at_pos(f,sp):\n",
    "    lst = list(f)\n",
    "    if sp=='even':\n",
    "        lst=lst[1::2]\n",
    "    else:\n",
    "        lst=lst[0::2]\n",
    "    if type(f)==str:\n",
    "        lst = \"\".join(lst)\n",
    "    return lst\n",
    "\n",
    "print(char_at_pos([2, 4, 6, 8, 10], \"even\") )\n",
    "print(char_at_pos(\"EDABIT\", \"odd\") )\n",
    "print(char_at_pos([\"A\", \"R\", \"B\", \"I\", \"T\", \"R\", \"A\", \"R\", \"I\", \"L\", \"Y\"], \"odd\") )"
   ]
  },
  {
   "cell_type": "markdown",
   "metadata": {},
   "source": [
    "# 4. Write a function that returns the greatest common divisor of all list elements. If the greatest common divisor is 1, return 1."
   ]
  },
  {
   "cell_type": "code",
   "execution_count": 19,
   "metadata": {},
   "outputs": [
    {
     "name": "stdout",
     "output_type": "stream",
     "text": [
      "10\n",
      "64\n"
     ]
    }
   ],
   "source": [
    "def get_prime_factors(num):\n",
    "    \n",
    "    def get_multiples(num,f):\n",
    "        n = 0\n",
    "        while num%f==0:\n",
    "            num = num//f\n",
    "            n += 1\n",
    "        return num,n\n",
    "\n",
    "\n",
    "    pf = []\n",
    "    f = 2\n",
    "    num, n = get_multiples(num,f)\n",
    "    if n > 0:pf.append((f,n))\n",
    "    f = 3\n",
    "    while num != 1:\n",
    "        num,n = get_multiples(num,f)\n",
    "        if n>0:pf.append((f,n))\n",
    "        f += 2\n",
    "     \n",
    "    return pf\n",
    "\n",
    "#The program is generic and can take any no of numbers. It first calculates prime factors for each number.\n",
    "#Then it finds the tuple with lowest count which is lowest denomination. It accummulates all these and then multiply.\n",
    "#eg 48 - [(2,4),(3,1)]  -- 2**4 * 3**1 = 48\n",
    "#180 -  [(2,2),(3,2),(5,1)]  -- 2**2 * 3**2 * 5**1 = 180\n",
    "#Both lists contain 2 and 3 and lowest value of 2nd element is 2 and 1 respectively. as common.\n",
    "#and hence HCF = 2**2 * 3**1 = 12\n",
    "\n",
    "def GCD(numbers):\n",
    "    pf = []\n",
    "    ln = len(numbers)\n",
    "    for num in numbers:\n",
    "        pf.extend(get_prime_factors(num))\n",
    "    val = 1;n1=0;n2=0;cnt=0\n",
    "    pf.sort()\n",
    "    \n",
    "    for x in pf:\n",
    "        if n1 != x[0]:\n",
    "            n1=x[0]; n2=x[1]; cnt = 1\n",
    "        else:\n",
    "            cnt += 1\n",
    "            # This condition will ensure that prime element is present in all numbers of the list\n",
    "            if cnt==ln:\n",
    "                val *= n1**n2\n",
    "    return val\n",
    "\n",
    "print(GCD([10, 20, 40]) )\n",
    "print(GCD([1024, 192, 2048, 512]) )"
   ]
  },
  {
   "cell_type": "markdown",
   "metadata": {},
   "source": [
    "# 5. A number/string is a palindrome if the digits/characters are the same when read both forward and backward. Examples include \"racecar\" and 12321. Given a positive number n, check if n or the binary representation of n is palindromic"
   ]
  },
  {
   "cell_type": "code",
   "execution_count": 22,
   "metadata": {},
   "outputs": [
    {
     "name": "stdout",
     "output_type": "stream",
     "text": [
      "Decimal only\n",
      "Binary only\n",
      "Decimal and binary\n",
      "Neither\n"
     ]
    }
   ],
   "source": [
    "def palindrome_type(num):\n",
    "    snum = str(num)\n",
    "    bnum = bin(num)[2:]\n",
    "    sp = snum==snum[::-1]; bp = bnum==bnum[::-1]\n",
    "    return \"Decimal and binary\" if sp and bp else \"Decimal only\" if sp else \"Binary only\" if bp else \"Neither\"\n",
    "\n",
    "print(palindrome_type(1306031) )\n",
    "print(palindrome_type(427787) )\n",
    "print(palindrome_type(313) )\n",
    "print(palindrome_type(934) )"
   ]
  },
  {
   "cell_type": "code",
   "execution_count": null,
   "metadata": {},
   "outputs": [],
   "source": []
  }
 ],
 "metadata": {
  "kernelspec": {
   "display_name": "Python 3",
   "language": "python",
   "name": "python3"
  },
  "language_info": {
   "codemirror_mode": {
    "name": "ipython",
    "version": 3
   },
   "file_extension": ".py",
   "mimetype": "text/x-python",
   "name": "python",
   "nbconvert_exporter": "python",
   "pygments_lexer": "ipython3",
   "version": "3.7.2"
  }
 },
 "nbformat": 4,
 "nbformat_minor": 2
}
