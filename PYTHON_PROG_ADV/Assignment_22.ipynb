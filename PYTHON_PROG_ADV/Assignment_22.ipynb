{
 "cells": [
  {
   "cell_type": "markdown",
   "metadata": {},
   "source": [
    "# 1. Create a class Smoothie and do the following:"
   ]
  },
  {
   "cell_type": "code",
   "execution_count": 8,
   "metadata": {},
   "outputs": [
    {
     "name": "stdout",
     "output_type": "stream",
     "text": [
      "['Banana'] $0.5 $1.25 Banana Smoothie\n",
      "['Raspberries', 'Strawberries', 'Blueberries'] $3.5 $8.75 Blueberry Raspberry Strawberry Fusion\n"
     ]
    }
   ],
   "source": [
    "class Smoothie:\n",
    "    price = {'Strawberries':1.5, 'Banana':0.5, 'Mango':2.5,  'Blueberries':1.0,\n",
    "             'Raspberries':1.0,  'Apple':1.75,  'Pineapple':3.5 }\n",
    "    \n",
    "    def __init__(self,ingredients):\n",
    "        self.ingredients = ingredients\n",
    "        self.cost = None\n",
    "\n",
    "    def _get_cost(self):\n",
    "        if not(self.cost is None) : return self.cost\n",
    "        cost = 0\n",
    "        for g in self.ingredients:\n",
    "            cost += Smoothie.price.get(g,0)\n",
    "        self.cost = cost\n",
    "        return cost\n",
    "    \n",
    "    def _get_price(self):\n",
    "        return round(self._get_cost() * 2.5,2)\n",
    "    \n",
    "    def get_cost(self):\n",
    "        return f'${self._get_cost()}'\n",
    "        \n",
    "    def get_price(self):\n",
    "        return f'${self._get_price()}'\n",
    "    \n",
    "    def get_name(self):\n",
    "        name = \" \".join(sorted(self.ingredients))\n",
    "        name = name.replace('berries','berry')\n",
    "        if len(self.ingredients)==1 : name += \" Smoothie\"\n",
    "        else: name += \" Fusion\"\n",
    "        return name\n",
    "    \n",
    "s1 = Smoothie([\"Banana\"])\n",
    "print(s1.ingredients, s1.get_cost(), s1.get_price(), s1.get_name())\n",
    "\n",
    "s2 = Smoothie([\"Raspberries\", \"Strawberries\", \"Blueberries\"])        \n",
    "print(s2.ingredients, s2.get_cost(), s2.get_price(), s2.get_name())            \n",
    "            "
   ]
  },
  {
   "cell_type": "markdown",
   "metadata": {},
   "source": [
    "# 2. Your task is to write a program which allows teachers to create a multiple choice test in a class called Testpaper "
   ]
  },
  {
   "cell_type": "code",
   "execution_count": 19,
   "metadata": {},
   "outputs": [
    {
     "name": "stdout",
     "output_type": "stream",
     "text": [
      "No tests taken\n",
      "{'Maths': 'Passed! (80%)'}\n",
      "{'Chemistry': 'Failed! (25%)', 'Computing': 'Failed! (43%)'}\n"
     ]
    }
   ],
   "source": [
    "class Testpaper:\n",
    "    def __init__(self,subject,markscheme,pass_mark):\n",
    "        self.subject = subject\n",
    "        self.markscheme = sorted(markscheme)\n",
    "        self.pass_mark = int(pass_mark[0:-1])\n",
    "        \n",
    "    def grade(self, answers):\n",
    "        answers = sorted(answers)\n",
    "        marks=0;j=0\n",
    "        for scheme in self.markscheme:\n",
    "            if scheme == answers[j]:\n",
    "                j += 1; marks += 1\n",
    "            elif scheme[0:-1] == answers[j][0:-1]:\n",
    "                j += 1\n",
    "        marks_pct = int(round(marks/len(self.markscheme) * 100))\n",
    "        marks_grade = \"Passed\" if marks_pct >= self.pass_mark else \"Failed\"\n",
    "        return marks_pct, marks_grade\n",
    "    \n",
    "class Student:\n",
    "    def __init__(self):\n",
    "        self.test_grade ={}\n",
    "        \n",
    "    def take_test(self, paper, answers):\n",
    "        marks_pct, marks_grade = paper.grade(answers)\n",
    "        self.test_grade[paper.subject] = f'{marks_grade}! ({marks_pct}%)'\n",
    "        \n",
    "        \n",
    "    @property\n",
    "    def tests_taken(self):\n",
    "        return self.test_grade if self.test_grade else \"No tests taken\"\n",
    "    \n",
    "\n",
    "paper1 = Testpaper(\"Maths\", [\"1A\", \"2C\", \"3D\", \"4A\", \"5A\"], \"60%\")\n",
    "paper2 = Testpaper(\"Chemistry\", [\"1C\", \"2C\", \"3D\", \"4A\"], \"75%\")\n",
    "paper3 = Testpaper(\"Computing\", [\"1D\", \"2C\", \"3C\", \"4B\", \"5D\", \"6C\", \"7A\"], \"75%\")\n",
    "\n",
    "student1 = Student()\n",
    "student2 = Student()\n",
    "\n",
    "print(student1.tests_taken)\n",
    "student1.take_test(paper1, [\"1A\", \"2D\", \"3D\", \"4A\", \"5A\"])\n",
    "print(student1.tests_taken)\n",
    "\n",
    "student2.take_test(paper2, [\"1C\", \"2D\", \"3A\", \"4C\"])\n",
    "student2.take_test(paper3, [\"1A\", \"2C\", \"3A\", \"4C\", \"5D\", \"6C\", \"7B\"])\n",
    "print(student2.tests_taken )\n",
    "        \n",
    "                    \n",
    "                \n",
    "        "
   ]
  },
  {
   "cell_type": "markdown",
   "metadata": {},
   "source": [
    "# 3. Due to unforseen circumstances in Suburbia, the trains will be delayed by a further "
   ]
  },
  {
   "cell_type": "code",
   "execution_count": 56,
   "metadata": {},
   "outputs": [
    {
     "name": "stdout",
     "output_type": "stream",
     "text": [
      "13:04\n",
      "14:20\n",
      "14:22\n"
     ]
    }
   ],
   "source": [
    "from time import time\n",
    "from datetime import datetime\n",
    "\n",
    "class Train:\n",
    "    def __init__(self,lst,arrival_time):\n",
    "        self.destination = lst[-1]\n",
    "        self.arrival_time = datetime.strptime(arrival_time,\"%H:%M\")\n",
    "        \n",
    "    def delayed_time(self,dest, minutes):\n",
    "        if dest == self.destination:\n",
    "            return (self.arrival_time + timedelta(0,0,0,0,minutes,0)).strftime('%H:%M')\n",
    "        else:\n",
    "            return self.arrival_time.strftime('%H:%M')\n",
    "        \n",
    "def manage_delays(train,dest,minutes):\n",
    "    return train.delayed_time(dest,int(minutes))\n",
    "\n",
    "trains = [\n",
    "  Train([\"Townsville\", \"Suburbia\", \"Urbantska\"], \"13:04\"),\n",
    "  Train([\"Farmsdale\", \"Suburbia\", \"Lakeside Valley\"], \"13:20\"),\n",
    "  Train([\"Suburbia\", \"Townsville\", \"Lakeside Valley\"], \"13:22\")\n",
    "]\n",
    "\n",
    "for t in trains:\n",
    "    print(manage_delays(t, \"Lakeside Valley\", 60))\n",
    "\n",
    "    \n"
   ]
  },
  {
   "cell_type": "code",
   "execution_count": null,
   "metadata": {},
   "outputs": [],
   "source": []
  },
  {
   "cell_type": "markdown",
   "metadata": {},
   "source": [
    "# 5. Make a Rectangle class with four parameters, an x, a y (representing the top-left "
   ]
  },
  {
   "cell_type": "code",
   "execution_count": 50,
   "metadata": {},
   "outputs": [
    {
     "name": "stdout",
     "output_type": "stream",
     "text": [
      "True\n",
      "True\n",
      "False\n"
     ]
    }
   ],
   "source": [
    "class Rectangle:\n",
    "    def __init__(self,x,y,width,height):\n",
    "        self.x = x\n",
    "        self.y = y\n",
    "        self.width = width\n",
    "        self.height = height\n",
    "        \n",
    "    @staticmethod\n",
    "    def intersecting(r1,r2):\n",
    "        if (r1.x > r2.x+r2.width) or (r1.x+r1.width < r2.x) or \\\n",
    "           (r1.y < r2.y-r2.height) or (r1.y-r1.height > r2.y) :\n",
    "            return False\n",
    "        else:\n",
    "            return True\n",
    "\n",
    "a = Rectangle(10, 20, 100, 20)\n",
    "b = Rectangle(10, 40, 15, 20)\n",
    "c = Rectangle(50, 50, 20, 30)\n",
    "\n",
    "print(Rectangle.intersecting(a, b))\n",
    "print(Rectangle.intersecting(a, c) )\n",
    "print(Rectangle.intersecting(b, c) )"
   ]
  },
  {
   "cell_type": "code",
   "execution_count": null,
   "metadata": {},
   "outputs": [],
   "source": []
  },
  {
   "cell_type": "code",
   "execution_count": null,
   "metadata": {},
   "outputs": [],
   "source": []
  }
 ],
 "metadata": {
  "kernelspec": {
   "display_name": "Python 3",
   "language": "python",
   "name": "python3"
  },
  "language_info": {
   "codemirror_mode": {
    "name": "ipython",
    "version": 3
   },
   "file_extension": ".py",
   "mimetype": "text/x-python",
   "name": "python",
   "nbconvert_exporter": "python",
   "pygments_lexer": "ipython3",
   "version": "3.7.2"
  }
 },
 "nbformat": 4,
 "nbformat_minor": 2
}
