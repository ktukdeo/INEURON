{
 "cells": [
  {
   "cell_type": "markdown",
   "metadata": {},
   "source": [
    "# 1. For this challenge, forget how to add two numbers together. The best explanation on what to do for this function is this meme:"
   ]
  },
  {
   "cell_type": "code",
   "execution_count": 6,
   "metadata": {},
   "outputs": [
    {
     "name": "stdout",
     "output_type": "stream",
     "text": [
      "515\n",
      "1103\n"
     ]
    }
   ],
   "source": [
    "def meme_sum(n1,n2):\n",
    "    s1 = str(max(n1,n2))\n",
    "    s2 = str(min(n1,n2))\n",
    "    val=[]\n",
    "    for i in range(1,len(s1)+1):\n",
    "        if i <= len(s2):\n",
    "            n = int(s1[-i]) + int(s2[-i])\n",
    "            val.append(str(n))\n",
    "        else:\n",
    "            val.append(s1[-i])\n",
    "    \n",
    "    return int(\"\".join(val[::-1]))\n",
    "\n",
    "print(meme_sum(26, 39) )\n",
    "print(meme_sum(122, 81) )"
   ]
  },
  {
   "cell_type": "markdown",
   "metadata": {},
   "source": [
    "# 2. Given an integer, create a function that returns the next prime. If the number is prime, return the number itself."
   ]
  },
  {
   "cell_type": "code",
   "execution_count": 9,
   "metadata": {},
   "outputs": [
    {
     "name": "stdout",
     "output_type": "stream",
     "text": [
      "13\n",
      "29\n",
      "11\n"
     ]
    }
   ],
   "source": [
    "def prime(num) :\n",
    "    if num <= 1: return False\n",
    "    if (num in (2,3)) : return True\n",
    "    if (num % 2 == 0 or num % 3 == 0) : return False\n",
    "    i = 5\n",
    "    while(i * i <= num) :\n",
    "        if (num % i == 0 or num % (i + 2) == 0) :\n",
    "            return False\n",
    "        i = i + 6\n",
    "    return True\n",
    "\n",
    "def next_prime(num):\n",
    "    if prime(num):\n",
    "        return num\n",
    "    if num==2: return 3\n",
    "    if num%2==0: num +=1\n",
    "    while not prime(num): num += 2\n",
    "    return num\n",
    "\n",
    "print(next_prime(12) )\n",
    "print(next_prime(24) )\n",
    "print(next_prime(11) )"
   ]
  },
  {
   "cell_type": "markdown",
   "metadata": {},
   "source": [
    "# 3. If a person traveled up a hill for 18mins at 20mph and then traveled back down the same path at 60mph then their average speed traveled was 30mph."
   ]
  },
  {
   "cell_type": "code",
   "execution_count": 7,
   "metadata": {},
   "outputs": [
    {
     "name": "stdout",
     "output_type": "stream",
     "text": [
      "30\n",
      "12\n"
     ]
    }
   ],
   "source": [
    "def ave_spd(*speed):\n",
    "    return (2 * speed[1] * speed[2])//(speed[1]+speed[2])\n",
    "\n",
    "print(ave_spd(18, 20, 60))\n",
    "print(ave_spd(30, 8, 24) )    "
   ]
  },
  {
   "cell_type": "markdown",
   "metadata": {},
   "source": [
    "# 4. The Kempner Function, applied to a composite number, permits to find the smallest integer greater than zero whose factorial is exactly divided by the number."
   ]
  },
  {
   "cell_type": "code",
   "execution_count": 22,
   "metadata": {},
   "outputs": [
    {
     "name": "stdout",
     "output_type": "stream",
     "text": [
      "3\n",
      "5\n",
      "146\n"
     ]
    }
   ],
   "source": [
    "# I have used Legendre formula to calculate the factorial. First primes are calculated.\n",
    "#Then min factorial which satisfies all prime multiples is calculated\n",
    "def get_prime_factors(num):\n",
    "    \n",
    "    def get_multiples(num,f):\n",
    "        n = 0\n",
    "        while num%f==0:\n",
    "            num = num//f\n",
    "            n += 1\n",
    "        return num,n\n",
    "\n",
    "\n",
    "    pf = []\n",
    "    f = 2\n",
    "    num, n = get_multiples(num,f)\n",
    "    if n > 0:pf.append((f,n))\n",
    "    f = 3\n",
    "    while num != 1:\n",
    "        num,n = get_multiples(num,f)\n",
    "        if n>0:pf.append((f,n))\n",
    "        f += 2\n",
    "    return pf\n",
    "\n",
    "#Using Legendre formula to calculate max power.\n",
    "\n",
    "def legendre(n,p):\n",
    "    pw = 1;lg=0\n",
    "    while (n >= p**pw):\n",
    "        lg += n//(p**pw)\n",
    "        pw += 1\n",
    "    return lg\n",
    "\n",
    "def kempner(num):\n",
    "    pf = get_prime_factors(num) #eg 40 will yield [(5,1),(2,2)]\n",
    "    pf.sort(reverse=True)\n",
    "    n = pf[0][0]\n",
    "    for x in pf:\n",
    "        p = x[0]; lgn = x[1]\n",
    "        #Check condition for each prime factorial\n",
    "        while legendre(n,p) < lgn:\n",
    "            n = (n//p)*p+p\n",
    "    return n\n",
    "        \n",
    "\n",
    "print(kempner(6) )\n",
    "print(kempner(10) )\n",
    "print(kempner(4742810))  #73 * 73 * 89 * 10"
   ]
  },
  {
   "cell_type": "markdown",
   "metadata": {},
   "source": [
    "# 5. You work in a factory, and your job is to take items from a conveyor belt and pack them into boxes. Each box can hold a maximum of 10 kgs. "
   ]
  },
  {
   "cell_type": "code",
   "execution_count": 27,
   "metadata": {},
   "outputs": [
    {
     "name": "stdout",
     "output_type": "stream",
     "text": [
      "5\n",
      "3\n"
     ]
    }
   ],
   "source": [
    "def boxes(lst):\n",
    "    next_item = 0;box_wt=0;box_cnt=0\n",
    "    ln = len(lst)\n",
    "    while next_item < ln:\n",
    "        if lst[next_item] + box_wt > 10:\n",
    "            box_cnt +=1\n",
    "            box_wt=0\n",
    "        else:\n",
    "            box_wt += lst[next_item]\n",
    "            next_item +=1\n",
    "    box_cnt +=1\n",
    "    return box_cnt\n",
    "\n",
    "print(boxes([2, 1, 2, 5, 4, 3, 6, 1, 1, 9, 3, 2]) )\n",
    "print(boxes([2, 1, 2, 5, 4, 3, 5, 1, 1, 1, 1, 1]) )\n",
    "            "
   ]
  }
 ],
 "metadata": {
  "kernelspec": {
   "display_name": "Python 3",
   "language": "python",
   "name": "python3"
  },
  "language_info": {
   "codemirror_mode": {
    "name": "ipython",
    "version": 3
   },
   "file_extension": ".py",
   "mimetype": "text/x-python",
   "name": "python",
   "nbconvert_exporter": "python",
   "pygments_lexer": "ipython3",
   "version": "3.7.2"
  }
 },
 "nbformat": 4,
 "nbformat_minor": 2
}
