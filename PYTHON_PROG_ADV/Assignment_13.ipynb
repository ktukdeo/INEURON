{
 "cells": [
  {
   "cell_type": "markdown",
   "metadata": {},
   "source": [
    "# 1. Create a function that takes a list and string. The function should remove the letters in the string from the list, and return the list."
   ]
  },
  {
   "cell_type": "code",
   "execution_count": 4,
   "metadata": {},
   "outputs": [
    {
     "name": "stdout",
     "output_type": "stream",
     "text": [
      "['w']\n",
      "['b', 'g', 'w']\n"
     ]
    }
   ],
   "source": [
    "def remove_letters(lst,s):\n",
    "    for c in s:\n",
    "        if c in lst:lst.remove(c)\n",
    "    return lst\n",
    "\n",
    "print(remove_letters([\"s\", \"t\", \"r\", \"i\", \"n\", \"g\", \"w\"], \"string\") )\n",
    "print(remove_letters([\"b\", \"b\", \"l\", \"l\", \"g\", \"n\", \"o\", \"a\", \"w\"], \"balloon\"))\n",
    "        "
   ]
  },
  {
   "cell_type": "markdown",
   "metadata": {},
   "source": [
    "# 2. A block sequence in three dimensions. We can write a formula for this one:"
   ]
  },
  {
   "cell_type": "code",
   "execution_count": 5,
   "metadata": {},
   "outputs": [
    {
     "name": "stdout",
     "output_type": "stream",
     "text": [
      "5\n",
      "39\n"
     ]
    }
   ],
   "source": [
    "def blocks(step):\n",
    "    #difference is arithmetic series sum sum = (2a + (n-1)d)(n)/2\n",
    "    a = 7; d=1; n = step-1\n",
    "    return 5 + (2*a + (n-1)*d)*n//2\n",
    "\n",
    "print(blocks(1) )\n",
    "print(blocks(5))"
   ]
  },
  {
   "cell_type": "markdown",
   "metadata": {},
   "source": [
    "# 3. Create a function that subtracts one positive integer from another, without using any arithmetic operators such as -, %, /, +, etc."
   ]
  },
  {
   "cell_type": "code",
   "execution_count": 4,
   "metadata": {},
   "outputs": [
    {
     "name": "stdout",
     "output_type": "stream",
     "text": [
      "4\n",
      "20\n"
     ]
    }
   ],
   "source": [
    "def my_sub(n2,n1):\n",
    "    while(n2 != 0):\n",
    "        borrow = (~n1)&n2\n",
    "        n1 = n1^n2\n",
    "        n2 = borrow << 1\n",
    "    return n1\n",
    "\n",
    "print(my_sub(5,9))\n",
    "print(my_sub(10,30))"
   ]
  },
  {
   "cell_type": "markdown",
   "metadata": {},
   "source": [
    "# 4. Create a function that takes a string containing money in dollars and pounds sterling (seperated by comma) and returns the sum of dollar bills only, as an integer."
   ]
  },
  {
   "cell_type": "code",
   "execution_count": 5,
   "metadata": {},
   "outputs": [
    {
     "name": "stdout",
     "output_type": "stream",
     "text": [
      "70\n",
      "170\n",
      "2200\n"
     ]
    }
   ],
   "source": [
    "def add_bill(sm):\n",
    "    money = sm.split(\",\")\n",
    "    dollar = 0\n",
    "    for m in money:\n",
    "        if m[0]==\"d\":\n",
    "            if m[-1]==\"k\":\n",
    "                dollar += int(m[1:-1]) * 1000\n",
    "            else:\n",
    "                dollar += int(m[1:])\n",
    "    return dollar\n",
    "\n",
    "print(add_bill(\"d20,p40,p60,d50\") )\n",
    "print(add_bill(\"p30,d20,p60,d150,p360\") )\n",
    "print(add_bill(\"p30,d2k,p60,d200,p360\"))\n",
    "                "
   ]
  },
  {
   "cell_type": "markdown",
   "metadata": {},
   "source": [
    "# 5. Create a function that flips a horizontal list into a vertical list, and a vertical list into a horizontal list."
   ]
  },
  {
   "cell_type": "code",
   "execution_count": 12,
   "metadata": {},
   "outputs": [
    {
     "name": "stdout",
     "output_type": "stream",
     "text": [
      "[[1], [2], [3], [4]]\n",
      "[5, 6, 9]\n",
      "[]\n"
     ]
    }
   ],
   "source": [
    "flip_list = lambda lst: [x[0] if type(x)==list else [x] for x in lst]\n",
    "\n",
    "print(flip_list([1, 2, 3, 4]) )\n",
    "print(flip_list([[5], [6], [9]]) )\n",
    "print(flip_list([]) )"
   ]
  }
 ],
 "metadata": {
  "kernelspec": {
   "display_name": "Python 3",
   "language": "python",
   "name": "python3"
  },
  "language_info": {
   "codemirror_mode": {
    "name": "ipython",
    "version": 3
   },
   "file_extension": ".py",
   "mimetype": "text/x-python",
   "name": "python",
   "nbconvert_exporter": "python",
   "pygments_lexer": "ipython3",
   "version": "3.7.2"
  }
 },
 "nbformat": 4,
 "nbformat_minor": 2
}
