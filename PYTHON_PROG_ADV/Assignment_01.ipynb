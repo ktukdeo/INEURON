{
 "cells": [
  {
   "cell_type": "markdown",
   "metadata": {},
   "source": [
    "# 1. Write a function that takes a list of lists and returns the value of all of the symbols in it, where each symbol adds or takes something from the total score. Symbol values:"
   ]
  },
  {
   "cell_type": "code",
   "execution_count": 7,
   "metadata": {},
   "outputs": [
    {
     "name": "stdout",
     "output_type": "stream",
     "text": [
      "2\n",
      "0\n"
     ]
    }
   ],
   "source": [
    "symbol = {\n",
    "    '#':5,\n",
    "    'O':3,\n",
    "    'X':1,\n",
    "    '!': -1,\n",
    "    '!!': -3,\n",
    "    '!!!': -5\n",
    "}\n",
    "def check_score(slist):\n",
    "    val = 0\n",
    "    for x in slist:\n",
    "        for y in x:\n",
    "            val += symbol.get(y)\n",
    "    return val if val > 0 else 0\n",
    "\n",
    "print(check_score([\n",
    "  [\"#\", \"!\"],\n",
    "  [\"!!\", \"X\"]\n",
    "]))\n",
    "\n",
    "print(check_score([\n",
    "  [\"!!!\", \"O\", \"!\"],\n",
    "  [\"X\", \"#\", \"!!!\"],\n",
    "  [\"!!\", \"X\", \"O\"]\n",
    "]))\n",
    "\n"
   ]
  },
  {
   "cell_type": "markdown",
   "metadata": {},
   "source": [
    "# 2. Create a function that takes a variable number of arguments, each argument representing the number of items in a group, and returns the number of permutations (combinations) of items that you could get by taking one item from each group."
   ]
  },
  {
   "cell_type": "code",
   "execution_count": 9,
   "metadata": {},
   "outputs": [
    {
     "name": "stdout",
     "output_type": "stream",
     "text": [
      "6\n",
      "84\n",
      "120\n"
     ]
    }
   ],
   "source": [
    "def combinations(*numbers):\n",
    "    val = 1\n",
    "    for num in numbers: val *= num\n",
    "    return val\n",
    "\n",
    "print(combinations(2, 3))\n",
    "\n",
    "print(combinations(3, 7, 4))\n",
    "\n",
    "print(combinations(2, 3, 4, 5))\n"
   ]
  },
  {
   "cell_type": "markdown",
   "metadata": {},
   "source": [
    "# 3. Create a function that takes a string as an argument and returns the Morse code equivalent."
   ]
  },
  {
   "cell_type": "code",
   "execution_count": 10,
   "metadata": {},
   "outputs": [
    {
     "name": "stdout",
     "output_type": "stream",
     "text": [
      ".-...--...-.....- -.-......-.-...-...-.--..\n",
      "......-...--. --. -.-.--\n"
     ]
    }
   ],
   "source": [
    "char_to_dots = {\n",
    "  'A': '.-', 'B': '-...', 'C': '-.-.', 'D': '-..', 'E': '.', 'F': '..-.',\n",
    "  'G': '--.', 'H': '....', 'I': '..', 'J': '.---', 'K': '-.-', 'L': '.-..',\n",
    "  'M': '--', 'N': '-.', 'O': '---', 'P': '.--.', 'Q': '--.-', 'R': '.-.',\n",
    "  'S': '...', 'T': '-', 'U': '..-', 'V': '...-', 'W': '.--', 'X': '-..-',\n",
    "  'Y': '-.--', 'Z': '--..', ' ': ' ', '0': '-----',\n",
    "  '1': '.----', '2': '..---', '3': '...--', '4': '....-', '5': '.....',\n",
    "  '6': '-....', '7': '--...', '8': '---..', '9': '----.',\n",
    "  '&': '.-...', \"'\": '.----.', '@': '.--.-.', ')': '-.--.-', '(': '-.--.',\n",
    "  ':': '---...', ',': '--..--', '=': '-...-', '!': '-.-.--', '.': '.-.-.-',\n",
    "  '-': '-....-', '+': '.-.-.', '\"': '.-..-.', '?': '..--..', '/': '-..-.'\n",
    "}\n",
    "\n",
    "def encode_morse(st):\n",
    "    val = []\n",
    "    for c in st:\n",
    "        val.append(char_to_dots.get(c))\n",
    "    return \"\".join(val)\n",
    "\n",
    "print(encode_morse(\"EDABBIT CHALLENGE\") )\n",
    "print(encode_morse(\"HELP ME !\") )"
   ]
  },
  {
   "cell_type": "markdown",
   "metadata": {},
   "source": [
    "# 4.  Write a function that takes a number and returns True if it's a prime; False otherwise. The number can be 2^64-1 (2 to the power of 63, not XOR). With the standard technique it would be O(2^64-1), which is much too large for the 10 second time limit."
   ]
  },
  {
   "cell_type": "code",
   "execution_count": 11,
   "metadata": {},
   "outputs": [
    {
     "name": "stdout",
     "output_type": "stream",
     "text": [
      "True\n",
      "True\n",
      "False\n"
     ]
    }
   ],
   "source": [
    "#Use 6k+-1 method to determine prime more efficiently.\n",
    "def prime(num) :\n",
    "    if num <= 1: return False\n",
    "    if (num in (2,3)) : return True\n",
    "    if (num % 2 == 0 or num % 3 == 0) : return False\n",
    "    i = 5\n",
    "    while(i * i <= num) :\n",
    "        if (num % i == 0 or num % (i + 2) == 0) :\n",
    "            return False\n",
    "        i = i + 6\n",
    "    return True\n",
    "\n",
    "\n",
    "print(prime(7))\n",
    "print(prime(56963))\n",
    "print(prime(5151512515524))"
   ]
  },
  {
   "cell_type": "markdown",
   "metadata": {},
   "source": [
    "# 5.  Create a function that converts a word to a bitstring and then to a boolean list based on the following criteria:"
   ]
  },
  {
   "cell_type": "code",
   "execution_count": 17,
   "metadata": {},
   "outputs": [
    {
     "name": "stdout",
     "output_type": "stream",
     "text": [
      "[False, True, True, False]\n",
      "[False, True, False, True, True]\n",
      "[False, True, True, False]\n"
     ]
    }
   ],
   "source": [
    "def to_boolean_list(s):\n",
    "    val=[]\n",
    "    for c in s.lower():\n",
    "        v = ord(c) - ord('a') + 1\n",
    "        val.append(False if v%2==0 else True)\n",
    "    return val\n",
    "\n",
    "print(to_boolean_list(\"deep\"))\n",
    "print(to_boolean_list(\"loves\"))\n",
    "print(to_boolean_list(\"tesh\"))        "
   ]
  }
 ],
 "metadata": {
  "kernelspec": {
   "display_name": "Python 3",
   "language": "python",
   "name": "python3"
  },
  "language_info": {
   "codemirror_mode": {
    "name": "ipython",
    "version": 3
   },
   "file_extension": ".py",
   "mimetype": "text/x-python",
   "name": "python",
   "nbconvert_exporter": "python",
   "pygments_lexer": "ipython3",
   "version": "3.7.2"
  }
 },
 "nbformat": 4,
 "nbformat_minor": 2
}
