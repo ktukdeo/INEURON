{
 "cells": [
  {
   "cell_type": "markdown",
   "metadata": {},
   "source": [
    "# 1. Create a function that takes the width, height and character and returns a picture frame as a 2D list."
   ]
  },
  {
   "cell_type": "code",
   "execution_count": 8,
   "metadata": {},
   "outputs": [
    {
     "name": "stdout",
     "output_type": "stream",
     "text": [
      "[['####'], ['#  #'], ['#  #'], ['#  #'], ['####']]\n",
      "[['**********'], ['*        *'], ['**********']]\n",
      "Invalid\n"
     ]
    }
   ],
   "source": [
    "def get_frame(width,height,ch):\n",
    "    if width <= 2 or height <= 2: return \"Invalid\"\n",
    "    f1=[ch*width]\n",
    "    f2=[ch+' '*(width-2)+ch]\n",
    "    return [f1]+[f2]*(height-2)+[f1]\n",
    "\n",
    "\n",
    "print(get_frame(4, 5, \"#\") ) \n",
    "print(get_frame(10, 3, \"*\") )\n",
    "print(get_frame(2, 5, \"0\") )"
   ]
  },
  {
   "cell_type": "markdown",
   "metadata": {},
   "source": [
    "# 2. Write three functions: boolean"
   ]
  },
  {
   "cell_type": "code",
   "execution_count": 11,
   "metadata": {},
   "outputs": [
    {
     "name": "stdout",
     "output_type": "stream",
     "text": [
      "False\n",
      "True\n",
      "False\n"
     ]
    }
   ],
   "source": [
    "from functools import reduce\n",
    "\n",
    "def boolean_and(lst):\n",
    "    return reduce(lambda a,b: a and b, lst)\n",
    "\n",
    "def boolean_or(lst):\n",
    "    return reduce(lambda a,b: a or b, lst)\n",
    "\n",
    "def boolean_xor(lst):\n",
    "    return reduce(lambda a,b: not(a==b), lst )\n",
    "\n",
    "print(boolean_and([True, True, False, True]) )\n",
    "print(boolean_or([True, True, False, False]) )\n",
    "print(boolean_xor([True, True, False, False]) )"
   ]
  },
  {
   "cell_type": "markdown",
   "metadata": {},
   "source": [
    "# 3. Create a function that creates a box based on dimension n."
   ]
  },
  {
   "cell_type": "code",
   "execution_count": 15,
   "metadata": {},
   "outputs": [
    {
     "name": "stdout",
     "output_type": "stream",
     "text": [
      "['#####', '#   #', '#   #', '#   #', '#####']\n",
      "['###', '# #', '###']\n",
      "['#']\n"
     ]
    }
   ],
   "source": [
    "def make_box(n):\n",
    "    ch='#'\n",
    "    f1=ch*n\n",
    "    f2=ch+' '*(n-2)+ch\n",
    "    return [(f1 if i in [0,n-1] else f2) for i in range(n)]\n",
    "\n",
    "print(make_box(5) )\n",
    "print(make_box(3) )\n",
    "print(make_box(1) )"
   ]
  },
  {
   "cell_type": "markdown",
   "metadata": {},
   "source": [
    "# 4. Given a common phrase, return False if any individual word in the phrase contains duplicate letters. Return True otherwise."
   ]
  },
  {
   "cell_type": "code",
   "execution_count": 45,
   "metadata": {},
   "outputs": [
    {
     "name": "stdout",
     "output_type": "stream",
     "text": [
      "True\n",
      "True\n",
      "False\n",
      "False\n"
     ]
    }
   ],
   "source": [
    "import re\n",
    "def no_duplicate_letters(s):\n",
    "    p = r'(\\w)\\S*\\1'\n",
    "    n = len(re.findall(p,s))\n",
    "    return not(n>0)\n",
    "\n",
    "print(no_duplicate_letters(\"Fortune favours the bold.\") )\n",
    "print(no_duplicate_letters(\"You can lead a horse to water, but you can't make him drink.\") )\n",
    "print(no_duplicate_letters(\"Look before you leap.\") )\n",
    "print(no_duplicate_letters(\"An apple a day keeps the doctor away.\") )"
   ]
  },
  {
   "cell_type": "markdown",
   "metadata": {},
   "source": [
    "# 5. Write a regular expression that will match the states that voted yes to President Trump's impeachment. You must use RegEx positive lookahead."
   ]
  },
  {
   "cell_type": "code",
   "execution_count": 53,
   "metadata": {},
   "outputs": [
    {
     "data": {
      "text/plain": [
       "['California', 'Florida']"
      ]
     },
     "execution_count": 53,
     "metadata": {},
     "output_type": "execute_result"
    }
   ],
   "source": [
    "import re\n",
    "txt=\"Texas = no, California = yes, Florida = yes, Michigan = no\"\n",
    "p=r'(\\w+)(?= += +yes)'\n",
    "re.findall(p,txt)"
   ]
  },
  {
   "cell_type": "code",
   "execution_count": null,
   "metadata": {},
   "outputs": [],
   "source": []
  }
 ],
 "metadata": {
  "kernelspec": {
   "display_name": "Python 3",
   "language": "python",
   "name": "python3"
  },
  "language_info": {
   "codemirror_mode": {
    "name": "ipython",
    "version": 3
   },
   "file_extension": ".py",
   "mimetype": "text/x-python",
   "name": "python",
   "nbconvert_exporter": "python",
   "pygments_lexer": "ipython3",
   "version": "3.7.2"
  }
 },
 "nbformat": 4,
 "nbformat_minor": 2
}
