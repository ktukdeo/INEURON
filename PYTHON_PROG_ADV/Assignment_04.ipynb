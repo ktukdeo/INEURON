{
 "cells": [
  {
   "cell_type": "markdown",
   "metadata": {},
   "source": [
    "# 1. In mathematics, the Fibonacci numbers, commonly denoted Fn, form a sequence, called the Fibonacci sequence, such that each number is the sum of the two preceding ones, starting from 0 and 1:"
   ]
  },
  {
   "cell_type": "code",
   "execution_count": 13,
   "metadata": {},
   "outputs": [
    {
     "name": "stdout",
     "output_type": "stream",
     "text": [
      "5      5\n",
      "10      55\n",
      "20     6765\n",
      "50     12586269025\n"
     ]
    }
   ],
   "source": [
    "fhist = {}\n",
    "def fib_fast(num):\n",
    "    if num==1: return 1\n",
    "    if num==0: return 0\n",
    "    if num in fhist:\n",
    "        return fhist[num]\n",
    "    else:\n",
    "        val = fastFib(num-1) + fastFib(num-2)\n",
    "        fhist[num]=val\n",
    "        return val\n",
    "    \n",
    "print(5,'    ',fib_fast(5))\n",
    "\n",
    "print(10,'    ',fib_fast(10))\n",
    "\n",
    "print(20,'   ',fib_fast(20))\n",
    "\n",
    "print(50,'   ',fib_fast(50))\n"
   ]
  },
  {
   "cell_type": "markdown",
   "metadata": {},
   "source": [
    "# 2. Create a function that takes a strings characters as ASCII and returns each characters hexadecimal value as a string."
   ]
  },
  {
   "cell_type": "code",
   "execution_count": 18,
   "metadata": {},
   "outputs": [
    {
     "name": "stdout",
     "output_type": "stream",
     "text": [
      "68 65 6c 6c 6f 20 77 6f 72 6c 64\n",
      "42 69 67 20 42 6f 69\n",
      "4d 61 72 74 79 20 50 6f 70 70 69 6e 73 6f 6e\n"
     ]
    }
   ],
   "source": [
    "def convert_to_hex(s):\n",
    "    val=[]\n",
    "    for c in s:\n",
    "        val.append(hex(ord(c))[-2:])\n",
    "    return \" \".join(val)\n",
    "\n",
    "print(convert_to_hex(\"hello world\") )\n",
    "print(convert_to_hex(\"Big Boi\") )\n",
    "print(convert_to_hex(\"Marty Poppinson\") )"
   ]
  },
  {
   "cell_type": "markdown",
   "metadata": {},
   "source": [
    "# 3. Someone has attempted to censor my strings by replacing every vowel with a *, l*k* th*s. Luckily, I've been able to find the vowels that were removed."
   ]
  },
  {
   "cell_type": "code",
   "execution_count": 21,
   "metadata": {},
   "outputs": [
    {
     "name": "stdout",
     "output_type": "stream",
     "text": [
      "Where did my vowels go?\n",
      "abcd\n",
      "UPPERCASE\n"
     ]
    }
   ],
   "source": [
    "def uncensor(s,rl):\n",
    "    sl = list(s)\n",
    "    n=0\n",
    "    for i in range(len(sl)):\n",
    "        if sl[i]=='*':\n",
    "            sl[i]=rl[n]\n",
    "            n +=1\n",
    "    val = \"\".join(sl)\n",
    "    return val\n",
    " \n",
    "    \n",
    "print(uncensor(\"Wh*r* d*d my v*w*ls g*?\", \"eeioeo\") )\n",
    "print(uncensor(\"abcd\", \"\") )\n",
    "print(uncensor(\"*PP*RC*S*\", \"UEAE\") )"
   ]
  },
  {
   "cell_type": "markdown",
   "metadata": {},
   "source": [
    "# 4. Write a function that takes an IP address and returns the domain name using PTR DNS records"
   ]
  },
  {
   "cell_type": "code",
   "execution_count": 23,
   "metadata": {},
   "outputs": [
    {
     "name": "stdout",
     "output_type": "stream",
     "text": [
      "dns.google\n"
     ]
    }
   ],
   "source": [
    "import socket\n",
    "print(socket.gethostbyaddr('8.8.8.8')[0])"
   ]
  },
  {
   "cell_type": "markdown",
   "metadata": {},
   "source": [
    "# 5. Create a function that takes an integer n and returns the factorial of factorials. See below examples for a better understanding:"
   ]
  },
  {
   "cell_type": "code",
   "execution_count": 26,
   "metadata": {},
   "outputs": [
    {
     "name": "stdout",
     "output_type": "stream",
     "text": [
      "4    288\n",
      "5     34560\n",
      "6     24883200\n"
     ]
    }
   ],
   "source": [
    "def fact_of_fact(num):\n",
    "    val=1\n",
    "    facc = 1\n",
    "    for i in range(1,num+1):\n",
    "        facc *= i\n",
    "        val *= facc\n",
    "    return val\n",
    "\n",
    "print(4,'  ',fact_of_fact(4))\n",
    "print(5,'   ',fact_of_fact(5) )\n",
    "print(6,'   ',fact_of_fact(6) )"
   ]
  }
 ],
 "metadata": {
  "kernelspec": {
   "display_name": "Python 3",
   "language": "python",
   "name": "python3"
  },
  "language_info": {
   "codemirror_mode": {
    "name": "ipython",
    "version": 3
   },
   "file_extension": ".py",
   "mimetype": "text/x-python",
   "name": "python",
   "nbconvert_exporter": "python",
   "pygments_lexer": "ipython3",
   "version": "3.7.2"
  }
 },
 "nbformat": 4,
 "nbformat_minor": 2
}
