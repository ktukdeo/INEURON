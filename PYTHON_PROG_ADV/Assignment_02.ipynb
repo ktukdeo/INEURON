{
 "cells": [
  {
   "cell_type": "markdown",
   "metadata": {},
   "source": [
    "# 1. Write a function that takes a positive integer num and calculates how many dots exist in a pentagonal shape around the center dot on the Nth iteration."
   ]
  },
  {
   "cell_type": "code",
   "execution_count": 2,
   "metadata": {},
   "outputs": [
    {
     "name": "stdout",
     "output_type": "stream",
     "text": [
      "1    1\n",
      "2    6\n",
      "3    16\n",
      "8    141\n"
     ]
    }
   ],
   "source": [
    "def pentagonal(iteration):\n",
    "    return int(5*iteration*(iteration-1)/2 + 1)\n",
    "\n",
    "print(1,\"  \",pentagonal(1))\n",
    "print(2,\"  \",pentagonal(2))\n",
    "print(3,\"  \",pentagonal(3))\n",
    "print(8,\"  \",pentagonal(8))"
   ]
  },
  {
   "cell_type": "markdown",
   "metadata": {},
   "source": [
    "# 2 Make a function that encrypts a given input with these steps:"
   ]
  },
  {
   "cell_type": "code",
   "execution_count": 11,
   "metadata": {},
   "outputs": [
    {
     "name": "stdout",
     "output_type": "stream",
     "text": [
      "apple     1lpp0aca\n",
      "banana     0n0n0baca\n",
      "AppLe     1Lpp0aca\n"
     ]
    }
   ],
   "source": [
    "en = {\"a\":\"0\",\"e\":\"1\",\"i\":\"2\",\"o\":\"3\",\"u\":\"4\"}\n",
    "def encrypt(s):\n",
    "    val=[]\n",
    "    #The function takes care of both uppercase and lowercase.\n",
    "    for c in s:\n",
    "        d = c.lower()\n",
    "        if d in ['a','e','i','o','u']:\n",
    "            val.append(en[d])\n",
    "        else:\n",
    "            val.append(c)\n",
    "    val = \"\".join(val)\n",
    "    val = val[::-1]+\"aca\"\n",
    "    print(s,\"   \",val)\n",
    "\n",
    "encrypt(\"apple\")\n",
    "encrypt(\"banana\")\n",
    "encrypt(\"AppLe\")\n",
    "    "
   ]
  },
  {
   "cell_type": "markdown",
   "metadata": {},
   "source": [
    "# 3. Given the month and year as numbers, return whether that month contains a Friday "
   ]
  },
  {
   "cell_type": "code",
   "execution_count": 23,
   "metadata": {},
   "outputs": [
    {
     "name": "stdout",
     "output_type": "stream",
     "text": [
      "2020 3    True\n",
      "2017 10    True\n",
      "1985 1    False\n"
     ]
    }
   ],
   "source": [
    "from datetime import date\n",
    "def has_friday_13(month, year):\n",
    "    wd = date(year,month,13).strftime(\"%A\")\n",
    "    val = wd==\"Friday\"\n",
    "    print(year,month,\"  \",val)\n",
    "    \n",
    "has_friday_13(3,2020)\n",
    "has_friday_13(10,2017)\n",
    "has_friday_13(1,1985)\n",
    "    "
   ]
  },
  {
   "cell_type": "markdown",
   "metadata": {},
   "source": [
    "# 4. Write a regular expression that will help us count how many bad cookies are produced every day. You must use RegEx negative lookbehind."
   ]
  },
  {
   "cell_type": "code",
   "execution_count": 26,
   "metadata": {},
   "outputs": [
    {
     "data": {
      "text/plain": [
       "2"
      ]
     },
     "execution_count": 26,
     "metadata": {},
     "output_type": "execute_result"
    }
   ],
   "source": [
    "#I used straightforward regex. Not sure how negative lookbehind fits in.\n",
    "import re\n",
    "lst = [\"bad cookie\", \"good cookie\", \"bad cookie\", \"good cookie\", \"good cookie\"]\n",
    "pattern = \"bad cookie\"\n",
    "\n",
    "len(re.findall(pattern, \", \".join(lst)))\n"
   ]
  },
  {
   "cell_type": "markdown",
   "metadata": {},
   "source": [
    "# 5. Given a list of words in the singular form, return a set of those words in the plural form if they appear more than once in the list."
   ]
  },
  {
   "cell_type": "code",
   "execution_count": 25,
   "metadata": {},
   "outputs": [
    {
     "name": "stdout",
     "output_type": "stream",
     "text": [
      "Original:   ['cow', 'pig', 'cow', 'cow']\n",
      "Pluralize:  ['cows', 'pig']\n",
      "-----------------\n",
      "Original:   ['table', 'table', 'table']\n",
      "Pluralize:  ['tables']\n",
      "-----------------\n",
      "Original:   ['chair', 'pencil', 'arm']\n",
      "Pluralize:  ['chair', 'pencil', 'arm']\n",
      "-----------------\n"
     ]
    }
   ],
   "source": [
    "from collections import Counter\n",
    "\n",
    "def pluralize(lst):\n",
    "    ctr = Counter(lst)\n",
    "    val = []\n",
    "    for k,v in ctr.items():\n",
    "        if v > 1 :\n",
    "            val.append(k+\"s\")\n",
    "        else:\n",
    "            val.append(k)\n",
    "    print('Original:  ',lst)\n",
    "    print('Pluralize: ',val)\n",
    "    print('-----------------')\n",
    "\n",
    "pluralize([\"cow\", \"pig\", \"cow\", \"cow\"])\n",
    "\n",
    "pluralize([\"table\", \"table\", \"table\"])\n",
    "\n",
    "pluralize([\"chair\", \"pencil\", \"arm\"])\n"
   ]
  },
  {
   "cell_type": "code",
   "execution_count": null,
   "metadata": {},
   "outputs": [],
   "source": []
  }
 ],
 "metadata": {
  "kernelspec": {
   "display_name": "Python 3",
   "language": "python",
   "name": "python3"
  },
  "language_info": {
   "codemirror_mode": {
    "name": "ipython",
    "version": 3
   },
   "file_extension": ".py",
   "mimetype": "text/x-python",
   "name": "python",
   "nbconvert_exporter": "python",
   "pygments_lexer": "ipython3",
   "version": "3.7.2"
  }
 },
 "nbformat": 4,
 "nbformat_minor": 2
}
