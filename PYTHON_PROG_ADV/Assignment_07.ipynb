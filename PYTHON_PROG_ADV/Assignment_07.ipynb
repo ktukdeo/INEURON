{
 "cells": [
  {
   "cell_type": "markdown",
   "metadata": {},
   "source": [
    "# 1. Write a function that counts how many concentric layers a rug."
   ]
  },
  {
   "cell_type": "code",
   "execution_count": 3,
   "metadata": {},
   "outputs": [
    {
     "name": "stdout",
     "output_type": "stream",
     "text": [
      "2\n",
      "3\n"
     ]
    }
   ],
   "source": [
    "def count_layers(lst):\n",
    "    x = len(lst[0])//2 \n",
    "    y = len(lst)//2 + 1\n",
    "    n=0; prev=\"\"\n",
    "    for i in range(y):\n",
    "        if prev != lst[i][x]:\n",
    "            n += 1; prev = lst[i][x]\n",
    "    return n\n",
    "\n",
    "print(count_layers([\n",
    "  \"AAAA\",\n",
    "  \"ABBA\",\n",
    "  \"AAAA\"\n",
    "]) )\n",
    "\n",
    "print(count_layers([\n",
    "  \"AAAAAAAAA\",\n",
    "  \"ABBBBBBBA\",\n",
    "  \"ABBAAABBA\",\n",
    "  \"ABBBBBBBA\",\n",
    "  \"AAAAAAAAA\"\n",
    "]) \n",
    ")"
   ]
  },
  {
   "cell_type": "markdown",
   "metadata": {},
   "source": [
    "# 2. There are many different styles of music and many albums exhibit multiple styles. Create a function that takes a list of musical styles from albums and returns how many styles are unique."
   ]
  },
  {
   "cell_type": "code",
   "execution_count": 26,
   "metadata": {},
   "outputs": [
    {
     "name": "stdout",
     "output_type": "stream",
     "text": [
      "9\n",
      "7\n"
     ]
    }
   ],
   "source": [
    "def unique_styles(lst):\n",
    "    styles = set()\n",
    "    for st in lst:\n",
    "        styles = styles.union(set(st.replace('\"','').split(',')))\n",
    "\n",
    "    return len(styles)\n",
    "\n",
    "print(unique_styles([\n",
    "  \"Dub,Dancehall\",\n",
    "  \"Industrial,Heavy Metal\",\n",
    "  \"Techno,Dubstep\",\n",
    "  \"Synth-pop,Euro-Disco\",\n",
    "  \"Industrial,Techno,Minimal\"\n",
    "])\n",
    ")\n",
    "print(unique_styles([\n",
    "  \"Soul\",\n",
    "  \"House,Folk\",\n",
    "  \"Trance,Downtempo,Big Beat,House\",\n",
    "  \"Deep House\",\n",
    "  \"Soul\"\n",
    "]) \n",
    ")"
   ]
  },
  {
   "cell_type": "markdown",
   "metadata": {},
   "source": [
    "# 3. Create a function that finds a target number in a list of prime numbers. Implement a binary search algorithm in your function. The target number will be from 2 through 97. If the target is prime then return \"yes\" else return \"no\"."
   ]
  },
  {
   "cell_type": "code",
   "execution_count": 8,
   "metadata": {},
   "outputs": [
    {
     "name": "stdout",
     "output_type": "stream",
     "text": [
      "3    yes\n",
      "4    no\n",
      "67    yes\n",
      "36    no\n"
     ]
    }
   ],
   "source": [
    "primes = [2, 3, 5, 7, 11, 13, 17, 19, 23, 29, 31, 37, 41, 43, 47, 53, 59, 61, 67, 71, 73, 79, 83, 89, 97]\n",
    "\n",
    "def is_prime(primes, num):\n",
    "    n1=0; n2=len(primes)-1\n",
    "    while n1 <= n2:\n",
    "        n = (n1+n2)//2 + 1\n",
    "        if n > len(primes): return \"no\"\n",
    "        if primes[n] == num:\n",
    "            return \"yes\"\n",
    "        if primes[n] > num:\n",
    "            n2 = n-1\n",
    "            if primes[n1]==num:\n",
    "                return \"yes\"\n",
    "            if primes[n1] > num:\n",
    "                return \"no\"\n",
    "            else:\n",
    "                n1 = n1+1\n",
    "        else:\n",
    "            n1 = n+1\n",
    "            if primes[n2]==num:\n",
    "                return \"yes\"\n",
    "            if primes[n2]< num:\n",
    "                return \"no\"\n",
    "            else:\n",
    "                n2 = n2-1\n",
    "    return \"no\"\n",
    "\n",
    "print(3,'  ',is_prime(primes, 3) )\n",
    "print(4,'  ',is_prime(primes, 4) )\n",
    "print(67,'  ',is_prime(primes, 67) )\n",
    "print(36,'  ',is_prime(primes, 36) )"
   ]
  },
  {
   "cell_type": "markdown",
   "metadata": {},
   "source": [
    "# 4. Create a function that takes in n, a, b and returns the number of positive values raised to the nth power that lie in the range [a, b], inclusive."
   ]
  },
  {
   "cell_type": "code",
   "execution_count": 9,
   "metadata": {},
   "outputs": [
    {
     "name": "stdout",
     "output_type": "stream",
     "text": [
      "2\n",
      "3\n",
      "1\n",
      "1\n",
      "3\n"
     ]
    }
   ],
   "source": [
    "def power_ranger(n,start,end):\n",
    "    n1 = int(start ** (1.0/n))\n",
    "    n2 = int(end ** (1.0/n)) + 1\n",
    "    cnt = 0\n",
    "    for i in range(n1,n2+1):\n",
    "        x = i ** n\n",
    "        if x >= start and x <= end:\n",
    "            cnt += 1\n",
    "    return cnt\n",
    "\n",
    "print(power_ranger(2, 49, 65) )\n",
    "print(power_ranger(3, 1, 27) )\n",
    "print(power_ranger(10, 1, 5) )\n",
    "print(power_ranger(5, 31, 33) )\n",
    "print(power_ranger(4, 250, 1300) )\n",
    "        "
   ]
  },
  {
   "cell_type": "markdown",
   "metadata": {},
   "source": [
    "# 5. Given a number, return the difference between the maximum and minimum numbers that can be formed when the digits are rearranged."
   ]
  },
  {
   "cell_type": "code",
   "execution_count": 15,
   "metadata": {},
   "outputs": [
    {
     "name": "stdout",
     "output_type": "stream",
     "text": [
      "760833\n",
      "7709823\n",
      "90981\n"
     ]
    }
   ],
   "source": [
    "def rearranged_difference(num):\n",
    "    l1 = list(str(num)); l1.sort()\n",
    "    l2 = l1[::-1]\n",
    "    n1 = int(\"\".join(l1)); n2 = int(\"\".join(l2))\n",
    "    return n2-n1\n",
    "\n",
    "print(rearranged_difference(972882) )\n",
    "print(rearranged_difference(3320707) )\n",
    "print(rearranged_difference(90010) )"
   ]
  }
 ],
 "metadata": {
  "kernelspec": {
   "display_name": "Python 3",
   "language": "python",
   "name": "python3"
  },
  "language_info": {
   "codemirror_mode": {
    "name": "ipython",
    "version": 3
   },
   "file_extension": ".py",
   "mimetype": "text/x-python",
   "name": "python",
   "nbconvert_exporter": "python",
   "pygments_lexer": "ipython3",
   "version": "3.7.2"
  }
 },
 "nbformat": 4,
 "nbformat_minor": 2
}
