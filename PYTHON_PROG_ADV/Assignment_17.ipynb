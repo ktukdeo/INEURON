{
 "cells": [
  {
   "cell_type": "markdown",
   "metadata": {},
   "source": [
    "# 1. Create a function that transposes a 2D matrix."
   ]
  },
  {
   "cell_type": "code",
   "execution_count": 3,
   "metadata": {},
   "outputs": [
    {
     "name": "stdout",
     "output_type": "stream",
     "text": [
      "[[1, 2, 3], [1, 2, 3], [1, 2, 3]]\n",
      "\n",
      "\n",
      "[[5, 6, 9], [5, 7, 1]]\n"
     ]
    }
   ],
   "source": [
    "transpose_matrix = lambda lst: [[lst[x][y] for x in range(0,len(lst))] for y in range(0,len(lst[0]))]\n",
    "\n",
    "print(transpose_matrix([\n",
    "  [1, 1, 1],\n",
    "  [2, 2, 2],\n",
    "  [3, 3, 3]\n",
    "]) \n",
    ")\n",
    "\n",
    "print(\"\\n\")\n",
    "\n",
    "print(transpose_matrix([\n",
    "  [5, 5],\n",
    "  [6, 7],\n",
    "  [9, 1]\n",
    "]) \n",
    ")"
   ]
  },
  {
   "cell_type": "markdown",
   "metadata": {},
   "source": [
    "# 2. Create a function that determines whether a string is a valid hex code."
   ]
  },
  {
   "cell_type": "code",
   "execution_count": 13,
   "metadata": {},
   "outputs": [
    {
     "name": "stdout",
     "output_type": "stream",
     "text": [
      "True\n",
      "True\n",
      "False\n",
      "False\n"
     ]
    }
   ],
   "source": [
    "import re\n",
    "is_valid_hex_code = lambda s: bool(re.findall(r'^#[0-9A-Fa-f]{6}$',s))\n",
    "\n",
    "print(is_valid_hex_code(\"#CD5C5C\") )\n",
    "print(is_valid_hex_code(\"#EAECEE\") )\n",
    "print(is_valid_hex_code(\"#CD5C58C\") )\n",
    "print(is_valid_hex_code(\"#CD5C5Z\") )"
   ]
  },
  {
   "cell_type": "markdown",
   "metadata": {},
   "source": [
    "# 3. Given a list of math equations (given as strings), return the percentage of correct answers as a string. Round to the nearest whole number."
   ]
  },
  {
   "cell_type": "code",
   "execution_count": 32,
   "metadata": {},
   "outputs": [
    {
     "name": "stdout",
     "output_type": "stream",
     "text": [
      "75%\n",
      "0%\n",
      "67%\n"
     ]
    }
   ],
   "source": [
    "# replaced = with == to make it condition and then used eval to evaluate expression\n",
    "mark_maths= lambda lst: f\"{int(round(sum([eval(x.replace('=','==')) for x in lst])/len(lst) * 100,0))}%\"\n",
    "\n",
    "print(mark_maths([\"2+2=4\", \"3+2=5\", \"10-3=3\", \"5+5=10\"]) )\n",
    "print(mark_maths([\"1-2=-2\"]))\n",
    "print(mark_maths([\"2+3=5\", \"4+4=9\", \"3-1=2\"]) )"
   ]
  },
  {
   "cell_type": "markdown",
   "metadata": {},
   "source": [
    "# 4. There are two players, Alice and Bob, each with a 3-by-3 grid. "
   ]
  },
  {
   "cell_type": "code",
   "execution_count": 49,
   "metadata": {},
   "outputs": [
    {
     "name": "stdout",
     "output_type": "stream",
     "text": [
      "False\n",
      "True\n",
      "True\n",
      "False\n"
     ]
    }
   ],
   "source": [
    "magic_square_game = lambda lst1, lst2:        \\\n",
    "        sum([int(c) for c in lst1[1]])%2==1  and \\\n",
    "        sum([int(c) for c in lst2[1]])%2==0  and \\\n",
    "        lst1[1][lst2[0]-1] == lst2[1][lst1[0]-1]\n",
    "\n",
    "print(magic_square_game([2, \"100\"], [1, \"101\"]) )\n",
    "print(magic_square_game([2, \"001\"], [1, \"101\"]) )\n",
    "print(magic_square_game([3, \"111\"], [2, \"011\"]) )\n",
    "print(magic_square_game([1, \"010\"], [3, \"101\"]) )"
   ]
  },
  {
   "cell_type": "markdown",
   "metadata": {},
   "source": [
    "# 5. From point A, an object is moving towards point B at constant velocity va (in km/hr). "
   ]
  },
  {
   "cell_type": "code",
   "execution_count": 53,
   "metadata": {},
   "outputs": [
    {
     "name": "stdout",
     "output_type": "stream",
     "text": [
      "2h 30min 0s\n",
      "1h 52min 0s\n",
      "0h 38min 34s\n"
     ]
    }
   ],
   "source": [
    "def lets_meet(dist,speed1,speed2):\n",
    "    x = dist/(speed1 + speed2) * 3600\n",
    "    hr = int(x//3600)\n",
    "    x -= hr*3600\n",
    "    mi = int(x//60)\n",
    "    x -= mi * 60\n",
    "    se = int(x)\n",
    "    return f'{hr}h {mi}min {se}s'\n",
    "\n",
    "print(lets_meet(100, 10, 30) )\n",
    "print(lets_meet(280, 70, 80) )\n",
    "print(lets_meet(90, 75, 65) )"
   ]
  },
  {
   "cell_type": "code",
   "execution_count": null,
   "metadata": {},
   "outputs": [],
   "source": []
  },
  {
   "cell_type": "code",
   "execution_count": null,
   "metadata": {},
   "outputs": [],
   "source": []
  }
 ],
 "metadata": {
  "kernelspec": {
   "display_name": "Python 3",
   "language": "python",
   "name": "python3"
  },
  "language_info": {
   "codemirror_mode": {
    "name": "ipython",
    "version": 3
   },
   "file_extension": ".py",
   "mimetype": "text/x-python",
   "name": "python",
   "nbconvert_exporter": "python",
   "pygments_lexer": "ipython3",
   "version": "3.7.2"
  }
 },
 "nbformat": 4,
 "nbformat_minor": 2
}
