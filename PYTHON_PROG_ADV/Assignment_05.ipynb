{
 "cells": [
  {
   "cell_type": "markdown",
   "metadata": {},
   "source": [
    "# 1. Create a function that takes a number n (integer greater than zero) as an argument, and returns 2 if n is odd and 8 if n is even."
   ]
  },
  {
   "cell_type": "code",
   "execution_count": 52,
   "metadata": {},
   "outputs": [
    {
     "name": "stdout",
     "output_type": "stream",
     "text": [
      "1    2\n",
      "2    8\n",
      "3    2\n",
      "4    8\n"
     ]
    }
   ],
   "source": [
    "def f(num):\n",
    "    #get adjacent number. - Odd will have even next to it and viceversa\n",
    "    n1 = ((num-1) - ((num-1)//2) * 2)\n",
    "    return 2**(n1+n1+1)\n",
    "\n",
    "print(1,'  ',f(1))\n",
    "print(2,'  ',f(2))\n",
    "print(3,'  ',f(3))\n",
    "print(4,'  ',f(4))"
   ]
  },
  {
   "cell_type": "markdown",
   "metadata": {},
   "source": [
    "# 2. Create a function that returns the majority vote in a list. A majority vote is an element that occurs > N/2 times in a list (where N is the length of the list)."
   ]
  },
  {
   "cell_type": "code",
   "execution_count": 12,
   "metadata": {},
   "outputs": [
    {
     "name": "stdout",
     "output_type": "stream",
     "text": [
      "A\n",
      "A\n",
      "None\n"
     ]
    }
   ],
   "source": [
    "from collections import Counter\n",
    "def majority_vote(lst):\n",
    "    lc = Counter(lst)\n",
    "    a,b = lc.most_common(1)[0]\n",
    "    if b > len(lst)//2:\n",
    "        return a\n",
    "    else:\n",
    "        return None\n",
    "    \n",
    "print(majority_vote(['A','A','B']))\n",
    "print(majority_vote([\"A\", \"A\", \"A\", \"B\", \"C\", \"A\"]) )\n",
    "print(majority_vote([\"A\", \"B\", \"B\", \"A\", \"C\", \"C\"]))"
   ]
  },
  {
   "cell_type": "markdown",
   "metadata": {},
   "source": [
    "# 3. Create a function that takes a string txt and censors any word from a given list lst. The text removed must be replaced by the given character char."
   ]
  },
  {
   "cell_type": "code",
   "execution_count": 48,
   "metadata": {},
   "outputs": [
    {
     "name": "stdout",
     "output_type": "stream",
     "text": [
      "Today is a Wednesday!  >>>     ----- is - Wednesday!\n",
      "The cow jumped over the moon.  >>>     The *** jumped **** the moon.\n",
      "Why did the chicken cross the road?  >>>     Why *** the ******* cross the ****?\n"
     ]
    },
    {
     "data": {
      "text/plain": [
       "'Why *** the ******* cross the ****?'"
      ]
     },
     "execution_count": 48,
     "metadata": {},
     "output_type": "execute_result"
    }
   ],
   "source": [
    "import re\n",
    "def censor_string(s1,lst,rc):\n",
    "    s=s1\n",
    "    for x in lst:\n",
    "        rs = rc * len(x)\n",
    "        p=r\"(?<=\\b)\"+x+r\"(?=\\b)\"  #ONLY words\n",
    "        s=re.sub(p,rs,s,flags=re.I)\n",
    "    \n",
    "    print(s1,' >>>    ',s)\n",
    "    return s\n",
    "\n",
    "\n",
    "censor_string(\"Today is a Wednesday!\", [\"Today\", \"a\"], \"-\")  \n",
    "censor_string(\"The cow jumped over the moon.\", [\"cow\", \"over\"], \"*\")\n",
    "censor_string(\"Why did the chicken cross the road?\", [\"Did\", \"chicken\", \"road\"], \"*\") "
   ]
  },
  {
   "cell_type": "markdown",
   "metadata": {},
   "source": [
    "# 4. In mathematics a Polydivisible Number (or magic number) is a number in a given number base with digits abcde... that has the following properties:"
   ]
  },
  {
   "cell_type": "code",
   "execution_count": 51,
   "metadata": {},
   "outputs": [
    {
     "name": "stdout",
     "output_type": "stream",
     "text": [
      "True\n",
      "False\n"
     ]
    }
   ],
   "source": [
    "def is_polydivisible(num):\n",
    "    snum = str(num)\n",
    "    val = True\n",
    "    if snum[0]=='0': return False\n",
    "    for i in range(1,len(snum)):\n",
    "        n = int(snum[:i+1])%(i+1)\n",
    "        \n",
    "        if n != 0:\n",
    "            val=False\n",
    "            break\n",
    "    \n",
    "    return val\n",
    "\n",
    "print(is_polydivisible(1232) )\n",
    "print(is_polydivisible(123220 ) )\n",
    "      "
   ]
  },
  {
   "cell_type": "markdown",
   "metadata": {},
   "source": [
    "# 5. Create a function that takes a list of numbers and returns the sum of all prime numbers in the list."
   ]
  },
  {
   "cell_type": "code",
   "execution_count": 55,
   "metadata": {},
   "outputs": [
    {
     "name": "stdout",
     "output_type": "stream",
     "text": [
      "17\n",
      "87\n",
      "None\n"
     ]
    }
   ],
   "source": [
    "def sum_primes(lst):\n",
    "    def prime(num) :\n",
    "        if num <= 1: return False\n",
    "        if (num in (2,3)) : return True\n",
    "        if (num % 2 == 0 or num % 3 == 0) : return False\n",
    "        i = 5\n",
    "        while(i * i <= num) :\n",
    "            if (num % i == 0 or num % (i + 2) == 0) :\n",
    "                return False\n",
    "            i = i + 6\n",
    "        return True\n",
    "    if lst:\n",
    "        return sum([x for x in lst if prime(x)])\n",
    "    else:\n",
    "        return None\n",
    "\n",
    "print(sum_primes([1, 2, 3, 4, 5, 6, 7, 8, 9, 10]))\n",
    "print(sum_primes([2, 3, 4, 11, 20, 50, 71]) )\n",
    "print(sum_primes([]) )"
   ]
  },
  {
   "cell_type": "code",
   "execution_count": null,
   "metadata": {},
   "outputs": [],
   "source": []
  },
  {
   "cell_type": "code",
   "execution_count": null,
   "metadata": {},
   "outputs": [],
   "source": []
  }
 ],
 "metadata": {
  "kernelspec": {
   "display_name": "Python 3",
   "language": "python",
   "name": "python3"
  },
  "language_info": {
   "codemirror_mode": {
    "name": "ipython",
    "version": 3
   },
   "file_extension": ".py",
   "mimetype": "text/x-python",
   "name": "python",
   "nbconvert_exporter": "python",
   "pygments_lexer": "ipython3",
   "version": "3.7.2"
  }
 },
 "nbformat": 4,
 "nbformat_minor": 2
}
