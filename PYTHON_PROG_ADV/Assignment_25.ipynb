{
 "cells": [
  {
   "cell_type": "markdown",
   "metadata": {},
   "source": [
    "# 1. Write four functions that directly mutate a list:"
   ]
  },
  {
   "cell_type": "code",
   "execution_count": 1,
   "metadata": {},
   "outputs": [
    {
     "name": "stdout",
     "output_type": "stream",
     "text": [
      "[1, 3, 4]\n",
      "[1, 3, 4]\n"
     ]
    }
   ],
   "source": [
    "def repeat(lst,n):\n",
    "    lst.extend(lst*(n-1))\n",
    "    return lst\n",
    "\n",
    "def add(lst,x):\n",
    "    lst.append(x)\n",
    "    return lst\n",
    "\n",
    "def remove(lst,m,n):\n",
    "    del lst[m:n+1]\n",
    "    return lst\n",
    "\n",
    "def concat(lst,x):\n",
    "    lst.extend(x)\n",
    "    return lst\n",
    "\n",
    "lst = [1, 2, 3, 4]\n",
    "repeat(lst,3)\n",
    "add(lst,1)\n",
    "remove(lst,1,12)\n",
    "concat(lst,[3,4])\n",
    "print(lst)\n",
    "\n",
    "lst = [1, 2, 3, 4]\n",
    "concat(remove(add(repeat(lst,3),1),1,12),[3,4])\n",
    "print(lst)"
   ]
  },
  {
   "cell_type": "markdown",
   "metadata": {},
   "source": [
    "# 2. The classic game of Mastermind is played on a "
   ]
  },
  {
   "cell_type": "code",
   "execution_count": 2,
   "metadata": {},
   "outputs": [
    {
     "name": "stdout",
     "output_type": "stream",
     "text": [
      "{'black': 0, 'white': 0}\n",
      "{'black': 1, 'white': 0}\n",
      "{'black': 1, 'white': 3}\n",
      "{'black': 0, 'white': 2}\n"
     ]
    }
   ],
   "source": [
    "def guess_score(s1,s2):\n",
    "    black=0; white=0; s1=list(s1); s2=list(s2)\n",
    "    for i in reversed(range(len(s1))):\n",
    "        if s1[i]==s2[i]:\n",
    "            del s1[i]\n",
    "            del s2[i]\n",
    "            black += 1\n",
    "    for i in range(len(s2)):\n",
    "        if s2[i] in s1:\n",
    "            s1.remove(s2[i])\n",
    "            white += 1\n",
    "    return dict([(\"black\",black),(\"white\",white)])\n",
    "\n",
    "print(guess_score(\"1423\", \"5678\") )\n",
    "print(guess_score(\"1423\", \"2222\") )\n",
    "print(guess_score(\"1423\", \"1234\") )\n",
    "print(guess_score(\"1423\", \"2211\") )"
   ]
  },
  {
   "cell_type": "markdown",
   "metadata": {},
   "source": [
    "# 3. Create a function that takes a list lst and a number N and returns a list of two integers from lst whose product equals N."
   ]
  },
  {
   "cell_type": "code",
   "execution_count": 3,
   "metadata": {},
   "outputs": [
    {
     "name": "stdout",
     "output_type": "stream",
     "text": [
      "[4, 5]\n",
      "[2, 5]\n",
      "None\n"
     ]
    }
   ],
   "source": [
    "def two_product(lst, num):\n",
    "    mid = (len(lst)+1)//2; ln = len(lst); lst=sorted(lst)  \n",
    "    for i in range(ln-1,ln-mid-1,-1):\n",
    "        for j in range(i):\n",
    "            prod = lst[i] * lst[j]\n",
    "            if prod == num:\n",
    "                return [lst[j], lst[i]]\n",
    "\n",
    "            if ((not(num >0 and lst[i] <0)) and prod > num) \\\n",
    "                or (num >0 and lst[i] <0 and prod < num):\n",
    "                break\n",
    "    return None\n",
    "            \n",
    "        \n",
    "\n",
    "print(two_product([1, 2, -1, 4, 5], 20) )\n",
    "print(two_product([1, 2, 3, 4, 5], 10) )\n",
    "print(two_product([100, 12, 4, 1, 2], 15) )"
   ]
  },
  {
   "cell_type": "markdown",
   "metadata": {},
   "source": [
    "# 4. In this challenge, sort a list containing a series of dates given as strings. "
   ]
  },
  {
   "cell_type": "code",
   "execution_count": 4,
   "metadata": {},
   "outputs": [
    {
     "name": "stdout",
     "output_type": "stream",
     "text": [
      "['10-02-2016_12:30', '10-02-2018_12:15', '10-02-2018_12:30']\n",
      "['10-02-2018_12:30', '10-02-2018_12:15', '10-02-2016_12:30']\n",
      "['01-01-1999_00:55', '09-02-2000_10:03', '10-02-2000_18:29']\n"
     ]
    }
   ],
   "source": [
    "from datetime import datetime\n",
    "def date(sdt):\n",
    "    dt = datetime.strptime(sdt,\"%d-%m-%Y_%H:%M\")\n",
    "    return (dt.year,dt.month,dt.day,dt.hour,dt.minute)\n",
    "\n",
    "sort_dates = lambda lst, order: sorted(lst, key=lambda x:date(x), reverse=True if order==\"DSC\" else False)\n",
    "\n",
    "print(sort_dates([\"10-02-2018_12:30\", \"10-02-2016_12:30\", \"10-02-2018_12:15\"], \"ASC\") )\n",
    "print(sort_dates([\"10-02-2018_12:30\", \"10-02-2016_12:30\", \"10-02-2018_12:15\"], \"DSC\") )\n",
    "print(sort_dates([\"09-02-2000_10:03\", \"10-02-2000_18:29\", \"01-01-1999_00:55\"], \"ASC\") )"
   ]
  },
  {
   "cell_type": "markdown",
   "metadata": {},
   "source": [
    "# 5. Write a function that selects all words that have all the same vowels "
   ]
  },
  {
   "cell_type": "code",
   "execution_count": 5,
   "metadata": {},
   "outputs": [
    {
     "name": "stdout",
     "output_type": "stream",
     "text": [
      "['toe', 'ocelot']\n",
      "['many']\n",
      "['hoops', 'bot', 'bottom']\n"
     ]
    }
   ],
   "source": [
    "def same_vowel_group(lst):\n",
    "    same_vowels = lambda lst: [[x for x in ['a','e','i','o','u'] if x in word ] for word in lst ]\n",
    "    vowels = same_vowels(lst)\n",
    "    return [lst[i] for i in range(len(lst)) if vowels[0]==vowels[i]]\n",
    "\n",
    "print(same_vowel_group([\"toe\", \"ocelot\", \"maniac\"]) )\n",
    "print(same_vowel_group([\"many\", \"carriage\", \"emit\", \"apricot\", \"animal\"]) )\n",
    "print(same_vowel_group([\"hoops\", \"chuff\", \"bot\", \"bottom\"]) )"
   ]
  },
  {
   "cell_type": "markdown",
   "metadata": {},
   "source": [
    "# 6. Create a function that takes a list of more than three numbers "
   ]
  },
  {
   "cell_type": "code",
   "execution_count": 6,
   "metadata": {},
   "outputs": [
    {
     "name": "stdout",
     "output_type": "stream",
     "text": [
      "2520\n",
      "27965340\n"
     ]
    }
   ],
   "source": [
    "import functools\n",
    "\n",
    "def lcm_of_list(lst):\n",
    "    def check_factor(lst,num):\n",
    "        found = True; pf = 1\n",
    "        while found:\n",
    "            found = False\n",
    "            for i in range(len(lst)):\n",
    "                if lst[i]%num==0:\n",
    "                    lst[i] = lst[i]//num\n",
    "                    found = True\n",
    "            if found:\n",
    "                pf *= num\n",
    "        return pf\n",
    "\n",
    "    def lcm(lst):\n",
    "        pf = 1\n",
    "        pf *= check_factor(lst,2)\n",
    "        pf *= check_factor(lst,3)\n",
    "        \n",
    "        max_val = max(lst)\n",
    "        for k in range(1,max_val+1):\n",
    "            if (6*k-1)<=max_val:\n",
    "                pf *= check_factor(lst,6*k-1)\n",
    "                break\n",
    "            if (6*k+1)<= max_val:\n",
    "                pf *= check_factor(lst,6*k+1)\n",
    "        pf *= functools.reduce(lambda x,y: x*y, lst)\n",
    "        return pf\n",
    "\n",
    "    return lcm(lst)\n",
    "\n",
    "print(lcm_of_list([1, 2, 3, 4, 5, 6, 7, 8, 9, 10]) )\n",
    "print(lcm_of_list([13, 6, 17, 18, 19, 20, 37]) )\n",
    "                    \n",
    "                    \n",
    "            "
   ]
  },
  {
   "cell_type": "code",
   "execution_count": null,
   "metadata": {},
   "outputs": [],
   "source": []
  }
 ],
 "metadata": {
  "kernelspec": {
   "display_name": "Python 3",
   "language": "python",
   "name": "python3"
  },
  "language_info": {
   "codemirror_mode": {
    "name": "ipython",
    "version": 3
   },
   "file_extension": ".py",
   "mimetype": "text/x-python",
   "name": "python",
   "nbconvert_exporter": "python",
   "pygments_lexer": "ipython3",
   "version": "3.7.2"
  }
 },
 "nbformat": 4,
 "nbformat_minor": 2
}
