{
 "cells": [
  {
   "cell_type": "markdown",
   "metadata": {},
   "source": [
    "# 1. Implement a class iterator to flatten a nested list of lists of integers. "
   ]
  },
  {
   "cell_type": "code",
   "execution_count": 14,
   "metadata": {},
   "outputs": [
    {
     "name": "stdout",
     "output_type": "stream",
     "text": [
      "[1, 1, 2, 1, 1]\n",
      "[1, 4, 6]\n",
      "[]\n"
     ]
    }
   ],
   "source": [
    "class NestedIterator:\n",
    "    def __init__(self,lst):\n",
    "        self.nested = lst\n",
    "        self.pointer = [(self.nested,-1),]\n",
    "        self.next_val = self.nval(self.pointer)\n",
    "    \n",
    "    def nval(self, lst):\n",
    "        pflag = True\n",
    "        while pflag and len(lst) > 0:\n",
    "            currptr = lst[-1]\n",
    "            currind = currptr[1] + 1\n",
    "            currlst = currptr[0]\n",
    "\n",
    "            if currind >= len(currlst):\n",
    "                lst.pop()\n",
    "                continue\n",
    "            lst[-1] = (currlst,currind)\n",
    "            if type(currlst[currind])==list:\n",
    "                lst.append((currlst[currind],-1))\n",
    "                continue\n",
    "            return currlst[currind]\n",
    "        return None\n",
    "\n",
    "    \n",
    "    def next(self):\n",
    "        val = self.next_val\n",
    "        self.next_val = self.nval(self.pointer)\n",
    "        return val\n",
    "    \n",
    "    def hasNext(self):\n",
    "        return (self.next_val is not None)\n",
    "        \n",
    "\n",
    "ni, actual = NestedIterator([[1, 1], 2, [1, 1]]), []\n",
    "while ni.hasNext():\n",
    "    actual.append(ni.next())\n",
    "print(actual)\n",
    "\n",
    "ni, actual = NestedIterator([1, [4, [6]]]), []\n",
    "while ni.hasNext():\n",
    "    actual.append(ni.next())\n",
    "print(actual)\n",
    "\n",
    "ni, actual = NestedIterator([[[]], []]), []\n",
    "while ni.hasNext():\n",
    "    actual.append(ni.next())\n",
    "print(actual)\n"
   ]
  },
  {
   "cell_type": "markdown",
   "metadata": {},
   "source": [
    "# 2. Implement the class Shape that receives perimeter and density function into __init__ method"
   ]
  },
  {
   "cell_type": "code",
   "execution_count": 27,
   "metadata": {},
   "outputs": [
    {
     "name": "stdout",
     "output_type": "stream",
     "text": [
      "Area:  2\n",
      "Mass:  600.0\n",
      "Center of Mass:  (2.1108333333333333, 1.5)\n"
     ]
    }
   ],
   "source": [
    "class Shape:\n",
    "    def __init__(self,xy,density):\n",
    "        xy.sort()\n",
    "        self.xy = xy\n",
    "        self.density_fn = density\n",
    "        self._width = (self.xy[2][0] - self.xy[0][0])\n",
    "        self._height = (self.xy[1][1] - self.xy[0][1])\n",
    "        self._area =  self._width * self._height \n",
    "        self._mass = self.mass_calculate()\n",
    "      \n",
    "    @property\n",
    "    def area(self):\n",
    "        return self._area\n",
    "    \n",
    "    @property\n",
    "    def mass(self):\n",
    "        return self._mass\n",
    "    \n",
    "\n",
    "    def mass_calculate(self):\n",
    "        '''\n",
    "        Create a grid of 20X20 and calculated mass of each small area. Mass is function of x.\n",
    "        '''\n",
    "        gx=20;gy=20  #Create Grid 20 X 20\n",
    "        delta = self.area/(gx*gy)  #delta area of Grid\n",
    "        mass=0;startx = self.xy[0][0]; starty = self.xy[0][1]\n",
    "        dx = (self._width)/gx \n",
    "        dy = (self._height)/gy\n",
    "        \n",
    "        \n",
    "        for i in range(1,gx+1):\n",
    "            for j in range(1,gy+1):\n",
    "                mass +=  self.density_fn(startx+dx*(2*i-1)/2,starty+dy*(2*j-1)/2) #Midpoint for accuracy\n",
    "        mass *= delta  #delta was multiplied in the end to avoid rounding errors\n",
    "        return mass        \n",
    "    \n",
    "    @property\n",
    "    def mass_center(self):\n",
    "        \"\"\"\n",
    "        Center of mass was also computed on 20 X 20 grid.\n",
    "        Formula is X = (small mass) * (x distance  )/ Total Mass , Y is calculated similarly.\n",
    "        \"\"\"\n",
    "        gx=20;gy=20  #Create Grid 20 X 20\n",
    "        delta = self.area/(gx*gy)  #delta area of Grid\n",
    "        mx=0;my=0; startx = self.xy[0][0]; starty = self.xy[0][1]\n",
    "        dx = (self._width)/gx \n",
    "        dy = (self._height)/gy\n",
    "        \n",
    "        for i in range(1,gx+1):\n",
    "            for j in range(1,gy+1):\n",
    "                mx +=  self.density_fn(startx+dx*(2*i-1)/2,starty+dy*(2*j-1)/2)*(startx+dx*(2*i-1)/2) #Midpoint\n",
    "                my +=  self.density_fn(startx+dx*(2*i-1)/2,starty+dy*(2*j-1)/2)*(starty+dy*(2*j-1)/2)  \n",
    "        mx *= (delta/self.mass)\n",
    "        my *= (delta/self.mass)\n",
    "        return mx,my\n",
    "\n",
    "                         \n",
    "sh_ex1 = Shape([(1, 1), (3, 1), (3, 2), (1, 2)], lambda x, y: 100 + 100 * x)\n",
    "print(\"Area: \",sh_ex1.area)\n",
    "print(\"Mass: \",sh_ex1.mass)\n",
    "print(\"Center of Mass: \",sh_ex1.mass_center)\n",
    "                         "
   ]
  },
  {
   "cell_type": "markdown",
   "metadata": {},
   "source": [
    "# 3. Given a 3x3 matrix of a completed tic-tac-toe game, create a function that returns whether the game is a win for \"X\", \"O\", or a \"Draw\", "
   ]
  },
  {
   "cell_type": "code",
   "execution_count": 32,
   "metadata": {},
   "outputs": [
    {
     "name": "stdout",
     "output_type": "stream",
     "text": [
      "X\n",
      "O\n",
      "Draw\n"
     ]
    }
   ],
   "source": [
    "def tic_tac_toe(tic_mat):\n",
    "\n",
    "    col_mat = (lambda tic:[[tic[i][j] for i in range(3)] for j in range(3)])(tic_mat)\n",
    "    tic_m1 = tic_mat.copy()\n",
    "    for x in col_mat: tic_m1.append(x)\n",
    "    diag =[]; \n",
    "    for i in range(3): diag.append(tic_mat[i][i]) \n",
    "    tic_m1.append(diag)\n",
    "    diag =[]; \n",
    "    for i in range(3): diag.append(tic_mat[i][2-i])\n",
    "    tic_m1.append(diag)\n",
    "\n",
    "    win1 = [\"X\"] * 3; win2 = [\"O\"] * 3\n",
    "    for x in tic_m1:\n",
    "        if win1 == x: return \"X\"\n",
    "        if win2 == x: return \"O\"\n",
    "    return \"Draw\"\n",
    "\n",
    "print(tic_tac_toe([\n",
    "  [\"X\", \"O\", \"X\"],\n",
    "  [\"O\", \"X\",  \"O\"],\n",
    "  [\"O\", \"X\",  \"X\"]\n",
    "]) \n",
    ")\n",
    "\n",
    "print(tic_tac_toe([\n",
    "  [\"O\", \"O\", \"O\"],\n",
    "  [\"O\", \"X\", \"X\"],\n",
    "  [\"E\", \"X\", \"X\"]\n",
    "]) \n",
    ")\n",
    "\n",
    "print(tic_tac_toe([\n",
    "  [\"X\", \"X\", \"O\"],\n",
    "  [\"O\", \"O\", \"X\"],\n",
    "  [\"X\", \"X\", \"O\"]\n",
    "]) \n",
    ")"
   ]
  },
  {
   "cell_type": "markdown",
   "metadata": {},
   "source": [
    "# 4. Your computer might have been infected by a virus! "
   ]
  },
  {
   "cell_type": "code",
   "execution_count": null,
   "metadata": {},
   "outputs": [],
   "source": [
    "# Not sure what it means so skipping it. Not finding it interesting anyway.."
   ]
  },
  {
   "cell_type": "markdown",
   "metadata": {},
   "source": [
    "# 5. In a video game, a meteor will fall toward the main character's home planet. "
   ]
  },
  {
   "cell_type": "code",
   "execution_count": 39,
   "metadata": {},
   "outputs": [
    {
     "name": "stdout",
     "output_type": "stream",
     "text": [
      "False\n",
      "True\n",
      "False\n"
     ]
    }
   ],
   "source": [
    "def will_hit(eqn,xy):\n",
    "    eqn=eqn.replace('=',' '); op=\"\"\n",
    "    eqn = eqn.split()\n",
    "    for e in eqn:\n",
    "        if e.find(\"y\") >= 0:\n",
    "            coeff = e[0:-1]\n",
    "            y = (1 if coeff=='' else int(coeff)) * xy[1]\n",
    "        if e.find(\"x\") >= 0:\n",
    "            coeff = e[0:-1]\n",
    "            x = (1 if coeff=='' else int(coeff)) * xy[0]  \n",
    "            x = x*-1 if op==\"-\" else x\n",
    "        if e.isnumeric(): \n",
    "            bias = int(e)\n",
    "            bias = bias * -1 if op=='-' else bias\n",
    "        if e=='-' or e=='+':op=e\n",
    "    return y == (x + bias)\n",
    "\n",
    "print(will_hit(\"y = 2x - 5\", (0, 0)) )\n",
    "print(will_hit(\"y = -4x + 6\", (1, 2)) )\n",
    "print(will_hit(\"y = 2x + 6\", (3, 2)) )"
   ]
  },
  {
   "cell_type": "code",
   "execution_count": null,
   "metadata": {},
   "outputs": [],
   "source": []
  }
 ],
 "metadata": {
  "kernelspec": {
   "display_name": "Python 3",
   "language": "python",
   "name": "python3"
  },
  "language_info": {
   "codemirror_mode": {
    "name": "ipython",
    "version": 3
   },
   "file_extension": ".py",
   "mimetype": "text/x-python",
   "name": "python",
   "nbconvert_exporter": "python",
   "pygments_lexer": "ipython3",
   "version": "3.7.2"
  }
 },
 "nbformat": 4,
 "nbformat_minor": 2
}
