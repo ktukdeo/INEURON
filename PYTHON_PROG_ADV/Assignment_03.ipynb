{
 "cells": [
  {
   "cell_type": "markdown",
   "metadata": {},
   "source": [
    "# 1. Create a function to perform basic arithmetic operations that includes addition, subtraction, multiplication and division on a string number (e.g. \"12 + 24\" or \"23 - 21\" or \"12 // 12\" or \"12 * 21\")."
   ]
  },
  {
   "cell_type": "code",
   "execution_count": 5,
   "metadata": {},
   "outputs": [
    {
     "name": "stdout",
     "output_type": "stream",
     "text": [
      "12 + 12 :   24.0\n",
      "12 - 12 :   0.0\n",
      "12 * 12 :   144.0\n",
      "12 // 0 :   -1\n"
     ]
    }
   ],
   "source": [
    "def arithmetic_operation(exp_str):\n",
    "    x=exp_str.split(); n1=float(x[0]); op=x[1]; n2=float(x[2])\n",
    "    \n",
    "    opr = {\n",
    "        '+':lambda x,y: x+y,\n",
    "        '-':lambda x,y: x-y,\n",
    "        '/':lambda x,y: -1 if y==0 else x/y,\n",
    "        '//':lambda x,y: -1 if y==0 else x//y,\n",
    "        '*':lambda x,y: x*y\n",
    "    }\n",
    "    \n",
    "    print(exp_str,':  ',opr[op](n1,n2))\n",
    "    \n",
    "    \n",
    "arithmetic_operation(\"12 + 12\")\n",
    "\n",
    "arithmetic_operation(\"12 - 12\")\n",
    "\n",
    "arithmetic_operation(\"12 * 12\")\n",
    "\n",
    "arithmetic_operation(\"12 // 0\")\n",
    "\n"
   ]
  },
  {
   "cell_type": "markdown",
   "metadata": {},
   "source": [
    "# 2. Write a function that takes the coordinates of three points in the form of a 2d array and returns the perimeter of the triangle. The given points are the vertices of a triangle on a two-dimensional plane."
   ]
  },
  {
   "cell_type": "code",
   "execution_count": 14,
   "metadata": {},
   "outputs": [
    {
     "name": "stdout",
     "output_type": "stream",
     "text": [
      "[[15, 7], [5, 22], [11, 1]]     47.08\n",
      "[[0, 0], [0, 1], [1, 0]]     3.41\n",
      "[[-10, -10], [10, 10], [-10, 10]]     68.28\n"
     ]
    }
   ],
   "source": [
    "def perimeter(lst):\n",
    "    side = lambda x1,x2: ((x1[0]-x2[0])**2 + (x1[1]-x2[1]) **2)**0.5\n",
    "    pr = round(side(lst[0],lst[1]) + side(lst[0],lst[2]) + side(lst[1],lst[2]),2)\n",
    "    print(lst,'   ',pr)\n",
    "\n",
    "perimeter( [ [15, 7], [5, 22], [11, 1] ] )\n",
    "\n",
    "perimeter( [ [0, 0], [0, 1], [1, 0] ] )\n",
    "\n",
    "perimeter( [ [-10, -10], [10, 10 ], [-10, 10] ] )\n"
   ]
  },
  {
   "cell_type": "markdown",
   "metadata": {},
   "source": [
    "# 3. A city skyline can be represented as a 2-D list with 1s representing buildings. In the example below, the height of the tallest building is 4 (second-most right column)."
   ]
  },
  {
   "cell_type": "code",
   "execution_count": 20,
   "metadata": {},
   "outputs": [
    {
     "name": "stdout",
     "output_type": "stream",
     "text": [
      "Height of Tallest building:  4\n",
      "Height of Tallest building:  3\n",
      "Height of Tallest building:  4\n",
      "Height of Tallest building:  2\n"
     ]
    }
   ],
   "source": [
    "def tallest_skyscraper(m2d):\n",
    "    tall = {}\n",
    "    for m in m2d:\n",
    "        for i,v in enumerate(m):\n",
    "            tall[i] = tall.get(i,0)+v\n",
    "    building = sorted(tall.items(), key=lambda x:x[1], reverse=True)\n",
    "    print(\"Height of Tallest building: \",building[0][1])\n",
    "\n",
    "tallest_skyscraper(\n",
    "[[0, 0, 0, 0, 0, 0],\n",
    "[0, 0, 0, 0, 1, 0],\n",
    "[0, 0, 1, 0, 1, 0],\n",
    "[0, 1, 1, 1, 1, 0],\n",
    "[1, 1, 1, 1, 1, 1]]\n",
    ")\n",
    "\n",
    "tallest_skyscraper([\n",
    "  [0, 0, 0, 0],\n",
    "  [0, 1, 0, 0],\n",
    "  [0, 1, 1, 0],\n",
    "  [1, 1, 1, 1]\n",
    "]) \n",
    "\n",
    "tallest_skyscraper([\n",
    "  [0, 1, 0, 0],\n",
    "  [0, 1, 0, 0],\n",
    "  [0, 1, 1, 0],\n",
    "  [1, 1, 1, 1]\n",
    "]) \n",
    "\n",
    "tallest_skyscraper([\n",
    "  [0, 0, 0, 0],\n",
    "  [0, 0, 0, 0],\n",
    "  [1, 1, 1, 0],\n",
    "  [1, 1, 1, 1]\n",
    "]) \n",
    "\n"
   ]
  },
  {
   "cell_type": "markdown",
   "metadata": {},
   "source": [
    "# 4. A financial institution provides professional services to banks and claims charges from the customers based on the number of man-days provided. Internally, it has set a scheme to motivate and reward staff to meet and exceed targeted billable utilization and revenues by paying a bonus for each day claimed from customers in excess of a threshold target"
   ]
  },
  {
   "cell_type": "code",
   "execution_count": 21,
   "metadata": {},
   "outputs": [
    {
     "name": "stdout",
     "output_type": "stream",
     "text": [
      "Days:  15   Bonus:  0\n",
      "Days:  37   Bonus:  1625\n",
      "Days:  50   Bonus:  8200\n"
     ]
    }
   ],
   "source": [
    "def bonus(days):\n",
    "    tier = [(0,32,0),(33,40,325),(41,48,550),(49,9999,600)]\n",
    "    bamt = 0\n",
    "    for x in tier:\n",
    "        if days > x[1]:\n",
    "            bamt += (x[1]-x[0]+1)*x[2]\n",
    "        elif days >= x[0] and days <= x[1]:\n",
    "            bamt += (days - x[0] + 1)*x[2]\n",
    "            break\n",
    "    print('Days: ',days, '  Bonus: ',bamt)\n",
    "\n",
    "bonus(15)\n",
    "\n",
    "bonus(37)\n",
    "\n",
    "bonus(50)\n"
   ]
  },
  {
   "cell_type": "markdown",
   "metadata": {},
   "source": [
    "# 5. A number is said to be Disarium if the sum of its digits raised to their respective positions is the number itself."
   ]
  },
  {
   "cell_type": "code",
   "execution_count": 22,
   "metadata": {},
   "outputs": [
    {
     "name": "stdout",
     "output_type": "stream",
     "text": [
      "Number:  544      Is Disarium:  False\n",
      "Number:  518      Is Disarium:  True\n",
      "Number:  466      Is Disarium:  False\n",
      "Number:  8      Is Disarium:  True\n"
     ]
    }
   ],
   "source": [
    "def is_disarium(num):\n",
    "    snum = str(num)\n",
    "    val=0\n",
    "    for i in range(len(snum)):\n",
    "        val += int(snum[i:i+1])**(i+1)\n",
    "\n",
    "    print('Number: ',num, '     Is Disarium: ',num==val)\n",
    "\n",
    "is_disarium(544)\n",
    "\n",
    "is_disarium(518)\n",
    "\n",
    "is_disarium(466)\n",
    "\n",
    "is_disarium(8)\n",
    "    \n"
   ]
  },
  {
   "cell_type": "code",
   "execution_count": null,
   "metadata": {},
   "outputs": [],
   "source": []
  }
 ],
 "metadata": {
  "kernelspec": {
   "display_name": "Python 3",
   "language": "python",
   "name": "python3"
  },
  "language_info": {
   "codemirror_mode": {
    "name": "ipython",
    "version": 3
   },
   "file_extension": ".py",
   "mimetype": "text/x-python",
   "name": "python",
   "nbconvert_exporter": "python",
   "pygments_lexer": "ipython3",
   "version": "3.7.2"
  }
 },
 "nbformat": 4,
 "nbformat_minor": 2
}
