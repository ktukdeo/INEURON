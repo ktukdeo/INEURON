{
 "cells": [
  {
   "cell_type": "markdown",
   "metadata": {},
   "source": [
    "# 1. Given a list of numbers, create a function that removes 25% from every number in the list except the smallest number, and adds the total amount removed to the smallest number."
   ]
  },
  {
   "cell_type": "code",
   "execution_count": 5,
   "metadata": {},
   "outputs": [
    {
     "name": "stdout",
     "output_type": "stream",
     "text": [
      "[3.0, 3.0, 3.0]\n",
      "[12.0, 7.5, 14.5]\n",
      "[27.0, 75.0]\n"
     ]
    }
   ],
   "source": [
    "def show_the_love(lst):\n",
    "    if len(lst) <= 1: return lst\n",
    "    \n",
    "    sind = 0; acc =0\n",
    "    for i in range(1,len(lst)):\n",
    "        if lst[i] > lst[sind]:\n",
    "            n1=i;\n",
    "        else:\n",
    "            n1=sind; sind=i\n",
    "        acc += lst[n1] * 0.25\n",
    "        lst[n1] = lst[n1] * 0.75\n",
    "    lst[sind] += acc\n",
    "    return lst\n",
    "\n",
    "print(show_the_love([4, 1, 4]) )\n",
    "print(show_the_love([16, 10, 8]) )\n",
    "print(show_the_love([2, 100]) )"
   ]
  },
  {
   "cell_type": "markdown",
   "metadata": {},
   "source": [
    "# 2. Create a function that takes in two words as input and returns a list of three elements, in the following order:"
   ]
  },
  {
   "cell_type": "code",
   "execution_count": 13,
   "metadata": {},
   "outputs": [
    {
     "name": "stdout",
     "output_type": "stream",
     "text": [
      "['aps', 'hr', 'o']\n",
      "['rbdo', 'a', 'e']\n",
      "['nep', 'hais', 'lvo']\n"
     ]
    }
   ],
   "source": [
    "def letters(s1,s2):\n",
    "    set1 = set(list(s1)); set2 = set(list(s2))\n",
    "    x1 = set1 & set2\n",
    "    x2 = set1 - set2\n",
    "    x3 = set2 - set1\n",
    "    \n",
    "    return [\"\".join(x1), \"\".join(x2), \"\".join(x3)]\n",
    "\n",
    "print(letters(\"sharp\", \"soap\") )\n",
    "print(letters(\"board\", \"bored\") )\n",
    "print(letters(\"happiness\", \"envelope\") )"
   ]
  },
  {
   "cell_type": "markdown",
   "metadata": {},
   "source": [
    "# 3. Write a function that pairs the first number in an array with the last, the second number with the second to last, etc."
   ]
  },
  {
   "cell_type": "code",
   "execution_count": 16,
   "metadata": {},
   "outputs": [
    {
     "name": "stdout",
     "output_type": "stream",
     "text": [
      "[(1, 7), (2, 6), (3, 5), (4, 4)]\n",
      "[(1, 6), (2, 5), (3, 4)]\n",
      "[]\n"
     ]
    }
   ],
   "source": [
    "pairs = lambda lst: [(lst[i],lst[len(lst)-1-i]) for i in range( (len(lst)-1)//2+1 )]\n",
    "\n",
    "print(pairs([1, 2, 3, 4, 5, 6, 7]) )\n",
    "print(pairs([1, 2, 3, 4, 5, 6]) )\n",
    "print(pairs([]) )"
   ]
  },
  {
   "cell_type": "markdown",
   "metadata": {},
   "source": [
    "# 4. Write a function that adds two numbers. The catch, however, is that the numbers will be strings."
   ]
  },
  {
   "cell_type": "code",
   "execution_count": 22,
   "metadata": {},
   "outputs": [
    {
     "name": "stdout",
     "output_type": "stream",
     "text": [
      "9\n",
      "-1\n",
      "1\n",
      "1874682736267235927391936562808774986\n"
     ]
    }
   ],
   "source": [
    "def add_str_nums(s1,s2):\n",
    "    if s1==\"\" : s1=\"0\"\n",
    "    if s2==\"\" : s2=\"0\"\n",
    "    if not (s1.isnumeric() and s2.isnumeric()) : return \"-1\"\n",
    "    return str(int(s1)+int(s2))\n",
    "\n",
    "print(add_str_nums(\"4\", \"5\"))\n",
    "print(add_str_nums(\"abcdefg\", \"3\") )\n",
    "print(add_str_nums(\"1\", \"\") )\n",
    "print(add_str_nums(\"1874682736267235927359283579235789257\", \"32652983572985729\") )"
   ]
  },
  {
   "cell_type": "markdown",
   "metadata": {},
   "source": [
    "# 5. lPaeesh le pemu mnxit ehess rtnisg! Oh, sorry, that was supposed to say: Please help me unmix these strings!"
   ]
  },
  {
   "cell_type": "code",
   "execution_count": 24,
   "metadata": {},
   "outputs": [
    {
     "name": "stdout",
     "output_type": "stream",
     "text": [
      "214365\n",
      "This is a mixed up string.\n",
      "abcde\n"
     ]
    }
   ],
   "source": [
    "def unmix(s1):\n",
    "    lst=list(s1)\n",
    "    for i in range(1,len(lst),2): lst[i-1],lst[i]=lst[i],lst[i-1]\n",
    "    return \"\".join(lst)\n",
    "\n",
    "print(unmix(\"123456\") )\n",
    "print(unmix(\"hTsii  s aimex dpus rtni.g\") )\n",
    "print(unmix(\"badce\") )"
   ]
  },
  {
   "cell_type": "code",
   "execution_count": null,
   "metadata": {},
   "outputs": [],
   "source": []
  },
  {
   "cell_type": "code",
   "execution_count": null,
   "metadata": {},
   "outputs": [],
   "source": []
  }
 ],
 "metadata": {
  "kernelspec": {
   "display_name": "Python 3",
   "language": "python",
   "name": "python3"
  },
  "language_info": {
   "codemirror_mode": {
    "name": "ipython",
    "version": 3
   },
   "file_extension": ".py",
   "mimetype": "text/x-python",
   "name": "python",
   "nbconvert_exporter": "python",
   "pygments_lexer": "ipython3",
   "version": "3.7.2"
  }
 },
 "nbformat": 4,
 "nbformat_minor": 2
}
