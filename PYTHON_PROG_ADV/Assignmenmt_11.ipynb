{
 "cells": [
  {
   "cell_type": "markdown",
   "metadata": {},
   "source": [
    "# 1. Create a function that takes a list and returns a new list containing only prime numbers."
   ]
  },
  {
   "cell_type": "code",
   "execution_count": 1,
   "metadata": {},
   "outputs": [
    {
     "name": "stdout",
     "output_type": "stream",
     "text": [
      "[1009, 3, 61, 1087, 1091, 1093, 1097]\n"
     ]
    }
   ],
   "source": [
    "def filter_primes(lst):\n",
    "    \n",
    "    def prime(num) :\n",
    "        if num <= 1: return False\n",
    "        if (num in (2,3)) : return True\n",
    "        if (num % 2 == 0 or num % 3 == 0) : return False\n",
    "        i = 5\n",
    "        while(i * i <= num) :\n",
    "            if (num % i == 0 or num % (i + 2) == 0) :\n",
    "                return False\n",
    "            i = i + 6\n",
    "        return True\n",
    "    \n",
    "    return [x for x in lst if prime(x)]\n",
    "\n",
    "print(filter_primes([1009, 10, 10, 10, 3, 33, 9, 4, 1, 61, 63, 69, 1087, 1091, 1093, 1097]) )"
   ]
  },
  {
   "cell_type": "markdown",
   "metadata": {},
   "source": [
    "# 2. Once a water balloon pops, is soaks the area around it. The ground gets drier the further away you travel from the balloon."
   ]
  },
  {
   "cell_type": "code",
   "execution_count": 8,
   "metadata": {},
   "outputs": [
    {
     "name": "stdout",
     "output_type": "stream",
     "text": [
      "[0, 1, 2, 3, 4, 3, 2, 1, 0]\n",
      "[0, 1, 2, 3, 2, 1, 0]\n",
      "[0]\n"
     ]
    }
   ],
   "source": [
    "def pop(lst1):\n",
    "    lst=lst1.copy()\n",
    "    bm = max(lst); bp = lst.index(bm)\n",
    "    j=1\n",
    "    for i in range(bm-1,0,-1):\n",
    "        if bp-j>=0:\n",
    "            lst[bp-j] = i\n",
    "        if bp+j < len(lst):\n",
    "            lst[bp+j] = i\n",
    "            \n",
    "        j +=1\n",
    "        \n",
    "    return lst\n",
    "\n",
    "print(pop([0, 0, 0, 0, 4, 0, 0, 0, 0])  )\n",
    "print(pop([0, 0, 0, 3, 0, 0, 0]) )\n",
    "print(pop([0]) )\n",
    "    "
   ]
  },
  {
   "cell_type": "markdown",
   "metadata": {},
   "source": [
    "# 3. \"Loves me, loves me not\" is a traditional game in which a person plucks off all the petals of a flower one by one"
   ]
  },
  {
   "cell_type": "code",
   "execution_count": 10,
   "metadata": {},
   "outputs": [
    {
     "name": "stdout",
     "output_type": "stream",
     "text": [
      "Loves me, Loves me not, LOVES ME\n",
      "Loves me, Loves me not, Loves me, Loves me not, Loves me, LOVES ME NOT\n",
      "LOVES ME\n"
     ]
    }
   ],
   "source": [
    "def loves_me(n):\n",
    "    seq = n//2; sq = n%2\n",
    "    if sq==1:\n",
    "        love_msg = \"Loves me, Loves me not, \" * seq + \"LOVES ME\"\n",
    "    else:\n",
    "        love_msg = \"Loves me, Loves me not, \" * (seq-1) + \"Loves me, LOVES ME NOT\"\n",
    "        \n",
    "    return love_msg\n",
    "\n",
    "print(loves_me(3) )\n",
    "print(loves_me(6) )\n",
    "print(loves_me(1) )"
   ]
  },
  {
   "cell_type": "markdown",
   "metadata": {},
   "source": [
    "# 4. Write a function that sorts each string in a list by the letter in alphabetic ascending order (a-z)."
   ]
  },
  {
   "cell_type": "code",
   "execution_count": 14,
   "metadata": {},
   "outputs": [
    {
     "name": "stdout",
     "output_type": "stream",
     "text": [
      "['2344b', '932c', '832u32']\n",
      "['304q2', '5y5', '572z']\n",
      "[]\n"
     ]
    }
   ],
   "source": [
    "import re\n",
    "def sort_by_letter(lst):\n",
    "    l = sorted(lst, key=lambda x:re.sub('\\d','',x))\n",
    "    return l\n",
    "\n",
    "print(sort_by_letter([\"932c\", \"832u32\", \"2344b\"]))\n",
    "print(sort_by_letter([\"572z\", \"5y5\", \"304q2\"]))\n",
    "print(sort_by_letter([]))"
   ]
  },
  {
   "cell_type": "markdown",
   "metadata": {},
   "source": [
    "# 5. There are three cups on a table, at positions A, B, and C. At the start, there is a ball hidden under the cup at position B."
   ]
  },
  {
   "cell_type": "code",
   "execution_count": 15,
   "metadata": {},
   "outputs": [
    {
     "name": "stdout",
     "output_type": "stream",
     "text": [
      "C\n"
     ]
    }
   ],
   "source": [
    "def cup_swapping(lst):\n",
    "    cpos = \"B\"\n",
    "    for x in lst:\n",
    "        if x[0]==cpos:\n",
    "            cpos=x[1]\n",
    "        elif x[1] == cpos:\n",
    "            cpos=x[0]\n",
    "    \n",
    "    return cpos\n",
    "\n",
    "print(cup_swapping([\"AB\", \"CA\", \"AB\"]) )"
   ]
  },
  {
   "cell_type": "code",
   "execution_count": null,
   "metadata": {},
   "outputs": [],
   "source": []
  }
 ],
 "metadata": {
  "kernelspec": {
   "display_name": "Python 3",
   "language": "python",
   "name": "python3"
  },
  "language_info": {
   "codemirror_mode": {
    "name": "ipython",
    "version": 3
   },
   "file_extension": ".py",
   "mimetype": "text/x-python",
   "name": "python",
   "nbconvert_exporter": "python",
   "pygments_lexer": "ipython3",
   "version": "3.7.2"
  }
 },
 "nbformat": 4,
 "nbformat_minor": 2
}
