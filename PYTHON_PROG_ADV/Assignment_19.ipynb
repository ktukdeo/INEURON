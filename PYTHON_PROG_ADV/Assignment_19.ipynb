{
 "cells": [
  {
   "cell_type": "markdown",
   "metadata": {},
   "source": [
    "# 1. Create a checker board generator, which takes as inputs n and 2 elements to generate an n x n checkerboard with those two elements as alternating squares."
   ]
  },
  {
   "cell_type": "code",
   "execution_count": 4,
   "metadata": {},
   "outputs": [
    {
     "name": "stdout",
     "output_type": "stream",
     "text": [
      "[[7, 6], [6, 7]]\n",
      "[['A', 'B', 'A'], ['B', 'A', 'B'], ['A', 'B', 'A']]\n",
      "[['c', 'd', 'c', 'd'], ['d', 'c', 'd', 'c'], ['c', 'd', 'c', 'd'], ['d', 'c', 'd', 'c']]\n",
      "Invalid\n"
     ]
    }
   ],
   "source": [
    "def checker_board(el,v1,v2):\n",
    "    if v1==v2: return \"Invalid\"\n",
    "    va1 = [v1, v2] * (el//2 + 1)\n",
    "    va2 = va1[::-1]\n",
    "    return [va1[:el] if i%2==0 else va2[:el] for i in range(el)]\n",
    "\n",
    "print(checker_board(2, 7, 6) )\n",
    "print(checker_board(3, \"A\", \"B\") )\n",
    "print(checker_board(4, \"c\", \"d\") )\n",
    "print(checker_board(4, \"c\", \"c\") )"
   ]
  },
  {
   "cell_type": "markdown",
   "metadata": {},
   "source": [
    "# 2. A string is an almost-palindrome if, by changing only one character, you can make it a palindrome. "
   ]
  },
  {
   "cell_type": "code",
   "execution_count": 9,
   "metadata": {},
   "outputs": [
    {
     "name": "stdout",
     "output_type": "stream",
     "text": [
      "True\n",
      "True\n",
      "False\n",
      "False\n"
     ]
    }
   ],
   "source": [
    "almost_palindrome = lambda s: sum([s[i]!=s[-(i+1)] for i in range(len(s))]) == 2\n",
    "\n",
    "print(almost_palindrome(\"abcdcbg\") )\n",
    "print(almost_palindrome(\"abccia\") )\n",
    "print(almost_palindrome(\"abcdaaa\") )\n",
    "print(almost_palindrome(\"1234312\") )"
   ]
  },
  {
   "cell_type": "markdown",
   "metadata": {},
   "source": [
    "# 3. Create a function that finds how many prime numbers there are, up to the given integer."
   ]
  },
  {
   "cell_type": "code",
   "execution_count": 32,
   "metadata": {},
   "outputs": [
    {
     "name": "stdout",
     "output_type": "stream",
     "text": [
      "4\n",
      "10\n"
     ]
    }
   ],
   "source": [
    "def prime_numbers(num):\n",
    "    def isPrime(num):\n",
    "        if num <= 1: return False\n",
    "        if num in [2,3]: return True\n",
    "        if num%2==0 or num%3==0 :return False\n",
    "        i=5\n",
    "        while i*i <= num:\n",
    "            if num%i==0 or num%(i+2)==0: return False\n",
    "            i += 6\n",
    "        return True\n",
    "\n",
    "    pval =[]\n",
    "    if num>=2:pval.append(2)\n",
    "    n=3\n",
    "    while n<=num:\n",
    "        if isPrime(n): pval.append(n)\n",
    "        n += 2\n",
    "    #print(pval)\n",
    "    return len(pval)\n",
    "\n",
    "print(prime_numbers(10) )\n",
    "print(prime_numbers(30) )"
   ]
  },
  {
   "cell_type": "markdown",
   "metadata": {},
   "source": [
    "# 4. If today was Monday, in two days, it would be Wednesday."
   ]
  },
  {
   "cell_type": "code",
   "execution_count": 13,
   "metadata": {},
   "outputs": [
    {
     "name": "stdout",
     "output_type": "stream",
     "text": [
      "['Monday', 'Friday']\n",
      "['Monday', 'Monday', 'Monday']\n",
      "['Tuesday', 'Wednesday', 'Saturday']\n"
     ]
    }
   ],
   "source": [
    "wdays = [\"Monday\",\"Tuesday\",\"Wednesday\",\"Thursday\",\"Friday\",\"Saturday\",\"Sunday\"]\n",
    "def after_n_days(lst, nd):\n",
    "    val = []; ln = len(wdays)\n",
    "    for wd in lst:\n",
    "        ind = wdays.index(wd)\n",
    "        w = ind + nd if ind + nd < ln  else ind+nd-ln\n",
    "        val.append(wdays[w])\n",
    "        \n",
    "    return val\n",
    "\n",
    "print(after_n_days([\"Thursday\", \"Monday\"], 4) )\n",
    "print(after_n_days([\"Sunday\", \"Sunday\", \"Sunday\"], 1) )\n",
    "print(after_n_days([\"Monday\", \"Tuesday\", \"Friday\"], 1) )"
   ]
  },
  {
   "cell_type": "markdown",
   "metadata": {},
   "source": [
    "# 5. You are in the process of creating a chat application and want to add an anonymous name feature"
   ]
  },
  {
   "cell_type": "code",
   "execution_count": 16,
   "metadata": {},
   "outputs": [
    {
     "name": "stdout",
     "output_type": "stream",
     "text": [
      "True\n",
      "True\n",
      "False\n"
     ]
    }
   ],
   "source": [
    "def is_correct_aliases(lst1,lst2):\n",
    "    if len(lst1)!=len(lst2): return False\n",
    "    for i,name in enumerate(lst1):\n",
    "        name2 = lst2[i].split()\n",
    "        if len(name2) != 2: return False\n",
    "        if name[0].upper() != name2[0][0] or name[0].upper() != name2[1][0]: return False\n",
    "    return True\n",
    "\n",
    "print(is_correct_aliases([\"Adrian M.\", \"Harriet S.\", \"Mandy T.\"], [\"Amazing Artichoke\", \"Hopeful Hedgehog\", \"Marvelous Mouse\"]) )\n",
    "print(is_correct_aliases([\"Rachel F.\", \"Pam G.\", \"Fred Z.\", \"Nancy K.\"], [\"Reassuring Rat\", \"Peaceful Panda\", \"Fantastic Frog\", \"Notable Nickel\"]) )\n",
    "print(is_correct_aliases([\"Beth T.\"], [\"Brandishing Mimosa\"]) )"
   ]
  },
  {
   "cell_type": "code",
   "execution_count": null,
   "metadata": {},
   "outputs": [],
   "source": []
  }
 ],
 "metadata": {
  "kernelspec": {
   "display_name": "Python 3",
   "language": "python",
   "name": "python3"
  },
  "language_info": {
   "codemirror_mode": {
    "name": "ipython",
    "version": 3
   },
   "file_extension": ".py",
   "mimetype": "text/x-python",
   "name": "python",
   "nbconvert_exporter": "python",
   "pygments_lexer": "ipython3",
   "version": "3.7.2"
  }
 },
 "nbformat": 4,
 "nbformat_minor": 2
}
