{
 "cells": [
  {
   "cell_type": "markdown",
   "metadata": {},
   "source": [
    "# 1. Rondo Form is a type of musical structure, in which there is a recurring theme/refrain, notated as A. Here are the rules for valid rondo forms:"
   ]
  },
  {
   "cell_type": "code",
   "execution_count": 1,
   "metadata": {},
   "outputs": [
    {
     "name": "stdout",
     "output_type": "stream",
     "text": [
      "True\n",
      "True\n",
      "False\n"
     ]
    }
   ],
   "source": [
    "def valid_rondo(s):\n",
    "    if s==\"A\" or s[0]!=\"A\" or s[-1]!=\"A\": return False\n",
    "    nc = ord('B')\n",
    "    for c in s[1:-1]:\n",
    "        if c ==\"A\": continue\n",
    "        if nc!=ord(c): return False\n",
    "        else:nc=nc+1\n",
    "    return True\n",
    "\n",
    "print(valid_rondo(\"ABACADAEAFAGAHAIAJA\") )\n",
    "print(valid_rondo(\"ABA\") )\n",
    "print(valid_rondo(\"ABBACCA\") )"
   ]
  },
  {
   "cell_type": "markdown",
   "metadata": {},
   "source": [
    "# 2. Create a function that returns the whole of the first sentence which contains a specific word. Include the full stop at the end of the sentence."
   ]
  },
  {
   "cell_type": "code",
   "execution_count": 29,
   "metadata": {},
   "outputs": [
    {
     "name": "stdout",
     "output_type": "stream",
     "text": [
      "Things are going swell.\n",
      "I have a mat.\n",
      "\n"
     ]
    }
   ],
   "source": [
    "import re\n",
    "def sentence_searcher(s,f):\n",
    "    x = re.findall(r'([a-z ]*'+f+r'[a-z ]*\\.)',s,flags=re.I)\n",
    "    return x[0].strip() if x else ''\n",
    "\n",
    "txt = \"I have a cat. I have a mat. Things are going swell.\"\n",
    "print(sentence_searcher(txt, \"things\"))\n",
    "print(sentence_searcher(txt, \"MAT\") )\n",
    "print(sentence_searcher(txt, \"flat\") )"
   ]
  },
  {
   "cell_type": "markdown",
   "metadata": {},
   "source": [
    "# 3. Given a number, find the \"round \"of each digit of the number. An integer is called \"round\" if all its digits except the leftmost (most significant) are equal to zero."
   ]
  },
  {
   "cell_type": "code",
   "execution_count": 33,
   "metadata": {},
   "outputs": [
    {
     "name": "stdout",
     "output_type": "stream",
     "text": [
      "['1', '100']\n",
      "['4', '30', '200', '1000']\n"
     ]
    }
   ],
   "source": [
    "def sum_round(num):\n",
    "    val=[];p=0\n",
    "    if num==0:return['0']\n",
    "    while(num >0):\n",
    "        n1 = num%10 ** p\n",
    "        num -= n1\n",
    "        p += 1\n",
    "        if n1 != 0: val.append(str(n1))\n",
    "    return val\n",
    "\n",
    "print(sum_round(101) )\n",
    "print(sum_round(1234))\n",
    "        "
   ]
  },
  {
   "cell_type": "markdown",
   "metadata": {},
   "source": [
    "# 4. Your task, is to create N x N multiplication table, of size n provided in parameter."
   ]
  },
  {
   "cell_type": "code",
   "execution_count": 39,
   "metadata": {},
   "outputs": [
    {
     "name": "stdout",
     "output_type": "stream",
     "text": [
      "[[1, 2, 3, 4, 5], [2, 4, 6, 8, 10], [3, 6, 9, 12, 15], [4, 8, 12, 16, 20], [5, 10, 15, 20, 25]]\n",
      "\n",
      "\n",
      "[[1, 2, 3], [2, 4, 6], [3, 6, 9]]\n"
     ]
    }
   ],
   "source": [
    "multiplication_table = lambda n: [[x*i for i in range(1,n+1)] for x in range(1,n+1)]\n",
    "\n",
    "print(multiplication_table(5))\n",
    "print('\\n')\n",
    "print(multiplication_table(3))"
   ]
  },
  {
   "cell_type": "markdown",
   "metadata": {},
   "source": [
    "# 5. Create a function that returns True if two lines rhyme and False otherwise. "
   ]
  },
  {
   "cell_type": "code",
   "execution_count": 63,
   "metadata": {},
   "outputs": [
    {
     "name": "stdout",
     "output_type": "stream",
     "text": [
      "True\n",
      "True\n",
      "False\n",
      "False\n"
     ]
    }
   ],
   "source": [
    "def does_rhyme(s1,s2):\n",
    "    def extract_vowels(s):\n",
    "        s = s.lower(); word_found=False; val=\"\"\n",
    "        for c in s[::-1]:\n",
    "            if c.isalpha():\n",
    "                word_found=True\n",
    "                if \"aeiou\".find(c) >= 0:\n",
    "                    val += c\n",
    "            if c==' ' and word_found:\n",
    "                break\n",
    "                \n",
    "        return val\n",
    "\n",
    "    v1 = extract_vowels(s1)\n",
    "    v2 = extract_vowels(s2)\n",
    "    return False if v1+v2==\"\" else v1==v2  # I have assumed SAME VOWELS IN SAME ORDER. ALso if no vowels found then False.\n",
    "\n",
    "print(does_rhyme(\"Sam I am!\", \"Green eggs and ham\"))\n",
    "print(does_rhyme(\"Sam I am!\", \"Green eggs and HAM. @@\") )\n",
    "print(does_rhyme(\"It was far cry\", \"In little mcr\")) # As no vowels-- False. This is what I ASSUMED from prob statement\n",
    "print(does_rhyme(\"You are off to the races\", \"a splendid day.\") )"
   ]
  },
  {
   "cell_type": "code",
   "execution_count": null,
   "metadata": {},
   "outputs": [],
   "source": []
  }
 ],
 "metadata": {
  "kernelspec": {
   "display_name": "Python 3",
   "language": "python",
   "name": "python3"
  },
  "language_info": {
   "codemirror_mode": {
    "name": "ipython",
    "version": 3
   },
   "file_extension": ".py",
   "mimetype": "text/x-python",
   "name": "python",
   "nbconvert_exporter": "python",
   "pygments_lexer": "ipython3",
   "version": "3.7.2"
  }
 },
 "nbformat": 4,
 "nbformat_minor": 2
}
