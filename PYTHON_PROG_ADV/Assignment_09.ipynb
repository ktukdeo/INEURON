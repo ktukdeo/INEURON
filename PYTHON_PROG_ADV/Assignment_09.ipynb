{
 "cells": [
  {
   "cell_type": "markdown",
   "metadata": {},
   "source": [
    "# 1. YouTube offers different playback speed options for users. This allows users to increase or decrease the speed of the video content. Given the actual duration and playback speed of the video, calculate the playback duration of the video."
   ]
  },
  {
   "cell_type": "code",
   "execution_count": 10,
   "metadata": {},
   "outputs": [
    {
     "name": "stdout",
     "output_type": "stream",
     "text": [
      "00:15:00\n",
      "00:53:20\n"
     ]
    }
   ],
   "source": [
    "def playback_duration(duration,speed):\n",
    "    sd = duration.split(':')\n",
    "    nd = int(sd[0]) * 3600 + int(sd[1])*60 + int(sd[2])\n",
    "    nd = int(nd/speed)\n",
    "    hr = nd//3600; nd = nd - hr * 3600; mi = nd//60 ; nd = nd - mi * 60; sec = nd\n",
    "    return f'{hr:02d}:{mi:02d}:{sec:02d}'\n",
    "\n",
    "print(playback_duration(\"00:30:00\", 2) )\n",
    "print(playback_duration(\"01:20:00\", 1.5) )"
   ]
  },
  {
   "cell_type": "markdown",
   "metadata": {},
   "source": [
    "# 2. We needs your help to construct a building which will be a pile of n cubes. The cube at the bottom will have a volume of n^3, the cube above will have volume of (n-1)^3 and so on until the top which will have a volume of 1^3."
   ]
  },
  {
   "cell_type": "code",
   "execution_count": 11,
   "metadata": {},
   "outputs": [
    {
     "name": "stdout",
     "output_type": "stream",
     "text": [
      "45\n",
      "2022\n",
      "None\n"
     ]
    }
   ],
   "source": [
    "def pile_of_cubes(volume):\n",
    "    vol=0; n=0\n",
    "    while(volume > vol):\n",
    "        n += 1; vol += n**3\n",
    "    \n",
    "    return n if volume==vol else None\n",
    "\n",
    "print(pile_of_cubes(1071225) )\n",
    "print(pile_of_cubes(4183059834009) )\n",
    "print(pile_of_cubes(16) )\n",
    "        \n",
    "    "
   ]
  },
  {
   "cell_type": "markdown",
   "metadata": {},
   "source": [
    "# 3. A fulcrum of a list is an integer such that all elements to the left of it and all elements to the right of it sum to the same value. Write a function that finds the fulcrum of a list."
   ]
  },
  {
   "cell_type": "code",
   "execution_count": 16,
   "metadata": {},
   "outputs": [
    {
     "name": "stdout",
     "output_type": "stream",
     "text": [
      "2\n",
      "4\n",
      "0\n"
     ]
    }
   ],
   "source": [
    "def find_fulcrum(lst):\n",
    "    for i in range(1,len(lst)-1):\n",
    "        if sum(lst[:i])==sum(lst[i+1:]):\n",
    "            return lst[i]\n",
    "        \n",
    "print(find_fulcrum([3, 1, 5, 2, 4, 6, -1]) )\n",
    "print(find_fulcrum([1, 2, 4, 9, 10, -10, -9, 3]) )\n",
    "print(find_fulcrum([7, -1, 0, -1, 1, 1, 2, 3]))"
   ]
  },
  {
   "cell_type": "markdown",
   "metadata": {},
   "source": [
    "# 4. Given a list of integers representing the color of each sock, determine how many pairs of socks with matching colors there are. "
   ]
  },
  {
   "cell_type": "code",
   "execution_count": 18,
   "metadata": {},
   "outputs": [
    {
     "name": "stdout",
     "output_type": "stream",
     "text": [
      "3\n",
      "4\n",
      "0\n"
     ]
    }
   ],
   "source": [
    "from collections import Counter\n",
    "def sock_merchant(lst):\n",
    "    lc = Counter(lst)\n",
    "    return sum([v//2 for v in lc.values()])\n",
    "\n",
    "print(sock_merchant([10, 20, 20, 10, 10, 30, 50, 10, 20]) )\n",
    "print(sock_merchant([50, 20, 30, 90, 30, 20, 50, 20, 90]) )\n",
    "print(sock_merchant([]) )"
   ]
  },
  {
   "cell_type": "markdown",
   "metadata": {},
   "source": [
    "# 5. Create a function that takes a string containing integers as well as other characters and return the sum of the negative integers only."
   ]
  },
  {
   "cell_type": "code",
   "execution_count": 21,
   "metadata": {},
   "outputs": [
    {
     "name": "stdout",
     "output_type": "stream",
     "text": [
      "-23\n",
      "-33\n"
     ]
    }
   ],
   "source": [
    "import re\n",
    "def negative_sum(s):\n",
    "    p=r'-\\d+'\n",
    "    return sum([int(x) for x in re.findall(p,s)])\n",
    "\n",
    "print(negative_sum(\"-12 13%14&-11\") )\n",
    "print(negative_sum(\"22 13%14&-11-22 13 12\") )"
   ]
  }
 ],
 "metadata": {
  "kernelspec": {
   "display_name": "Python 3",
   "language": "python",
   "name": "python3"
  },
  "language_info": {
   "codemirror_mode": {
    "name": "ipython",
    "version": 3
   },
   "file_extension": ".py",
   "mimetype": "text/x-python",
   "name": "python",
   "nbconvert_exporter": "python",
   "pygments_lexer": "ipython3",
   "version": "3.7.2"
  }
 },
 "nbformat": 4,
 "nbformat_minor": 2
}
