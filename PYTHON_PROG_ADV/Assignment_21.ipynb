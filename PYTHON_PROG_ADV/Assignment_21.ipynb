{
 "cells": [
  {
   "cell_type": "markdown",
   "metadata": {},
   "source": [
    "# 1. Given a sentence, return the number of words which have the same first and last letter."
   ]
  },
  {
   "cell_type": "code",
   "execution_count": 1,
   "metadata": {},
   "outputs": [
    {
     "name": "stdout",
     "output_type": "stream",
     "text": [
      "1\n",
      "0\n",
      "1\n"
     ]
    }
   ],
   "source": [
    "import re\n",
    "count_same_ends = lambda s : len(re.findall(r'\\b([a-z])[a-z]*\\1\\b',s, re.I))\n",
    "\n",
    "print(count_same_ends(\"Pop! goes the balloon\") )\n",
    "print(count_same_ends(\"And the crowd goes wild\"))\n",
    "print(count_same_ends(\"No I am not in a gang.\") )"
   ]
  },
  {
   "cell_type": "markdown",
   "metadata": {},
   "source": [
    "# 2. The Atbash cipher is an encryption method in which each letter of a word is replaced with its \"mirror\" letter "
   ]
  },
  {
   "cell_type": "code",
   "execution_count": 2,
   "metadata": {},
   "outputs": [
    {
     "name": "stdout",
     "output_type": "stream",
     "text": [
      "zkkov\n",
      "Svool dliow!\n",
      "Xsirhgnzh rh gsv 25gs lu Wvxvnyvi\n"
     ]
    }
   ],
   "source": [
    "atbash = lambda s: \"\".join([chr(ord('Z')+ord('A')-ord(c)) if c >= 'A' and c<= 'Z'\n",
    "                   else chr(ord('z')+ord('a')-ord(c)) if c >= 'a' and c<= 'z'\n",
    "                   else c \n",
    "                   for c in s])\n",
    "\n",
    "print(atbash(\"apple\") )\n",
    "print(atbash(\"Hello world!\") )\n",
    "print(atbash(\"Christmas is the 25th of December\") )"
   ]
  },
  {
   "cell_type": "markdown",
   "metadata": {},
   "source": [
    "# 3. Create a class Employee that will take a full name as argument, as well as a set of none"
   ]
  },
  {
   "cell_type": "code",
   "execution_count": 3,
   "metadata": {},
   "outputs": [
    {
     "name": "stdout",
     "output_type": "stream",
     "text": [
      "John Major 178 Italian\n"
     ]
    }
   ],
   "source": [
    "class Employee:\n",
    "    def __init__(self, fname, **kw):\n",
    "        self.fullname = fname\n",
    "        self.name = fname.split()[0]\n",
    "        self.lastname = fname.split()[1]\n",
    "        for k,v in kw.items():\n",
    "            setattr(self,k,v)\n",
    "            \n",
    "john = Employee(\"John Doe\")\n",
    "mary = Employee(\"Mary Major\", salary=120000)\n",
    "richard = Employee(\"Richard Roe\", salary=110000, height=178)\n",
    "giancarlo = Employee(\"Giancarlo Rossi\", salary=115000, height=182, nationality=\"Italian\")\n",
    "\n",
    "print(john.name, mary.lastname, richard.height, giancarlo.nationality)\n",
    "            "
   ]
  },
  {
   "cell_type": "markdown",
   "metadata": {},
   "source": [
    "# 4. Create a function that determines whether each seat can \"see\" the front-stage"
   ]
  },
  {
   "cell_type": "code",
   "execution_count": 4,
   "metadata": {},
   "outputs": [
    {
     "name": "stdout",
     "output_type": "stream",
     "text": [
      "True\n",
      "False\n",
      "False\n"
     ]
    }
   ],
   "source": [
    "def can_see_stage(lst):\n",
    "    col = len(lst[0])\n",
    "    for i in range(col):\n",
    "        for j in range(len(lst)-1):\n",
    "            if lst[j][i] >= lst[j+1][i]:\n",
    "                return False\n",
    "            \n",
    "    return True\n",
    "\n",
    "print(can_see_stage([\n",
    "  [1, 2, 3],\n",
    "  [4, 5, 6],\n",
    "  [7, 8, 9]\n",
    "]) \n",
    ")\n",
    "\n",
    "print(can_see_stage([\n",
    "  [1, 0, 0],\n",
    "  [1, 1, 1],\n",
    "  [2, 2, 2]\n",
    "]) \n",
    ")\n",
    "\n",
    "print(can_see_stage([[1, 2, 3, 2, 1, 1], \n",
    "[2, 4, 4, 3, 2, 2], \n",
    "[5, 5, 5, 10, 4, 4], \n",
    "[6, 6, 7, 6, 5, 5]]\n",
    "))"
   ]
  },
  {
   "cell_type": "markdown",
   "metadata": {},
   "source": [
    "# 5. Create a Pizza class with the attributes order_number and ingredients (which is given as a list). "
   ]
  },
  {
   "cell_type": "code",
   "execution_count": 1,
   "metadata": {},
   "outputs": [
    {
     "name": "stdout",
     "output_type": "stream",
     "text": [
      "['bacon', 'parmesan', 'ham'] 1\n",
      "['spinach', 'olive', 'mushroom'] 2\n"
     ]
    }
   ],
   "source": [
    "class Pizza:\n",
    "    __order_num = 0\n",
    "    \n",
    "    @classmethod\n",
    "    def hawaiian(cls):\n",
    "        return Pizza(['ham','pinapple'])\n",
    "    \n",
    "    @classmethod\n",
    "    def meat_festival(cls):\n",
    "        return Pizza(['beef','meatball','bacon'])\n",
    "    \n",
    "    @classmethod\n",
    "    def garden_feast(cls):\n",
    "        return Pizza(['spinach','olive','mushroom'])\n",
    "    \n",
    "    def __init__(self,ingredients):\n",
    "        self.ingredients = ingredients\n",
    "        Pizza.__order_num += 1\n",
    "        self.order_number = Pizza.__order_num\n",
    "        \n",
    "p1 = Pizza([\"bacon\", \"parmesan\", \"ham\"]) \n",
    "p2 = Pizza.garden_feast()\n",
    "\n",
    "print(p1.ingredients, p1.order_number)\n",
    "print(p2.ingredients, p2.order_number)       "
   ]
  },
  {
   "cell_type": "code",
   "execution_count": null,
   "metadata": {},
   "outputs": [],
   "source": []
  }
 ],
 "metadata": {
  "kernelspec": {
   "display_name": "Python 3",
   "language": "python",
   "name": "python3"
  },
  "language_info": {
   "codemirror_mode": {
    "name": "ipython",
    "version": 3
   },
   "file_extension": ".py",
   "mimetype": "text/x-python",
   "name": "python",
   "nbconvert_exporter": "python",
   "pygments_lexer": "ipython3",
   "version": "3.7.2"
  }
 },
 "nbformat": 4,
 "nbformat_minor": 2
}
