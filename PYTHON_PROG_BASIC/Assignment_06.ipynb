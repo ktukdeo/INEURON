{
 "cells": [
  {
   "cell_type": "markdown",
   "metadata": {},
   "source": [
    "# 1.\tWrite a Python Program to Display Fibonacci Sequence Using Recursion?"
   ]
  },
  {
   "cell_type": "code",
   "execution_count": 2,
   "metadata": {},
   "outputs": [
    {
     "name": "stdout",
     "output_type": "stream",
     "text": [
      "1  1  2  3  5  8  13  21  34  55  89  144  233  377  610  987  1597  2584  4181  6765  "
     ]
    }
   ],
   "source": [
    "hist={}\n",
    "def fib(num):\n",
    "    if num in [0,1]: return num\n",
    "    if num in hist:\n",
    "        return hist[num]\n",
    "    else:\n",
    "        n = fib(num-1) + fib(num-2)\n",
    "        hist[num] = n\n",
    "        return n\n",
    "\n",
    "for i in range(1,21):\n",
    "    print(fib(i), end='  ')\n",
    "    "
   ]
  },
  {
   "cell_type": "markdown",
   "metadata": {},
   "source": [
    "# 2.\tWrite a Python Program to Find Factorial of Number Using Recursion?"
   ]
  },
  {
   "cell_type": "code",
   "execution_count": 3,
   "metadata": {},
   "outputs": [
    {
     "name": "stdout",
     "output_type": "stream",
     "text": [
      "1  2  6  24  120  720  5040  40320  362880  3628800  "
     ]
    }
   ],
   "source": [
    "hist={}\n",
    "def fact(num):\n",
    "    if num==1: return 1\n",
    "    if num in hist:\n",
    "        return hist[num]\n",
    "    else:\n",
    "        n = fact(num-1)*num\n",
    "        hist[num]=n\n",
    "        return n\n",
    "\n",
    "for i in range(1,11):\n",
    "    print(fact(i), end='  ')"
   ]
  },
  {
   "cell_type": "markdown",
   "metadata": {},
   "source": [
    "# 3.\tWrite a Python Program to calculate your Body Mass Index?"
   ]
  },
  {
   "cell_type": "code",
   "execution_count": 4,
   "metadata": {},
   "outputs": [
    {
     "name": "stdout",
     "output_type": "stream",
     "text": [
      "Enter weighht in kg: 65\n",
      "Enter height in meter: 1.55\n",
      "BMI:  27.06     Overweight\n"
     ]
    }
   ],
   "source": [
    "weight = float(input(\"Enter weighht in kg: \"))\n",
    "height = float(input(\"Enter height in meter: \"))\n",
    "bmi = round(weight/(height * height),2)\n",
    "print(\"BMI: \",bmi,\"   \",\"Underweight\" if bmi < 18.5 else \"Normalweight\" if bmi < 25 else \"Overweight\")"
   ]
  },
  {
   "cell_type": "markdown",
   "metadata": {},
   "source": [
    "# 4.\tWrite a Python Program to calculate the natural logarithm of any number?"
   ]
  },
  {
   "cell_type": "code",
   "execution_count": 8,
   "metadata": {},
   "outputs": [
    {
     "name": "stdout",
     "output_type": "stream",
     "text": [
      "Enter number: 3\n",
      "Log:  1.0986122886681098\n"
     ]
    }
   ],
   "source": [
    "import math\n",
    "num = float(input(\"Enter number: \"))\n",
    "if num <= 0 :\n",
    "    print(\"Invalid Input value\")\n",
    "else:\n",
    "    print(\"Log: \",math.log(num))"
   ]
  },
  {
   "cell_type": "markdown",
   "metadata": {},
   "source": [
    "# 5.\tWrite a Python Program for cube sum of first n natural numbers?"
   ]
  },
  {
   "cell_type": "code",
   "execution_count": 9,
   "metadata": {},
   "outputs": [
    {
     "name": "stdout",
     "output_type": "stream",
     "text": [
      "Enter number: 6\n",
      "Cube sum:  441\n"
     ]
    }
   ],
   "source": [
    "num = int(input(\"Enter number: \"))\n",
    "if num <=0 :\n",
    "    print(\"Invalid Input\")\n",
    "else:\n",
    "    print(\"Cube sum: \",sum([x**3 for x in range(1,num+1)]))"
   ]
  }
 ],
 "metadata": {
  "kernelspec": {
   "display_name": "Python 3",
   "language": "python",
   "name": "python3"
  },
  "language_info": {
   "codemirror_mode": {
    "name": "ipython",
    "version": 3
   },
   "file_extension": ".py",
   "mimetype": "text/x-python",
   "name": "python",
   "nbconvert_exporter": "python",
   "pygments_lexer": "ipython3",
   "version": "3.7.2"
  }
 },
 "nbformat": 4,
 "nbformat_minor": 2
}
