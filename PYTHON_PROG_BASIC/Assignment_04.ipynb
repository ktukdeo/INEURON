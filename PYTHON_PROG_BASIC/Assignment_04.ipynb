{
 "cells": [
  {
   "cell_type": "markdown",
   "metadata": {},
   "source": [
    "# 1.\tWrite a Python Program to Find the Factorial of a Number?"
   ]
  },
  {
   "cell_type": "code",
   "execution_count": 1,
   "metadata": {},
   "outputs": [
    {
     "name": "stdout",
     "output_type": "stream",
     "text": [
      "Enter #: 5\n",
      "Factorial is:  120\n"
     ]
    }
   ],
   "source": [
    "def fact(num):\n",
    "    assert num >= 0, \"Invalid Number\"\n",
    "    f = 1\n",
    "    for i in range(1,num+1):\n",
    "        f *= i\n",
    "    return f\n",
    "\n",
    "num = int(input(\"Enter #: \"))\n",
    "print(\"Factorial is: \",fact(num))"
   ]
  },
  {
   "cell_type": "markdown",
   "metadata": {},
   "source": [
    "# 2.\tWrite a Python Program to Display the multiplication Table?"
   ]
  },
  {
   "cell_type": "code",
   "execution_count": 3,
   "metadata": {},
   "outputs": [
    {
     "name": "stdout",
     "output_type": "stream",
     "text": [
      "Enter #: 28\n",
      "28  X   1  =    28\n",
      "28  X   2  =    56\n",
      "28  X   3  =    84\n",
      "28  X   4  =   112\n",
      "28  X   5  =   140\n",
      "28  X   6  =   168\n",
      "28  X   7  =   196\n",
      "28  X   8  =   224\n",
      "28  X   9  =   252\n",
      "28  X  10  =   280\n"
     ]
    }
   ],
   "source": [
    "def mult_table(num):\n",
    "    assert num > 0, \"Invalid Input\"\n",
    "    ln = len(str(num))\n",
    "    for i in range(1,11):\n",
    "        print(num,' X ',str(i).rjust(2),' = ',str(num*i).rjust(ln+2))\n",
    "\n",
    "num = int(input('Enter #: '))\n",
    "mult_table(num)"
   ]
  },
  {
   "cell_type": "markdown",
   "metadata": {},
   "source": [
    "# 3.\tWrite a Python Program to Print the Fibonacci sequence?"
   ]
  },
  {
   "cell_type": "code",
   "execution_count": 7,
   "metadata": {},
   "outputs": [
    {
     "name": "stdout",
     "output_type": "stream",
     "text": [
      "Enter # 10\n",
      "1 2 3 5 8 13 21 34 55 89 "
     ]
    }
   ],
   "source": [
    "def fib(num):\n",
    "    prev=0\n",
    "    curr=1\n",
    "    for i in range(num):\n",
    "        val = prev+curr\n",
    "        print(val, end=' ')\n",
    "        prev=curr\n",
    "        curr=val\n",
    "\n",
    "num=int(input(\"Enter # \"))\n",
    "fib(num)"
   ]
  },
  {
   "cell_type": "markdown",
   "metadata": {},
   "source": [
    "# 4.\tWrite a Python Program to Check Armstrong Number?"
   ]
  },
  {
   "cell_type": "code",
   "execution_count": 12,
   "metadata": {},
   "outputs": [
    {
     "name": "stdout",
     "output_type": "stream",
     "text": [
      "Enter # 370\n",
      "Is Armstrong Number:  True\n"
     ]
    }
   ],
   "source": [
    "def isArmstrong(num):\n",
    "    snum = str(num)\n",
    "    lpow = len(snum)\n",
    "    val = 0\n",
    "    for i in range(lpow):\n",
    "        val += int(snum[i:i+1])**lpow\n",
    "    return val == num\n",
    "\n",
    "num = int(input(\"Enter # \"))\n",
    "print(\"Is Armstrong Number: \",isArmstrong(num))"
   ]
  },
  {
   "cell_type": "markdown",
   "metadata": {},
   "source": [
    "# 5.\tWrite a Python Program to Find Armstrong Number in an Interval?"
   ]
  },
  {
   "cell_type": "code",
   "execution_count": 14,
   "metadata": {},
   "outputs": [
    {
     "name": "stdout",
     "output_type": "stream",
     "text": [
      "Start # 1\n",
      "End # 500\n",
      "1 2 3 4 5 6 7 8 9 153 370 371 407 "
     ]
    }
   ],
   "source": [
    "start,end = int(input(\"Start # \")), int(input(\"End # \"))\n",
    "for i in range(start,end+1):\n",
    "    if isArmstrong(i):\n",
    "        print(i, end=' ')"
   ]
  },
  {
   "cell_type": "markdown",
   "metadata": {},
   "source": [
    "# 6.\tWrite a Python Program to Find the Sum of Natural Numbers?"
   ]
  },
  {
   "cell_type": "code",
   "execution_count": 22,
   "metadata": {},
   "outputs": [
    {
     "name": "stdout",
     "output_type": "stream",
     "text": [
      "Enter # 10\n",
      "Sum :  55\n"
     ]
    }
   ],
   "source": [
    "num = int(input(\"Enter # \"))\n",
    "print(\"Sum : \",(num*(num+1))//2)"
   ]
  }
 ],
 "metadata": {
  "kernelspec": {
   "display_name": "Python 3",
   "language": "python",
   "name": "python3"
  },
  "language_info": {
   "codemirror_mode": {
    "name": "ipython",
    "version": 3
   },
   "file_extension": ".py",
   "mimetype": "text/x-python",
   "name": "python",
   "nbconvert_exporter": "python",
   "pygments_lexer": "ipython3",
   "version": "3.7.2"
  }
 },
 "nbformat": 4,
 "nbformat_minor": 2
}
