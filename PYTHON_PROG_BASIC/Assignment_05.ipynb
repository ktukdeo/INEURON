{
 "cells": [
  {
   "cell_type": "markdown",
   "metadata": {},
   "source": [
    "# 1.\tWrite a Python Program to Find LCM?"
   ]
  },
  {
   "cell_type": "code",
   "execution_count": 14,
   "metadata": {},
   "outputs": [
    {
     "name": "stdout",
     "output_type": "stream",
     "text": [
      "List:  [10, 24, 42, 28]\n",
      "LCM:  840\n"
     ]
    }
   ],
   "source": [
    "#The function returns all prime factors as a tuple.(Prime and exponent)\n",
    "#eg - 24 returns [(2,3), (3,1)] - 2**3 * 3**1 = 24\n",
    "def get_prime_factors(num):\n",
    "    \n",
    "    def get_multiples(num,f):\n",
    "        n = 0\n",
    "        while num%f==0:\n",
    "            num = num//f\n",
    "            n += 1\n",
    "        return num,n\n",
    "\n",
    "\n",
    "    pf = []\n",
    "    f = 2\n",
    "    num, n = get_multiples(num,f)\n",
    "    if n > 0:pf.append((f,n))\n",
    "    f = 3\n",
    "    while num != 1:\n",
    "        num,n = get_multiples(num,f)\n",
    "        if n>0:pf.append((f,n))\n",
    "        f += 2\n",
    "     \n",
    "    return pf\n",
    "\n",
    "#lcm function is flexible to work on list of any size.\n",
    "#The function first collects all tuples returned by prime factors then takes primes with highest exponents.\n",
    "#eg - 12 - [(2,2),(3,1)]     90 - [(2,1),(3,2),(5,1)]\n",
    "# lcm will combine them all in ascending -  [(2,1),(2,2),(3,1),(3,2),(5,1)]\n",
    "#Now only choose primes with highest second element in tuple.  -  (2,2), (3,2), (5,1) \n",
    "#lcm is 2**2 * 3**2 * 5**1 = 180\n",
    "\n",
    "def lcm(numbers):\n",
    "    pf = []\n",
    "\n",
    "    for num in numbers:\n",
    "        pf.extend(get_prime_factors(num))\n",
    "    val = 1\n",
    "    pf.sort()\n",
    "    \n",
    "    #dict(pf) will select unique prime elements with highest exponential value(ie 2nd element in tuple)\n",
    "    for k,v in dict(pf).items():\n",
    "        val *= k**v\n",
    "    return val\n",
    "\n",
    "numbers = [10,24,42, 28]\n",
    "print('List: ',numbers)\n",
    "print('LCM: ',lcm(numbers))"
   ]
  },
  {
   "cell_type": "markdown",
   "metadata": {},
   "source": [
    "# 2.\tWrite a Python Program to Find HCF?"
   ]
  },
  {
   "cell_type": "code",
   "execution_count": 22,
   "metadata": {},
   "outputs": [
    {
     "name": "stdout",
     "output_type": "stream",
     "text": [
      "List:  [48, 72, 120, 132]\n",
      "HCM:  12\n"
     ]
    }
   ],
   "source": [
    "#The program is generic and can take any no of numbers. It first calculates prime factors for each number.\n",
    "#Then it finds the tuple with lowest count which is lowest denomination. It accummulates all these and then multiply.\n",
    "#eg 48 - [(2,4),(3,1)]  -- 2**4 * 3**1 = 48\n",
    "#180 -  [(2,2),(3,2),(5,1)]  -- 2**2 * 3**2 * 5**1 = 180\n",
    "#Both lists contain 2 and 3 and lowest value of 2nd element is 2 and 1 respectively. as common.\n",
    "#and hence HCF = 2**2 * 3**1 = 12\n",
    "\n",
    "def hcm(numbers):\n",
    "    pf = []\n",
    "    ln = len(numbers)\n",
    "    for num in numbers:\n",
    "        pf.extend(get_prime_factors(num))\n",
    "    val = 1;n1=0;n2=0;cnt=0\n",
    "    pf.sort()\n",
    "    \n",
    "    for x in pf:\n",
    "        if n1 != x[0]:\n",
    "            n1=x[0]; n2=x[1]; cnt = 1\n",
    "        else:\n",
    "            cnt += 1\n",
    "            # This condition will ensure that prime element is present in all numbers of the list\n",
    "            if cnt==ln:\n",
    "                val *= n1**n2\n",
    "    return val\n",
    "\n",
    "numbers = [48,72,120,132]\n",
    "print('List: ',numbers)\n",
    "print('HCM: ',hcm(numbers))"
   ]
  },
  {
   "cell_type": "markdown",
   "metadata": {},
   "source": [
    "# 3.\tWrite a Python Program to Convert Decimal to Binary, Octal and Hexadecimal?"
   ]
  },
  {
   "cell_type": "code",
   "execution_count": 52,
   "metadata": {},
   "outputs": [
    {
     "name": "stdout",
     "output_type": "stream",
     "text": [
      "Enter # 29\n",
      "Decimal No:  29\n",
      "Binary:    0b11101\n",
      "Octal:     0o35\n",
      "Hex:       0x1D\n"
     ]
    }
   ],
   "source": [
    "def convert(num,base):\n",
    "    if num==0: return [0]\n",
    "    cnv = []\n",
    "    while num !=0:\n",
    "        n1 = num%base\n",
    "        c1 = str(n1) if n1 < 10 else chr(ord('A')+(n1-10))\n",
    "        cnv.append(c1)\n",
    "        num = num//base\n",
    "    return cnv[::-1]\n",
    "\n",
    "num=int(input(\"Enter # \"))\n",
    "\n",
    "print('Decimal No: ',num)\n",
    "print('Binary:   ',\"0b\"+\"\".join(convert(num,2)))\n",
    "print('Octal:    ','0o'+\"\".join(convert(num,8)))\n",
    "print('Hex:      ','0x'+\"\".join(convert(num,16)))"
   ]
  },
  {
   "cell_type": "markdown",
   "metadata": {},
   "source": [
    "# 4.\tWrite a Python Program To Find ASCII value of a character?"
   ]
  },
  {
   "cell_type": "code",
   "execution_count": 53,
   "metadata": {},
   "outputs": [
    {
     "name": "stdout",
     "output_type": "stream",
     "text": [
      "Enter char: d\n",
      "Char  d   Ascii:  100\n"
     ]
    }
   ],
   "source": [
    "c = input(\"Enter char: \")\n",
    "print('Char ',c,'  Ascii: ',ord(c))"
   ]
  },
  {
   "cell_type": "markdown",
   "metadata": {},
   "source": [
    "# 5.\tWrite a Python Program to Make a Simple Calculator with 4 basic mathematical operations?"
   ]
  },
  {
   "cell_type": "code",
   "execution_count": 56,
   "metadata": {},
   "outputs": [
    {
     "name": "stdout",
     "output_type": "stream",
     "text": [
      "Enter val1: 23.2\n",
      "Operator: +\n",
      "Enter val2: 6.28\n"
     ]
    },
    {
     "data": {
      "text/plain": [
       "29.48"
      ]
     },
     "execution_count": 56,
     "metadata": {},
     "output_type": "execute_result"
    }
   ],
   "source": [
    "calculate = {\n",
    "    '+': lambda x,y: x+y,\n",
    "    '-': lambda x,y: x-y,\n",
    "    '*': lambda x,y: x*y,\n",
    "    '/': lambda x,y: x/y\n",
    "}\n",
    "\n",
    "x,op,y=float(input(\"Enter val1: \")), input(\"Operator +-*/: \"),float(input(\"Enter val2: \"))\n",
    "calculate[op](x,y)"
   ]
  }
 ],
 "metadata": {
  "kernelspec": {
   "display_name": "Python 3",
   "language": "python",
   "name": "python3"
  },
  "language_info": {
   "codemirror_mode": {
    "name": "ipython",
    "version": 3
   },
   "file_extension": ".py",
   "mimetype": "text/x-python",
   "name": "python",
   "nbconvert_exporter": "python",
   "pygments_lexer": "ipython3",
   "version": "3.7.2"
  }
 },
 "nbformat": 4,
 "nbformat_minor": 2
}
