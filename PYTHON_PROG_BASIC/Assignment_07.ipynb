{
 "cells": [
  {
   "cell_type": "markdown",
   "metadata": {},
   "source": [
    "# 1.\tWrite a Python Program to find sum of array?"
   ]
  },
  {
   "cell_type": "code",
   "execution_count": 1,
   "metadata": {},
   "outputs": [
    {
     "name": "stdout",
     "output_type": "stream",
     "text": [
      "array('i', [3, 6, 1, 9])     19\n"
     ]
    }
   ],
   "source": [
    "import array as arr\n",
    "x = arr.array('i',[3,6,1,9])\n",
    "print(x,'   ',sum(x))"
   ]
  },
  {
   "cell_type": "markdown",
   "metadata": {},
   "source": [
    "# 2.\tWrite a Python Program to find largest element in an array?"
   ]
  },
  {
   "cell_type": "code",
   "execution_count": 2,
   "metadata": {},
   "outputs": [
    {
     "name": "stdout",
     "output_type": "stream",
     "text": [
      "array('i', [3, 6, 1, 9])     9\n"
     ]
    }
   ],
   "source": [
    "import array as arr\n",
    "x = arr.array('i',[3,6,1,9])\n",
    "print(x,'   ',max(x))"
   ]
  },
  {
   "cell_type": "markdown",
   "metadata": {},
   "source": [
    "# 3.\tWrite a Python Program for array rotation?"
   ]
  },
  {
   "cell_type": "code",
   "execution_count": 19,
   "metadata": {
    "scrolled": true
   },
   "outputs": [
    {
     "name": "stdout",
     "output_type": "stream",
     "text": [
      "Original:  array('i', [3, 6, 1, 9, 7, 12, 13])\n",
      "Rotation by 5:  array('i', [1, 9, 7, 12, 13, 3, 6])\n",
      "\n",
      "\n",
      "Original:  array('i', [3, 6, 1, 9, 7, 12, 13])\n",
      "Rotation by -5:  array('i', [12, 13, 3, 6, 1, 9, 7])\n"
     ]
    }
   ],
   "source": [
    "#rotate array by nr elements\n",
    "#Function takes 2 elements. array and displacement length. If +ve, it will be right rotation else left rotation\n",
    "def rotate(narr,nr):\n",
    "    ln = len(narr)\n",
    "    nr = (abs(nr)//nr) * (abs(nr)%ln)\n",
    "    if nr > 0:\n",
    "        narr[:] = narr[(ln-nr):] + narr[:(ln-nr)]\n",
    "    else:\n",
    "        nr *= -1\n",
    "        narr[:] = narr[-(ln-nr):] + narr[:nr]\n",
    "    \n",
    "x = arr.array('i',[3,6,1,9,7,12,13])\n",
    "print('Original: ',x)\n",
    "rotate(x,5)\n",
    "print('Rotation by 5: ',x)\n",
    "print('\\n')\n",
    "x = arr.array('i',[3,6,1,9,7,12,13])\n",
    "print('Original: ',x)\n",
    "rotate(x,-5)\n",
    "print('Rotation by -5: ',x)"
   ]
  },
  {
   "cell_type": "markdown",
   "metadata": {},
   "source": [
    "# 4.\tWrite a Python Program to Split the array and add the first part to the end?"
   ]
  },
  {
   "cell_type": "code",
   "execution_count": 21,
   "metadata": {},
   "outputs": [
    {
     "name": "stdout",
     "output_type": "stream",
     "text": [
      "Original:  array('i', [3, 6, 1, 9, 7, 12, 13])\n",
      "Array split:  array('i', [9, 7, 12, 13, 3, 6, 1])\n"
     ]
    }
   ],
   "source": [
    "def f(narr,n):\n",
    "    narr[:] = narr[n:] + narr[:n]\n",
    "\n",
    "x = arr.array('i',[3,6,1,9,7,12,13])\n",
    "print('Original: ',x)\n",
    "f(x,3)\n",
    "print(\"Array split: \",x)"
   ]
  },
  {
   "cell_type": "markdown",
   "metadata": {},
   "source": [
    "# 5.\tWrite a Python Program to check if given array is Monotonic?"
   ]
  },
  {
   "cell_type": "code",
   "execution_count": 25,
   "metadata": {},
   "outputs": [
    {
     "name": "stdout",
     "output_type": "stream",
     "text": [
      "array('i', [-2, 3, 3, 5, 5, 9, 11])    Monotonically  Increasing\n",
      "array('i', [9, 8, 8, 6, 6, 4])    Monotonically  Decreasing\n",
      "array('i', [2, 2, 5, 5, 3, 7, 9])    Not Monotonic\n"
     ]
    }
   ],
   "source": [
    "def is_monotonic(narr):\n",
    "    x = narr[0];c1='eq';val=True\n",
    "    for i in range(len(narr)):\n",
    "        if (x > narr[i] and c1 != 'gt'):\n",
    "            c1='lt'; x=narr[i]\n",
    "        elif (x < narr[i] and c1 != 'lt'):\n",
    "            c1='gt'; x=narr[i]\n",
    "        elif x==narr[i]:\n",
    "            pass\n",
    "        else:\n",
    "            val=False\n",
    "    if val:\n",
    "        print(narr,'  ','Monotonically ','Increasing' if c1=='gt' else 'Decreasing' if c1=='lt' else 'Same')\n",
    "    else:\n",
    "        print(narr,'  ','Not Monotonic')\n",
    "    return val\n",
    "\n",
    "x = arr.array('i',[-2,3,3,5,5,9,11])\n",
    "val= is_monotonic(x)\n",
    "\n",
    "x = arr.array('i',[9,8,8,6,6,4])\n",
    "val= is_monotonic(x)\n",
    "\n",
    "x = arr.array('i',[2,2,5,5,3,7,9])\n",
    "val = is_monotonic(x)"
   ]
  },
  {
   "cell_type": "code",
   "execution_count": null,
   "metadata": {},
   "outputs": [],
   "source": []
  }
 ],
 "metadata": {
  "kernelspec": {
   "display_name": "Python 3",
   "language": "python",
   "name": "python3"
  },
  "language_info": {
   "codemirror_mode": {
    "name": "ipython",
    "version": 3
   },
   "file_extension": ".py",
   "mimetype": "text/x-python",
   "name": "python",
   "nbconvert_exporter": "python",
   "pygments_lexer": "ipython3",
   "version": "3.7.2"
  }
 },
 "nbformat": 4,
 "nbformat_minor": 2
}
