{
 "cells": [
  {
   "cell_type": "markdown",
   "metadata": {},
   "source": [
    "# 1.\tWrite a Python program to print \"Hello Python\"?"
   ]
  },
  {
   "cell_type": "code",
   "execution_count": 14,
   "metadata": {},
   "outputs": [
    {
     "name": "stdout",
     "output_type": "stream",
     "text": [
      "Hello Python\n"
     ]
    }
   ],
   "source": [
    "print(\"Hello Python\")"
   ]
  },
  {
   "cell_type": "markdown",
   "metadata": {},
   "source": [
    "# 2.\tWrite a Python program to do arithmetical operations addition and division.?"
   ]
  },
  {
   "cell_type": "code",
   "execution_count": 17,
   "metadata": {},
   "outputs": [
    {
     "name": "stdout",
     "output_type": "stream",
     "text": [
      "First No: 5\n",
      "Second No: 12\n",
      "Addition:  17.0\n",
      "Division:  0.4166666666666667\n"
     ]
    }
   ],
   "source": [
    "n1 = float(input(\"First No: \"))\n",
    "n2 = float(input(\"Second No: \"))\n",
    "print(\"Addition: \",n1+n2)\n",
    "if n2==0:print(\"Division by 0 error. Invalid Input\")\n",
    "else:print(\"Division: \",n1/n2)"
   ]
  },
  {
   "cell_type": "markdown",
   "metadata": {},
   "source": [
    "# 3.\tWrite a Python program to find the area of a triangle?"
   ]
  },
  {
   "cell_type": "code",
   "execution_count": 55,
   "metadata": {},
   "outputs": [
    {
     "name": "stdout",
     "output_type": "stream",
     "text": [
      "Side1: 3\n",
      "Side2: 4\n",
      "Side3 5\n",
      "Area of Triangle using Heron's Formula:  6.0\n"
     ]
    }
   ],
   "source": [
    "try:\n",
    "    a,b,c=float(input(\"Side1: \")),float(input(\"Side2: \")),float(input(\"Side3 \"))\n",
    "    sides = [a,b,c]\n",
    "    sides.sort()\n",
    "\n",
    "    if [x for x in sides if x <= 0 ] or sides[0]+sides[1] <= sides[2]:\n",
    "        print(\"Invalid Sides. Sides must be positive and sum of 2 sides must be greater than third side.\")\n",
    "    else:\n",
    "        rho = sum(sides)/2\n",
    "        print(\"Area of Triangle using Heron's Formula: \",(rho*(rho-a)*(rho-b)*(rho-c)) **0.5 )\n",
    "except:\n",
    "    print(\"Invalid Input.\")\n"
   ]
  },
  {
   "cell_type": "markdown",
   "metadata": {},
   "source": [
    "# 4.\tWrite a Python program to swap two variables?"
   ]
  },
  {
   "cell_type": "code",
   "execution_count": 56,
   "metadata": {},
   "outputs": [
    {
     "name": "stdout",
     "output_type": "stream",
     "text": [
      "no1: 5\n",
      "no2: 12\n",
      "Original a,b : 5 12\n",
      "After swap a,b : 12 5\n"
     ]
    }
   ],
   "source": [
    "a,b = input(\"no1: \"), input(\"no2: \")\n",
    "print(\"Original a,b :\",a,b)\n",
    "a,b=b,a\n",
    "print(\"After swap a,b :\",a,b)"
   ]
  },
  {
   "cell_type": "markdown",
   "metadata": {},
   "source": [
    "# 5.\tWrite a Python program to generate a random number?"
   ]
  },
  {
   "cell_type": "code",
   "execution_count": 72,
   "metadata": {},
   "outputs": [
    {
     "name": "stdout",
     "output_type": "stream",
     "text": [
      "Random No between 0-1:  0.910808544552101\n",
      "Random between 0-100(scaled):  17.070070818263595\n",
      "Random integer between range 0-20:  15\n",
      "Random choice:  3\n"
     ]
    }
   ],
   "source": [
    "import random\n",
    "print(\"Random No between 0-1: \",random.random())\n",
    "print(\"Random between 0-100(scaled): \",random.random()*100)\n",
    "print(\"Random integer between range 0-20: \",random.randint(0,20))\n",
    "print(\"Random choice: \",random.choice([5,12,3,1]))"
   ]
  }
 ],
 "metadata": {
  "kernelspec": {
   "display_name": "Python 3",
   "language": "python",
   "name": "python3"
  },
  "language_info": {
   "codemirror_mode": {
    "name": "ipython",
    "version": 3
   },
   "file_extension": ".py",
   "mimetype": "text/x-python",
   "name": "python",
   "nbconvert_exporter": "python",
   "pygments_lexer": "ipython3",
   "version": "3.7.2"
  }
 },
 "nbformat": 4,
 "nbformat_minor": 2
}
